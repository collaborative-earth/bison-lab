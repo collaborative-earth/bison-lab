{
 "cells": [
  {
   "cell_type": "code",
   "execution_count": null,
   "id": "ef111c75",
   "metadata": {},
   "outputs": [],
   "source": [
    "%load_ext autoreload\n",
    "%autoreload 2"
   ]
  },
  {
   "cell_type": "code",
   "execution_count": null,
   "id": "8d97d154",
   "metadata": {},
   "outputs": [],
   "source": [
    "import ee\n",
    "import folium\n",
    "\n",
    "from bisonlab.aoi import kpbs"
   ]
  },
  {
   "cell_type": "markdown",
   "id": "da7d82ed",
   "metadata": {},
   "source": [
    "Authentication requires a Cloud Project to be setup. For step-by-step instructions see [Google Earth Engine: Python Installation](https://developers.google.com/earth-engine/guides/python_install#authentication)"
   ]
  },
  {
   "cell_type": "code",
   "execution_count": null,
   "id": "6940904a",
   "metadata": {},
   "outputs": [],
   "source": [
    "ee.Authenticate()\n",
    "ee.Initialize()"
   ]
  },
  {
   "cell_type": "markdown",
   "id": "54305e3f",
   "metadata": {},
   "source": [
    "# Konza Prairie Biological Station\n",
    "\n",
    "The [Konza Prairie Biological Station](https://kpbs.konza.k-state.edu/location/) (KPBS) is the study area referenced in:\n",
    "\n",
    "> Z. Ratajczak et al., Reintroducing bison results in long-running and resilient increases in grassland diversity. Proc. Natl. Acad. Sci. U.S.A. 119, e2210433119 (2022)."
   ]
  },
  {
   "cell_type": "code",
   "execution_count": null,
   "id": "e680c3a8",
   "metadata": {},
   "outputs": [],
   "source": [
    "bison_geometry = kpbs.bison()"
   ]
  },
  {
   "cell_type": "code",
   "execution_count": null,
   "id": "089dcc8b",
   "metadata": {
    "tags": [
     "keep_output"
    ]
   },
   "outputs": [
    {
     "data": {
      "text/html": [
       "<div style=\"width:100%;\"><div style=\"position:relative;width:100%;height:0;padding-bottom:60%;\"><span style=\"color:#565656\">Make this Notebook Trusted to load map: File -> Trust Notebook</span><iframe srcdoc=\"&lt;!DOCTYPE html&gt;\n",
       "&lt;head&gt;    \n",
       "    &lt;meta http-equiv=&quot;content-type&quot; content=&quot;text/html; charset=UTF-8&quot; /&gt;\n",
       "    \n",
       "        &lt;script&gt;\n",
       "            L_NO_TOUCH = false;\n",
       "            L_DISABLE_3D = false;\n",
       "        &lt;/script&gt;\n",
       "    \n",
       "    &lt;style&gt;html, body {width: 100%;height: 100%;margin: 0;padding: 0;}&lt;/style&gt;\n",
       "    &lt;style&gt;#map {position:absolute;top:0;bottom:0;right:0;left:0;}&lt;/style&gt;\n",
       "    &lt;script src=&quot;https://cdn.jsdelivr.net/npm/leaflet@1.6.0/dist/leaflet.js&quot;&gt;&lt;/script&gt;\n",
       "    &lt;script src=&quot;https://code.jquery.com/jquery-1.12.4.min.js&quot;&gt;&lt;/script&gt;\n",
       "    &lt;script src=&quot;https://maxcdn.bootstrapcdn.com/bootstrap/3.2.0/js/bootstrap.min.js&quot;&gt;&lt;/script&gt;\n",
       "    &lt;script src=&quot;https://cdnjs.cloudflare.com/ajax/libs/Leaflet.awesome-markers/2.0.2/leaflet.awesome-markers.js&quot;&gt;&lt;/script&gt;\n",
       "    &lt;link rel=&quot;stylesheet&quot; href=&quot;https://cdn.jsdelivr.net/npm/leaflet@1.6.0/dist/leaflet.css&quot;/&gt;\n",
       "    &lt;link rel=&quot;stylesheet&quot; href=&quot;https://maxcdn.bootstrapcdn.com/bootstrap/3.2.0/css/bootstrap.min.css&quot;/&gt;\n",
       "    &lt;link rel=&quot;stylesheet&quot; href=&quot;https://maxcdn.bootstrapcdn.com/bootstrap/3.2.0/css/bootstrap-theme.min.css&quot;/&gt;\n",
       "    &lt;link rel=&quot;stylesheet&quot; href=&quot;https://maxcdn.bootstrapcdn.com/font-awesome/4.6.3/css/font-awesome.min.css&quot;/&gt;\n",
       "    &lt;link rel=&quot;stylesheet&quot; href=&quot;https://cdnjs.cloudflare.com/ajax/libs/Leaflet.awesome-markers/2.0.2/leaflet.awesome-markers.css&quot;/&gt;\n",
       "    &lt;link rel=&quot;stylesheet&quot; href=&quot;https://cdn.jsdelivr.net/gh/python-visualization/folium/folium/templates/leaflet.awesome.rotate.min.css&quot;/&gt;\n",
       "    \n",
       "            &lt;meta name=&quot;viewport&quot; content=&quot;width=device-width,\n",
       "                initial-scale=1.0, maximum-scale=1.0, user-scalable=no&quot; /&gt;\n",
       "            &lt;style&gt;\n",
       "                #map_24ddb3777de0c2c343ffa97e4237f57c {\n",
       "                    position: relative;\n",
       "                    width: 100.0%;\n",
       "                    height: 100.0%;\n",
       "                    left: 0.0%;\n",
       "                    top: 0.0%;\n",
       "                }\n",
       "            &lt;/style&gt;\n",
       "        \n",
       "&lt;/head&gt;\n",
       "&lt;body&gt;    \n",
       "    \n",
       "            &lt;div class=&quot;folium-map&quot; id=&quot;map_24ddb3777de0c2c343ffa97e4237f57c&quot; &gt;&lt;/div&gt;\n",
       "        \n",
       "&lt;/body&gt;\n",
       "&lt;script&gt;    \n",
       "    \n",
       "            var map_24ddb3777de0c2c343ffa97e4237f57c = L.map(\n",
       "                &quot;map_24ddb3777de0c2c343ffa97e4237f57c&quot;,\n",
       "                {\n",
       "                    center: [39.086676318706246, -96.59015565147772],\n",
       "                    crs: L.CRS.EPSG3857,\n",
       "                    zoom: 13,\n",
       "                    zoomControl: true,\n",
       "                    preferCanvas: false,\n",
       "                }\n",
       "            );\n",
       "\n",
       "            \n",
       "\n",
       "        \n",
       "    \n",
       "            var tile_layer_217e9162acdadac33e8c58805feee4f9 = L.tileLayer(\n",
       "                &quot;https://{s}.tile.openstreetmap.org/{z}/{x}/{y}.png&quot;,\n",
       "                {&quot;attribution&quot;: &quot;Data by \\u0026copy; \\u003ca href=\\&quot;http://openstreetmap.org\\&quot;\\u003eOpenStreetMap\\u003c/a\\u003e, under \\u003ca href=\\&quot;http://www.openstreetmap.org/copyright\\&quot;\\u003eODbL\\u003c/a\\u003e.&quot;, &quot;detectRetina&quot;: false, &quot;maxNativeZoom&quot;: 18, &quot;maxZoom&quot;: 18, &quot;minZoom&quot;: 0, &quot;noWrap&quot;: false, &quot;opacity&quot;: 1, &quot;subdomains&quot;: &quot;abc&quot;, &quot;tms&quot;: false}\n",
       "            ).addTo(map_24ddb3777de0c2c343ffa97e4237f57c);\n",
       "        \n",
       "    \n",
       "        function geo_json_594a05dc20bfb9ba78990d8793d36b57_styler(feature) {\n",
       "            switch(feature.id) {\n",
       "                default:\n",
       "                    return {&quot;color&quot;: &quot;red&quot;, &quot;fillColor&quot;: &quot;red&quot;};\n",
       "            }\n",
       "        }\n",
       "\n",
       "        function geo_json_594a05dc20bfb9ba78990d8793d36b57_onEachFeature(feature, layer) {\n",
       "            layer.on({\n",
       "            });\n",
       "        };\n",
       "        var geo_json_594a05dc20bfb9ba78990d8793d36b57 = L.geoJson(null, {\n",
       "                onEachFeature: geo_json_594a05dc20bfb9ba78990d8793d36b57_onEachFeature,\n",
       "            \n",
       "                style: geo_json_594a05dc20bfb9ba78990d8793d36b57_styler,\n",
       "        });\n",
       "\n",
       "        function geo_json_594a05dc20bfb9ba78990d8793d36b57_add (data) {\n",
       "            geo_json_594a05dc20bfb9ba78990d8793d36b57\n",
       "                .addData(data)\n",
       "                .addTo(map_24ddb3777de0c2c343ffa97e4237f57c);\n",
       "        }\n",
       "            geo_json_594a05dc20bfb9ba78990d8793d36b57_add({&quot;features&quot;: [{&quot;geometry&quot;: {&quot;coordinates&quot;: [[[-96.58331926901636, 39.07121537944471], [-96.58256609831378, 39.07243266260271], [-96.58183972521799, 39.07369471155503], [-96.58076595030025, 39.0738685829807], [-96.58068615504924, 39.074800918104806], [-96.58064659199908, 39.07538135042038], [-96.57984058819011, 39.075832155092165], [-96.5785772677441, 39.07579988048836], [-96.5777672406216, 39.07518145458657], [-96.5768673594971, 39.07565620626725], [-96.57454054317668, 39.07587275860466], [-96.57406445107654, 39.074645272860835], [-96.57188783846095, 39.07495344770982], [-96.5719334360142, 39.07648262836673], [-96.57046090326503, 39.07667106837547], [-96.56913723311618, 39.07548211801258], [-96.56772370896533, 39.07589440079265], [-96.56732674203113, 39.076539889196084], [-96.56717922053531, 39.07679183629329], [-96.56544651351169, 39.07675539771918], [-96.56532983741954, 39.07726241275979], [-96.56593199334338, 39.0783742933582], [-96.56514610610202, 39.07891044674847], [-96.56405712924197, 39.078862557485145], [-96.56349520645335, 39.079587139386035], [-96.56366820893481, 39.08156419347346], [-96.56365323289107, 39.08159818217476], [-96.56240369261451, 39.08302901212738], [-96.56110910719477, 39.08364938729216], [-96.56165896004282, 39.08452694539041], [-96.56279688475456, 39.0848298683403], [-96.56320973732885, 39.08610601950258], [-96.56418644611458, 39.086839524417286], [-96.56440680911174, 39.08717229597341], [-96.56585479286018, 39.088995319950804], [-96.56748691704574, 39.08977808877559], [-96.56843550132672, 39.09123241184376], [-96.56851060317913, 39.09123241184379], [-96.57163141658529, 39.091136795258386], [-96.57385765006765, 39.09214228798598], [-96.5751038295747, 39.09309459280728], [-96.57539336332454, 39.094137837564524], [-96.57763434895648, 39.094599971614954], [-96.5783759797491, 39.095601251667645], [-96.57933865173203, 39.095777506416496], [-96.5803093747505, 39.095957916477445], [-96.58351720467728, 39.09566241431613], [-96.58393440131783, 39.09698433540218], [-96.58546605570788, 39.098356930526485], [-96.5873248265552, 39.0987368155131], [-96.58879601819987, 39.09927905875625], [-96.58930094496162, 39.09905060975479], [-96.5895403312015, 39.098932481502096], [-96.58936866982455, 39.09839856185774], [-96.59110799386558, 39.09727805584091], [-96.59242495849189, 39.09788171697535], [-96.59460023000297, 39.09965624262398], [-96.5955255921131, 39.09994349301576], [-96.59603135703098, 39.100455733452456], [-96.60174565969336, 39.10200660133964], [-96.60259994326461, 39.10170270760863], [-96.6037204348445, 39.10173601623503], [-96.60488786755431, 39.101756825766145], [-96.605470601405, 39.10036117539903], [-96.60626620942546, 39.09948641968476], [-96.60670558033362, 39.09904071379139], [-96.60706179796088, 39.098683473049086], [-96.60809764384145, 39.09942995513188], [-96.60818883993035, 39.09910263301605], [-96.60873064516896, 39.099018850672294], [-96.60883525132054, 39.09948719733486], [-96.61007241851256, 39.09947626972526], [-96.60998189136679, 39.09796764571345], [-96.60994333509714, 39.09720917043396], [-96.60990209824011, 39.09637783809042], [-96.61138807637408, 39.094759347064596], [-96.6121229931151, 39.09394072654043], [-96.61249446834081, 39.093539741156654], [-96.61284448152945, 39.093131468230396], [-96.61233352071211, 39.09240910719069], [-96.61303237024886, 39.0914083076619], [-96.61338044608662, 39.09088084277028], [-96.61355582301225, 39.09061606876948], [-96.61376204383613, 39.090309657870094], [-96.61344518319827, 39.08905483353401], [-96.61215020798139, 39.08755976041602], [-96.61325860757283, 39.08569265870308], [-96.61241903342435, 39.08408447952666], [-96.6138888839645, 39.08349215131744], [-96.61388519350285, 39.08197426856327], [-96.61389675904472, 39.081216368178396], [-96.61388778947949, 39.0808311717147], [-96.61389088960748, 39.080450139336904], [-96.61389808861908, 39.07994441937038], [-96.61389992272551, 39.079515737719866], [-96.61338433568567, 39.079107427032106], [-96.61355979861821, 39.0786826608333], [-96.61383852401848, 39.07798200723052], [-96.613703062285, 39.07616209571258], [-96.6106380345011, 39.07657376195675], [-96.60820320708297, 39.07736493448009], [-96.60679236514113, 39.07709424967873], [-96.6038060876775, 39.07733834195189], [-96.6016812923936, 39.077105953076405], [-96.59990122491632, 39.07759907460386], [-96.59919382425718, 39.078991274955406], [-96.59961070326612, 39.08000457460367], [-96.59898306635664, 39.080335629140244], [-96.59776132015035, 39.07989630485839], [-96.59656234548294, 39.0800076515844], [-96.59590467520734, 39.07886004498857], [-96.59607674500347, 39.07817741746867], [-96.59465135663872, 39.07733226724356], [-96.59481765359764, 39.07684503362791], [-96.59240172079862, 39.07630782343394], [-96.59102704152087, 39.07833691568042], [-96.59030955060939, 39.07846913259607], [-96.58995952233295, 39.07799439984124], [-96.58939581494178, 39.076386586171516], [-96.58806146279784, 39.07513734726313], [-96.58711144837166, 39.07571035309624], [-96.58568719538475, 39.075375112366494], [-96.58505821737076, 39.07177678953612], [-96.58544953529936, 39.07043170565279], [-96.58440883820158, 39.07013184065877], [-96.58331926901636, 39.07121537944471]]], &quot;type&quot;: &quot;Polygon&quot;}, &quot;id&quot;: &quot;0&quot;, &quot;type&quot;: &quot;Feature&quot;}], &quot;type&quot;: &quot;FeatureCollection&quot;});\n",
       "\n",
       "        \n",
       "    \n",
       "            var layer_control_bffc063709edcb3f4aaa8b80b9fe6f7f = {\n",
       "                base_layers : {\n",
       "                    &quot;openstreetmap&quot; : tile_layer_217e9162acdadac33e8c58805feee4f9,\n",
       "                },\n",
       "                overlays :  {\n",
       "                    &quot;Bison&quot; : geo_json_594a05dc20bfb9ba78990d8793d36b57,\n",
       "                },\n",
       "            };\n",
       "            L.control.layers(\n",
       "                layer_control_bffc063709edcb3f4aaa8b80b9fe6f7f.base_layers,\n",
       "                layer_control_bffc063709edcb3f4aaa8b80b9fe6f7f.overlays,\n",
       "                {&quot;autoZIndex&quot;: true, &quot;collapsed&quot;: true, &quot;position&quot;: &quot;topright&quot;}\n",
       "            ).addTo(map_24ddb3777de0c2c343ffa97e4237f57c);\n",
       "        \n",
       "&lt;/script&gt;\" style=\"position:absolute;width:100%;height:100%;left:0;top:0;border:none !important;\" allowfullscreen webkitallowfullscreen mozallowfullscreen></iframe></div></div>"
      ],
      "text/plain": [
       "<folium.folium.Map at 0x10e977df0>"
      ]
     },
     "execution_count": null,
     "metadata": {},
     "output_type": "execute_result"
    }
   ],
   "source": [
    "m = folium.Map(location=bison_geometry.get_centroid_coordinates(), zoom_start=13)\n",
    "\n",
    "bison_geometry.add_to(\n",
    "    m, style_function=lambda _: dict(color=\"red\", fillColor=\"red\"), name=\"Bison\"\n",
    ")\n",
    "\n",
    "m.add_child(folium.LayerControl())\n",
    "m"
   ]
  },
  {
   "cell_type": "code",
   "execution_count": null,
   "id": "eaa69168",
   "metadata": {},
   "outputs": [],
   "source": []
  }
 ],
 "metadata": {
  "kernelspec": {
   "display_name": "Python 3 (ipykernel)",
   "language": "python",
   "name": "python3"
  },
  "language_info": {
   "codemirror_mode": {
    "name": "ipython",
    "version": 3
   },
   "file_extension": ".py",
   "mimetype": "text/x-python",
   "name": "python",
   "nbconvert_exporter": "python",
   "pygments_lexer": "ipython3",
   "version": "3.10.6"
  }
 },
 "nbformat": 4,
 "nbformat_minor": 5
}
