{
 "cells": [
  {
   "cell_type": "code",
   "execution_count": null,
   "id": "97b8f256-7f4e-4e0e-83ca-ab2275beb6ee",
   "metadata": {},
   "outputs": [],
   "source": [
    "from pathlib import Path\n",
    "\n",
    "import ee\n",
    "import eemont  # noqa: F401\n",
    "import geemap\n",
    "import geemap.colormaps as cm\n",
    "\n",
    "from bisonlab.data import s2_sr_harmonized\n",
    "from bisonlab.io import kml_to_geodataframe\n",
    "from bisonlab.utils import mask_exclude, mask_include"
   ]
  },
  {
   "cell_type": "code",
   "execution_count": null,
   "id": "3cade2d1-dfd3-4538-b955-78fc388131fe",
   "metadata": {},
   "outputs": [],
   "source": [
    "ee.Authenticate()\n",
    "ee.Initialize()"
   ]
  },
  {
   "cell_type": "markdown",
   "id": "939a0ee6-ff92-43b5-83c4-5a4246c57bca",
   "metadata": {},
   "source": [
    "## Load Parcels and Masks"
   ]
  },
  {
   "cell_type": "code",
   "execution_count": null,
   "id": "4915fb54-845a-4e54-a29d-fc03978d4515",
   "metadata": {},
   "outputs": [],
   "source": [
    "filepath = Path().cwd().parent.parent / \"data\" / \"local\" / \"WRTBI-Morton Soil Types.kml\"\n",
    "\n",
    "df = kml_to_geodataframe(filepath)\n",
    "\n",
    "df = df.rename(columns={\"Name\": \"subsection\", \"layer\": \"parcel\"})\n",
    "df = df.drop(columns=\"Description\")"
   ]
  },
  {
   "cell_type": "code",
   "execution_count": null,
   "id": "d8da64fa-60da-4d31-ba8b-611233fdeaaa",
   "metadata": {},
   "outputs": [],
   "source": [
    "# Union all \"mask\" polygons and create a separate mask dataframe\n",
    "idx = df[\"parcel\"] == \"mask\"\n",
    "df_mask = df[idx].dissolve(by=\"parcel\").reset_index()\n",
    "\n",
    "# Drop \"mask\" from parcel dataframe\n",
    "df = df.drop(index=idx.index[idx])"
   ]
  },
  {
   "cell_type": "code",
   "execution_count": null,
   "id": "5fd14ee1-fa52-42a7-afad-a85280d7f2dd",
   "metadata": {},
   "outputs": [],
   "source": [
    "# Convert parcels dataframe to ee.featureCollection\n",
    "parcels = geemap.geopandas_to_ee(df)\n",
    "mask = geemap.geopandas_to_ee(df_mask)"
   ]
  },
  {
   "cell_type": "code",
   "execution_count": null,
   "id": "64c2def9-20cb-463a-8de6-f3bafb08bd83",
   "metadata": {},
   "outputs": [],
   "source": [
    "# Plot parcels and Mask polygons\n",
    "m = geemap.Map()\n",
    "m.addLayer(parcels, {\"color\": \"red\"}, \"Parcels\")\n",
    "m.addLayer(mask, {\"color\": \"blue\"}, \"mask\")\n",
    "m.centerObject(mask, 17)\n",
    "m"
   ]
  },
  {
   "cell_type": "markdown",
   "id": "5057ae45-afe7-4d87-9c5a-18b096b41361",
   "metadata": {},
   "source": [
    "## Mask single image"
   ]
  },
  {
   "cell_type": "code",
   "execution_count": null,
   "id": "ae73dbb9-4bb5-407d-a7bb-011649c1f4c5",
   "metadata": {},
   "outputs": [],
   "source": [
    "# Get 1 image of NDVI\n",
    "img = (\n",
    "    s2_sr_harmonized(parcels, \"2022-08-07\", \"2022-08-08\")\n",
    "    .spectralIndices(\"NDVI\")\n",
    "    .select(\"NDVI\")\n",
    "    .first()\n",
    ")"
   ]
  },
  {
   "cell_type": "markdown",
   "id": "90442bbf-cc6e-4a46-a3ae-e757e4062f95",
   "metadata": {},
   "source": [
    "### Exclude region"
   ]
  },
  {
   "cell_type": "code",
   "execution_count": null,
   "id": "ef82e423-da9f-47a6-b3ee-52df8d8dce91",
   "metadata": {},
   "outputs": [],
   "source": [
    "masked_out = mask_exclude(img, mask)"
   ]
  },
  {
   "cell_type": "code",
   "execution_count": null,
   "id": "ecfe2ba8-03d8-4159-8d2d-3c352eb17db0",
   "metadata": {},
   "outputs": [],
   "source": [
    "m = geemap.Map()\n",
    "m.add_basemap(basemap=\"SATELLITE\")\n",
    "m.addLayer(masked_out, {\"min\": -1, \"max\": 1, \"palette\": cm.palettes.ndvi}, \"NDVI\")\n",
    "m.centerObject(mask, 17)\n",
    "m"
   ]
  },
  {
   "cell_type": "markdown",
   "id": "547cd25e-2527-4d7e-b836-cf74ef818b0d",
   "metadata": {},
   "source": [
    "### Include regions"
   ]
  },
  {
   "cell_type": "code",
   "execution_count": null,
   "id": "a42be858-f9ab-413b-9298-dee6e12a2fe1",
   "metadata": {},
   "outputs": [],
   "source": [
    "masked_in = mask_include(img, mask)"
   ]
  },
  {
   "cell_type": "code",
   "execution_count": null,
   "id": "c6034858-a51c-4128-98d4-e555ea0e8504",
   "metadata": {},
   "outputs": [],
   "source": [
    "m = geemap.Map()\n",
    "m.add_basemap(basemap=\"SATELLITE\")\n",
    "m.addLayer(masked_in, {\"min\": -1, \"max\": 1, \"palette\": cm.palettes.ndvi}, \"NDVI\")\n",
    "m.centerObject(mask, 17)\n",
    "m"
   ]
  },
  {
   "cell_type": "markdown",
   "id": "897b683e-1cc1-4198-8377-c4cbcd2a79ca",
   "metadata": {},
   "source": [
    "## Mask time series"
   ]
  },
  {
   "cell_type": "code",
   "execution_count": null,
   "id": "19c1f384-d62c-4356-8ef0-6b101b74d892",
   "metadata": {},
   "outputs": [],
   "source": [
    "# Get timeseries image of NDVI - 10 images in ImageCollection\n",
    "\n",
    "start_date = \"2022-08-01\"\n",
    "end_date = \"2022-08-31\"\n",
    "\n",
    "ndvi = (\n",
    "    s2_sr_harmonized(parcels, start_date, end_date)\n",
    "    .spectralIndices(\"NDVI\")\n",
    "    .select(\"NDVI\")\n",
    ")"
   ]
  },
  {
   "cell_type": "code",
   "execution_count": null,
   "id": "3f490ff2-5d87-4e61-a3e3-b3af29b3992b",
   "metadata": {},
   "outputs": [],
   "source": [
    "# Apply mask to each image in the collection\n",
    "masked = ndvi.map(lambda img: mask_exclude(img, mask))"
   ]
  },
  {
   "cell_type": "code",
   "execution_count": null,
   "id": "0afd1d16-be1d-4381-ac00-4f018cbaffb3",
   "metadata": {},
   "outputs": [],
   "source": [
    "# Choose first image in collection\n",
    "img = masked.first()"
   ]
  },
  {
   "cell_type": "code",
   "execution_count": null,
   "id": "befd2741-eaf2-4c78-821f-539b611de58e",
   "metadata": {},
   "outputs": [],
   "source": [
    "m = geemap.Map()\n",
    "m.add_basemap(basemap=\"SATELLITE\")\n",
    "m.addLayer(img, {\"min\": -1, \"max\": 1, \"palette\": cm.palettes.ndvi}, \"NDVI\")\n",
    "m.centerObject(mask, 17)\n",
    "m"
   ]
  }
 ],
 "metadata": {
  "kernelspec": {
   "display_name": "Python 3 (ipykernel)",
   "language": "python",
   "name": "python3"
  },
  "language_info": {
   "codemirror_mode": {
    "name": "ipython",
    "version": 3
   },
   "file_extension": ".py",
   "mimetype": "text/x-python",
   "name": "python",
   "nbconvert_exporter": "python",
   "pygments_lexer": "ipython3",
   "version": "3.10.8"
  }
 },
 "nbformat": 4,
 "nbformat_minor": 5
}
