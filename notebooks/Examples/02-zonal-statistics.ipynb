{
 "cells": [
  {
   "cell_type": "markdown",
   "metadata": {},
   "source": [
    "# Zonal Statistics - Summarizing data within a boundary"
   ]
  },
  {
   "cell_type": "markdown",
   "metadata": {
    "tags": []
   },
   "source": [
    "## Setup"
   ]
  },
  {
   "cell_type": "code",
   "execution_count": null,
   "metadata": {},
   "outputs": [],
   "source": [
    "import ee\n",
    "import eemont  # noqa: F401\n",
    "import geemap\n",
    "import geemap.colormaps as cm\n",
    "import pandas as pd"
   ]
  },
  {
   "cell_type": "markdown",
   "metadata": {},
   "source": [
    "### Authenticate Earth Engine"
   ]
  },
  {
   "cell_type": "code",
   "execution_count": null,
   "metadata": {},
   "outputs": [],
   "source": [
    "ee.Authenticate()\n",
    "ee.Initialize()"
   ]
  },
  {
   "cell_type": "markdown",
   "metadata": {},
   "source": [
    "## Data and Area of interest"
   ]
  },
  {
   "cell_type": "markdown",
   "metadata": {},
   "source": [
    "### Get boundaries"
   ]
  },
  {
   "cell_type": "code",
   "execution_count": null,
   "metadata": {},
   "outputs": [],
   "source": [
    "# Only available to Bison lab members\n",
    "buffalo_expansion = ee.FeatureCollection(\n",
    "    \"projects/colinhill/assets/bison-lab/Buffalo_Expansion_polygons\"\n",
    ")"
   ]
  },
  {
   "cell_type": "code",
   "execution_count": null,
   "metadata": {},
   "outputs": [],
   "source": [
    "# Look at list of boundary names\n",
    "geemap.ee_to_df(buffalo_expansion.select(\"Name\"))"
   ]
  },
  {
   "cell_type": "code",
   "execution_count": null,
   "metadata": {},
   "outputs": [],
   "source": [
    "# Select specific boundaries from list\n",
    "parcels = buffalo_expansion.filter(\n",
    "    ee.Filter.inList(\n",
    "        \"Name\",\n",
    "        [\n",
    "            \"Shoshone Tribe\",\n",
    "            \"Buffalo Initiative\",\n",
    "            \"Hellyer Tribal Lease\",\n",
    "            \"Adels Property\",\n",
    "            \"Hoopengarner Property\",\n",
    "            \"Hellyer Place\",\n",
    "        ],\n",
    "    )\n",
    ")"
   ]
  },
  {
   "cell_type": "markdown",
   "metadata": {},
   "source": [
    "### Plot parcel boundaries"
   ]
  },
  {
   "cell_type": "code",
   "execution_count": null,
   "metadata": {},
   "outputs": [],
   "source": [
    "m = geemap.Map()\n",
    "m.addLayer(parcels, {\"color\": \"red\"}, \"Parcels\")\n",
    "m.centerObject(parcels, 14)\n",
    "m"
   ]
  },
  {
   "cell_type": "markdown",
   "metadata": {},
   "source": [
    "## Load data and compute zonal statistics\n",
    "Here we use the NDVI product from MODIS (250m resolution)"
   ]
  },
  {
   "cell_type": "code",
   "execution_count": null,
   "metadata": {},
   "outputs": [],
   "source": [
    "# Select 1 image of NDVI for a random date\n",
    "img = (\n",
    "    ee.ImageCollection(\"MODIS/061/MOD13Q1\")\n",
    "    .closest(\"2018-01-01\")\n",
    "    .scaleAndOffset()\n",
    "    .select(\"NDVI\")\n",
    "    .first()\n",
    ")"
   ]
  },
  {
   "cell_type": "code",
   "execution_count": null,
   "metadata": {},
   "outputs": [],
   "source": [
    "# Plot image with parcels\n",
    "m = geemap.Map()\n",
    "\n",
    "vis_NDVI = {\"min\": 0, \"max\": 1, \"palette\": cm.palettes.ndvi}\n",
    "layer_name = \"NDVI\"\n",
    "m.addLayer(img, vis_NDVI, layer_name)\n",
    "m.add_colorbar_branca(\n",
    "    colors=vis_NDVI[\"palette\"],\n",
    "    vmin=vis_NDVI[\"min\"],\n",
    "    vmax=vis_NDVI[\"max\"],\n",
    "    layer_name=layer_name,\n",
    ")\n",
    "\n",
    "vis_parcels = {\n",
    "    \"color\": \"000000\",\n",
    "    \"width\": 4,\n",
    "    \"lineType\": \"solid\",\n",
    "    \"fillColor\": \"00000000\",\n",
    "}\n",
    "m.addLayer(parcels.style(**vis_parcels), {}, \"Parcels\")\n",
    "\n",
    "m.centerObject(parcels, 14)\n",
    "m"
   ]
  },
  {
   "cell_type": "markdown",
   "metadata": {},
   "source": [
    "### Calculate the mean NDVI for each parcel"
   ]
  },
  {
   "cell_type": "code",
   "execution_count": null,
   "metadata": {},
   "outputs": [],
   "source": [
    "# Calc mean within each parcel\n",
    "# NOTE: reduceRegions only works on Images, not featureCollections\n",
    "stats = img.reduceRegions(parcels, \"mean\", 250)"
   ]
  },
  {
   "cell_type": "markdown",
   "metadata": {},
   "source": [
    "`stats` is a `FeatureCollection` so let's convert it to a Pandas DataFrame"
   ]
  },
  {
   "cell_type": "code",
   "execution_count": null,
   "metadata": {},
   "outputs": [],
   "source": [
    "df = geemap.ee_to_pandas(stats)\n",
    "df = df[[\"Name\", \"mean\"]]"
   ]
  },
  {
   "cell_type": "code",
   "execution_count": null,
   "metadata": {},
   "outputs": [],
   "source": [
    "df"
   ]
  },
  {
   "cell_type": "markdown",
   "metadata": {},
   "source": [
    "## Time Series"
   ]
  },
  {
   "cell_type": "code",
   "execution_count": null,
   "metadata": {},
   "outputs": [],
   "source": [
    "# Load time series of NDVI\n",
    "ds = (\n",
    "    ee.ImageCollection(\"MODIS/061/MOD13Q1\")\n",
    "    .filterDate(\"2010-01-01\", \"2012-01-01\")\n",
    "    .scaleAndOffset()\n",
    "    .select(\"NDVI\")\n",
    ")"
   ]
  },
  {
   "cell_type": "markdown",
   "metadata": {},
   "source": [
    "#### Calc mean within each parcel"
   ]
  },
  {
   "cell_type": "code",
   "execution_count": null,
   "metadata": {},
   "outputs": [],
   "source": [
    "# NOTE: toBands() Converts the image collection to a single multi-band image, necessary to allow reduceRegions\n",
    "stats = ds.toBands().reduceRegions(parcels, \"mean\", 250)"
   ]
  },
  {
   "cell_type": "markdown",
   "metadata": {},
   "source": [
    "`stats` is a `FeatureCollection` so let's convert it to a `pd.DataFrame`"
   ]
  },
  {
   "cell_type": "code",
   "execution_count": null,
   "metadata": {},
   "outputs": [],
   "source": [
    "df = geemap.ee_to_df(stats)"
   ]
  },
  {
   "cell_type": "code",
   "execution_count": null,
   "metadata": {
    "tags": []
   },
   "outputs": [],
   "source": [
    "# Drop un-needed columns\n",
    "df = df.drop(\n",
    "    columns=[\n",
    "        \"visibility\",\n",
    "        \"descriptio\",\n",
    "        \"tessellate\",\n",
    "        \"extrude\",\n",
    "        \"icon\",\n",
    "        \"end\",\n",
    "        \"begin\",\n",
    "        \"timestamp\",\n",
    "        \"altitudeMo\",\n",
    "    ]\n",
    ")\n",
    "\n",
    "# Set Names as index and transpose dataframe to have timeseries as index\n",
    "df = df.set_index(\"Name\").T\n",
    "\n",
    "# Replace index of strings with datetimes from image collection\n",
    "dates = pd.DatetimeIndex(\n",
    "    pd.datetime.fromisoformat(x) for x in geemap.image_dates(ds).getInfo()\n",
    ")\n",
    "df.index = pd.DatetimeIndex(dates)"
   ]
  },
  {
   "cell_type": "code",
   "execution_count": null,
   "metadata": {},
   "outputs": [],
   "source": [
    "# Now we have a dataframe with NDVI for each parcel\n",
    "df"
   ]
  },
  {
   "cell_type": "code",
   "execution_count": null,
   "metadata": {},
   "outputs": [],
   "source": [
    "df.plot(figsize=(12, 6), xlabel=\"Date\", ylabel=\"NDVI\").legend(loc=\"upper left\");"
   ]
  },
  {
   "cell_type": "code",
   "execution_count": null,
   "metadata": {},
   "outputs": [],
   "source": []
  }
 ],
 "metadata": {
  "kernelspec": {
   "display_name": "Python 3 (ipykernel)",
   "language": "python",
   "name": "python3"
  },
  "language_info": {
   "codemirror_mode": {
    "name": "ipython",
    "version": 3
   },
   "file_extension": ".py",
   "mimetype": "text/x-python",
   "name": "python",
   "nbconvert_exporter": "python",
   "pygments_lexer": "ipython3",
   "version": "3.10.6"
  },
  "vscode": {
   "interpreter": {
    "hash": "6111e33682d63e67bff2fd22b65cd753c41e0142d1579f26e808e9fe779103b9"
   }
  }
 },
 "nbformat": 4,
 "nbformat_minor": 4
}
