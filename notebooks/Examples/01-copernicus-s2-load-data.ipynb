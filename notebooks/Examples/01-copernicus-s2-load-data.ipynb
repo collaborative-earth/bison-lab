{
 "cells": [
  {
   "cell_type": "markdown",
   "metadata": {
    "tags": []
   },
   "source": [
    "## Setup"
   ]
  },
  {
   "cell_type": "code",
   "execution_count": 1,
   "metadata": {},
   "outputs": [],
   "source": [
    "import ee\n",
    "import eemont  # noqa: F401\n",
    "import geemap\n",
    "import geemap.colormaps as cm"
   ]
  },
  {
   "cell_type": "markdown",
   "metadata": {},
   "source": [
    "### Authenticate Earth Engine"
   ]
  },
  {
   "cell_type": "code",
   "execution_count": 2,
   "metadata": {},
   "outputs": [],
   "source": [
    "# ee.Authenticate()\n",
    "ee.Initialize()"
   ]
  },
  {
   "cell_type": "markdown",
   "metadata": {},
   "source": [
    "## Data and Area of interest"
   ]
  },
  {
   "cell_type": "markdown",
   "metadata": {},
   "source": [
    "### Set point of interest"
   ]
  },
  {
   "cell_type": "code",
   "execution_count": 3,
   "metadata": {},
   "outputs": [],
   "source": [
    "# point = ee.Geometry.PointFromQuery('Toulouse, France', user_agent = 'user_agent')\n",
    "\n",
    "\n",
    "point = ee.Geometry.Point([-108.85493802517442, 43.19884774326625]).buffer(\n",
    "    10000\n",
    ")\n",
    "\n",
    "# add a buffer of 10 km around point"
   ]
  },
  {
   "cell_type": "markdown",
   "metadata": {},
   "source": [
    "### Load Sentinel 2 image collection and perform preprocessing"
   ]
  },
  {
   "cell_type": "code",
   "execution_count": 6,
   "metadata": {},
   "outputs": [],
   "source": [
    "# This selects all available dates/times by default\n",
    "s2 = (\n",
    "    ee.ImageCollection(\"COPERNICUS/S2_SR\")\n",
    "    .filterBounds(point)\n",
    "    # .filterDate('2020-01-01', '2020-01-31') # We can also include a date filter here\n",
    "    .maskClouds(prob=50)\n",
    "    .scaleAndOffset()\n",
    "    .spectralIndices(\"NDVI\")\n",
    ")"
   ]
  },
  {
   "cell_type": "markdown",
   "metadata": {},
   "source": [
    "## Data exploration"
   ]
  },
  {
   "cell_type": "markdown",
   "metadata": {},
   "source": [
    "### Visualize NDVI for 1 month"
   ]
  },
  {
   "cell_type": "code",
   "execution_count": 7,
   "metadata": {},
   "outputs": [],
   "source": [
    "# Select NDVI band, filter by date range and take the median\n",
    "img = s2.select(\"NDVI\").filterDate(\"2020-01-01\", \"2020-01-31\").median()"
   ]
  },
  {
   "cell_type": "code",
   "execution_count": 8,
   "metadata": {},
   "outputs": [
    {
     "data": {
      "application/vnd.jupyter.widget-view+json": {
       "model_id": "e8d1d52c13264f96b86ad094d10ebb80",
       "version_major": 2,
       "version_minor": 0
      },
      "text/plain": [
       "Map(center=[43.19885800213952, -108.85493763491517], controls=(WidgetControl(options=['position', 'transparent…"
      ]
     },
     "execution_count": 8,
     "metadata": {},
     "output_type": "execute_result"
    }
   ],
   "source": [
    "# Initialize map object\n",
    "m = geemap.Map()\n",
    "\n",
    "# define visualization parameters\n",
    "visNDVI = {\"min\": 0, \"max\": 1, \"palette\": cm.palettes.ndvi}\n",
    "\n",
    "layer_name = \"NDVI\"\n",
    "\n",
    "# add image to map, selecting NDVI band\n",
    "m.addLayer(img, visNDVI, layer_name)\n",
    "\n",
    "# Center on point\n",
    "m.centerObject(point, 10)\n",
    "\n",
    "# Add colorbar\n",
    "m.add_colorbar_branca(\n",
    "    colors=visNDVI[\"palette\"],\n",
    "    vmin=visNDVI[\"min\"],\n",
    "    vmax=visNDVI[\"max\"],\n",
    "    layer_name=layer_name,\n",
    ")\n",
    "\n",
    "m"
   ]
  },
  {
   "cell_type": "code",
   "execution_count": null,
   "metadata": {},
   "outputs": [],
   "source": []
  }
 ],
 "metadata": {
  "kernelspec": {
   "display_name": "Python 3 (ipykernel)",
   "language": "python",
   "name": "python3"
  },
  "language_info": {
   "codemirror_mode": {
    "name": "ipython",
    "version": 3
   },
   "file_extension": ".py",
   "mimetype": "text/x-python",
   "name": "python",
   "nbconvert_exporter": "python",
   "pygments_lexer": "ipython3",
   "version": "3.10.6"
  },
  "vscode": {
   "interpreter": {
    "hash": "9b6078babb870517194afb6a5d443c6ad074b196361b56d51d5b01f9e698b9c2"
   }
  }
 },
 "nbformat": 4,
 "nbformat_minor": 4
}
