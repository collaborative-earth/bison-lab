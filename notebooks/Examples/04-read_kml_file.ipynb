{
 "cells": [
  {
   "cell_type": "code",
   "execution_count": 1,
   "id": "d8927eee-6728-4289-9541-249bcea68871",
   "metadata": {},
   "outputs": [],
   "source": [
    "from pathlib import Path\n",
    "\n",
    "from bisonlab.io import kml_to_geodataframe"
   ]
  },
  {
   "cell_type": "markdown",
   "id": "d7d19ac4-ba2a-410d-94a6-0897108004cb",
   "metadata": {},
   "source": [
    "### Load KML file to GeoPandas.GeoDataFrame"
   ]
  },
  {
   "cell_type": "code",
   "execution_count": null,
   "id": "9c51389d-9069-437f-97dc-745d78818de9",
   "metadata": {},
   "outputs": [],
   "source": [
    "# Build filepath\n",
    "filepath = Path().cwd().parent.parent / \"data\" / \"local\" / \"WRTBI-Morton Soil Types.kml\"\n",
    "\n",
    "# Open KML as geodataframe\n",
    "df = kml_to_geodataframe(filepath)"
   ]
  },
  {
   "cell_type": "code",
   "execution_count": null,
   "id": "2a57ee25-3b5d-4029-88ae-936ed340a305",
   "metadata": {},
   "outputs": [],
   "source": [
    "# Clean up dataframe\n",
    "df = df.rename(columns={\"Name\": \"subsection\", \"layer\": \"parcel\"})\n",
    "df = df.drop(columns=\"Description\")"
   ]
  },
  {
   "cell_type": "code",
   "execution_count": null,
   "id": "5ea74ab5-1f5a-46c6-abda-9e96e2788f1f",
   "metadata": {},
   "outputs": [],
   "source": [
    "df"
   ]
  },
  {
   "cell_type": "markdown",
   "id": "027d5d78-dc3c-46bf-b938-290585f5344a",
   "metadata": {},
   "source": [
    "## Separate Parcel and Masking polygons"
   ]
  },
  {
   "cell_type": "code",
   "execution_count": null,
   "id": "afec9d6e-2d4d-4e49-b983-1f44d3718310",
   "metadata": {},
   "outputs": [],
   "source": [
    "# Union all \"mask\" polygons and create a separate mask dataframe\n",
    "idx = df[\"parcel\"] == \"mask\"\n",
    "df_mask = df[idx].dissolve(by=\"parcel\").reset_index()\n",
    "\n",
    "# Drop \"mask\" from parcel dataframe\n",
    "df = df.drop(index=idx.index[idx])"
   ]
  },
  {
   "cell_type": "code",
   "execution_count": null,
   "id": "c0db9aeb-ac6b-45ec-ba4a-a8bdaa3bfeaa",
   "metadata": {},
   "outputs": [],
   "source": [
    "df"
   ]
  },
  {
   "cell_type": "code",
   "execution_count": null,
   "id": "bddd6c03-a071-4ce2-816b-3c55e64e74aa",
   "metadata": {},
   "outputs": [],
   "source": [
    "# Note only 1 polygon in dataframe as we performed a union of all the individual polygons\n",
    "df_mask"
   ]
  },
  {
   "cell_type": "markdown",
   "id": "f271c431-6968-4622-8728-00e3f9f04c51",
   "metadata": {},
   "source": [
    "## Optionally Convert parcels dataframe to ee.featureCollection"
   ]
  },
  {
   "cell_type": "code",
   "execution_count": null,
   "id": "19333ebc-040b-42a2-a6dd-89992bbeb904",
   "metadata": {},
   "outputs": [],
   "source": [
    "import ee\n",
    "import geemap"
   ]
  },
  {
   "cell_type": "code",
   "execution_count": null,
   "id": "cfaeb8e0-b66b-4908-aafb-cba144a9dabf",
   "metadata": {},
   "outputs": [],
   "source": [
    "# ee.Authenticate()\n",
    "ee.Initialize()"
   ]
  },
  {
   "cell_type": "code",
   "execution_count": null,
   "id": "e6882d6e-553b-4f0a-ba36-7938b79e84f6",
   "metadata": {},
   "outputs": [],
   "source": [
    "# Convert parcels dataframe to ee.featureCollection\n",
    "parcels = geemap.geopandas_to_ee(df)\n",
    "mask = geemap.geopandas_to_ee(df_mask)"
   ]
  },
  {
   "cell_type": "code",
   "execution_count": null,
   "id": "5e5f7d01-1872-4de7-9a6b-7abe52336183",
   "metadata": {},
   "outputs": [],
   "source": [
    "mask"
   ]
  }
 ],
 "metadata": {
  "kernelspec": {
   "display_name": "Python 3 (ipykernel)",
   "language": "python",
   "name": "python3"
  },
  "language_info": {
   "codemirror_mode": {
    "name": "ipython",
    "version": 3
   },
   "file_extension": ".py",
   "mimetype": "text/x-python",
   "name": "python",
   "nbconvert_exporter": "python",
   "pygments_lexer": "ipython3",
   "version": "3.10.8"
  }
 },
 "nbformat": 4,
 "nbformat_minor": 5
}
