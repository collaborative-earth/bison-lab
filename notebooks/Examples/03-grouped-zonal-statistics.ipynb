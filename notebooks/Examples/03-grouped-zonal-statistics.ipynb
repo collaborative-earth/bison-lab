{
 "cells": [
  {
   "cell_type": "markdown",
   "metadata": {},
   "source": [
    "# Grouped Zonal Statistics - Summarizing classes of data within a boundary"
   ]
  },
  {
   "cell_type": "markdown",
   "metadata": {
    "tags": []
   },
   "source": [
    "## Setup"
   ]
  },
  {
   "cell_type": "code",
   "execution_count": null,
   "metadata": {},
   "outputs": [],
   "source": [
    "import ee\n",
    "import eemont  # noqa: F401\n",
    "import geemap\n",
    "import pandas as pd"
   ]
  },
  {
   "cell_type": "markdown",
   "metadata": {},
   "source": [
    "### Authenticate Earth Engine"
   ]
  },
  {
   "cell_type": "code",
   "execution_count": null,
   "metadata": {},
   "outputs": [],
   "source": [
    "ee.Authenticate()\n",
    "ee.Initialize()"
   ]
  },
  {
   "cell_type": "markdown",
   "metadata": {},
   "source": [
    "## Data and Area of interest"
   ]
  },
  {
   "cell_type": "markdown",
   "metadata": {},
   "source": [
    "### Get boundaries"
   ]
  },
  {
   "cell_type": "code",
   "execution_count": null,
   "metadata": {},
   "outputs": [],
   "source": [
    "# Only available to Bison lab members\n",
    "buffalo_expansion = ee.FeatureCollection(\n",
    "    \"projects/colinhill/assets/bison-lab/Buffalo_Expansion_polygons\"\n",
    ")"
   ]
  },
  {
   "cell_type": "code",
   "execution_count": null,
   "metadata": {},
   "outputs": [],
   "source": [
    "# Select specific boundaries from list\n",
    "parcels = buffalo_expansion.filter(\n",
    "    ee.Filter.inList(\n",
    "        \"Name\",\n",
    "        [\n",
    "            \"Shoshone Tribe\",\n",
    "            \"Buffalo Initiative\",\n",
    "            \"Hellyer Tribal Lease\",\n",
    "            \"Adels Property\",\n",
    "            \"Hoopengarner Property\",\n",
    "            \"Hellyer Place\",\n",
    "        ],\n",
    "    )\n",
    ")"
   ]
  },
  {
   "cell_type": "markdown",
   "metadata": {},
   "source": [
    "### Plot parcel boundaries"
   ]
  },
  {
   "cell_type": "code",
   "execution_count": null,
   "metadata": {},
   "outputs": [],
   "source": [
    "m = geemap.Map()\n",
    "m.addLayer(parcels, {\"color\": \"red\"}, \"Parcels\")\n",
    "m.centerObject(parcels, 14)\n",
    "m"
   ]
  },
  {
   "cell_type": "markdown",
   "metadata": {},
   "source": [
    "## Load data"
   ]
  },
  {
   "cell_type": "code",
   "execution_count": null,
   "metadata": {},
   "outputs": [],
   "source": [
    "# Get the outer bounds of the parcels\n",
    "aoi = parcels.geometry().bounds()"
   ]
  },
  {
   "cell_type": "code",
   "execution_count": null,
   "metadata": {},
   "outputs": [],
   "source": [
    "# Get timeseries from Dynamic World, a 10m near-real-time Land Use/Land Cover dataset\n",
    "# that includes class probabilities and label information for nine classes\n",
    "data = (\n",
    "    ee.ImageCollection(\"GOOGLE/DYNAMICWORLD/V1\")\n",
    "    .filterDate(\"2020-01-01\", \"2021-01-01\")  # 1 year time range\n",
    "    .filterBounds(aoi)\n",
    "    .select(\"label\")\n",
    ")"
   ]
  },
  {
   "cell_type": "code",
   "execution_count": null,
   "metadata": {},
   "outputs": [],
   "source": [
    "# Reduce the timeseries and assign the mode (most common) classification to each pixel\n",
    "img = data.reduce(ee.Reducer.mode())\n",
    "\n",
    "# Clip the extent of the image to the outer bounds of the parcels\n",
    "img = img.clip(aoi)"
   ]
  },
  {
   "cell_type": "code",
   "execution_count": null,
   "metadata": {},
   "outputs": [],
   "source": [
    "# Define legend colours\n",
    "class_labels = [\n",
    "    \"water\",\n",
    "    \"trees\",\n",
    "    \"grass\",\n",
    "    \"flooded_vegetation\",\n",
    "    \"crops\",\n",
    "    \"shrub_and_scrub\",\n",
    "    \"built\",\n",
    "    \"bare\",\n",
    "    \"snow_and_ice\",\n",
    "]\n",
    "class_index = [i for i in range(0, len(class_labels))]\n",
    "palette = [\n",
    "    \"#419BDF\",\n",
    "    \"#397D49\",\n",
    "    \"#88B053\",\n",
    "    \"#7A87C6\",\n",
    "    \"#E49635\",\n",
    "    \"#DFC35A\",\n",
    "    \"#C4281B\",\n",
    "    \"#A59B8F\",\n",
    "    \"#B39FE1\",\n",
    "]\n",
    "legend_dict = dict(zip(class_labels, palette))"
   ]
  },
  {
   "cell_type": "code",
   "execution_count": null,
   "metadata": {},
   "outputs": [],
   "source": [
    "m = geemap.Map()\n",
    "m.addLayer(\n",
    "    img, {\"min\": 0, \"max\": len(palette), \"palette\": palette}, \"Classified Composite\"\n",
    ")\n",
    "m.addLayer(parcels, {\"color\": \"black\"}, \"Parcels\")\n",
    "m.centerObject(aoi, 14)\n",
    "m.add_legend(legend_dict=legend_dict)\n",
    "m"
   ]
  },
  {
   "cell_type": "markdown",
   "metadata": {},
   "source": [
    "## Compute frequency of each class"
   ]
  },
  {
   "cell_type": "code",
   "execution_count": null,
   "metadata": {},
   "outputs": [],
   "source": [
    "stats = img.reduceRegions(\n",
    "    collection=parcels, reducer=ee.Reducer.frequencyHistogram(), scale=10\n",
    ")"
   ]
  },
  {
   "cell_type": "code",
   "execution_count": null,
   "metadata": {},
   "outputs": [],
   "source": [
    "# convert to dataframe\n",
    "df = geemap.ee_to_df(stats.select([\"histogram\", \"Name\"])).set_index(\"Name\")"
   ]
  },
  {
   "cell_type": "code",
   "execution_count": null,
   "metadata": {},
   "outputs": [],
   "source": [
    "# parse histogram to columns and normalize\n",
    "df = df[\"histogram\"].apply(pd.Series)\n",
    "df = df.div(df.sum(axis=\"rows\"), axis=\"columns\")\n",
    "# rename columns\n",
    "df = df.rename(columns=dict((f\"{i}\", j) for i, j in zip(class_index, class_labels)))"
   ]
  },
  {
   "cell_type": "code",
   "execution_count": null,
   "metadata": {},
   "outputs": [],
   "source": [
    "df.plot.bar();"
   ]
  }
 ],
 "metadata": {
  "kernelspec": {
   "display_name": "Python 3 (ipykernel)",
   "language": "python",
   "name": "python3"
  },
  "language_info": {
   "codemirror_mode": {
    "name": "ipython",
    "version": 3
   },
   "file_extension": ".py",
   "mimetype": "text/x-python",
   "name": "python",
   "nbconvert_exporter": "python",
   "pygments_lexer": "ipython3",
   "version": "3.10.8"
  },
  "vscode": {
   "interpreter": {
    "hash": "9b6078babb870517194afb6a5d443c6ad074b196361b56d51d5b01f9e698b9c2"
   }
  }
 },
 "nbformat": 4,
 "nbformat_minor": 4
}
