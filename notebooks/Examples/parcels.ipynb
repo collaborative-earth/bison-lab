{
 "cells": [
  {
   "cell_type": "code",
   "execution_count": 1,
   "metadata": {},
   "outputs": [],
   "source": [
    "import ee\n",
    "import eemont  # noqa: F401\n",
    "import geemap\n",
    "import geemap.colormaps as cm\n",
    "import pandas as pd"
   ]
  },
  {
   "cell_type": "code",
   "execution_count": 2,
   "metadata": {},
   "outputs": [],
   "source": [
    "# ee.Authenticate()\n",
    "ee.Initialize()"
   ]
  },
  {
   "cell_type": "code",
   "execution_count": 3,
   "metadata": {},
   "outputs": [],
   "source": [
    "buffalo_expansion = ee.FeatureCollection(\n",
    "    \"projects/bison-lab/assets/Buffalo_Expansion_polygons\"\n",
    ")"
   ]
  },
  {
   "cell_type": "code",
   "execution_count": 4,
   "metadata": {},
   "outputs": [],
   "source": [
    "parcels = buffalo_expansion.filter(\n",
    "    ee.Filter.inList(\n",
    "        \"Name\",\n",
    "        [\n",
    "            \"Shoshone Tribe\",\n",
    "            \"Buffalo Initiative\",\n",
    "            \"Hellyer Tribal Lease\",\n",
    "            \"Adels Property\",\n",
    "            \"Hoopengarner Property\",\n",
    "            \"Hellyer Place\",\n",
    "        ],\n",
    "    )\n",
    ")"
   ]
  },
  {
   "cell_type": "code",
   "execution_count": 5,
   "metadata": {},
   "outputs": [
    {
     "data": {
      "application/vnd.jupyter.widget-view+json": {
       "model_id": "f6405dd0f250473eb09d6d9b30f14bcb",
       "version_major": 2,
       "version_minor": 0
      },
      "text/plain": [
       "Map(center=[43.20344242266163, -108.80591236968854], controls=(WidgetControl(options=['position', 'transparent…"
      ]
     },
     "execution_count": 5,
     "metadata": {},
     "output_type": "execute_result"
    }
   ],
   "source": [
    "m = geemap.Map()\n",
    "m.addLayer(parcels, {\"color\": \"red\"}, \"Parcels\")\n",
    "m.centerObject(parcels, 14)\n",
    "m"
   ]
  },
  {
   "cell_type": "code",
   "execution_count": 6,
   "metadata": {},
   "outputs": [],
   "source": [
    "veg = ee.ImageCollection(\"projects/rangeland-analysis-platform/vegetation-cover-v3\")\n",
    "    # .closest(\"2018-01-01\")\n",
    "    # .first()\n"
   ]
  },
  {
   "cell_type": "code",
   "execution_count": 7,
   "metadata": {},
   "outputs": [
    {
     "data": {
      "application/vnd.jupyter.widget-view+json": {
       "model_id": "28084725963b41768afb6eaa7dd42e2e",
       "version_major": 2,
       "version_minor": 0
      },
      "text/plain": [
       "Map(center=[43.20344242266163, -108.80591236968854], controls=(WidgetControl(options=['position', 'transparent…"
      ]
     },
     "execution_count": 7,
     "metadata": {},
     "output_type": "execute_result"
    }
   ],
   "source": [
    "m = geemap.Map()\n",
    "\n",
    "m.addLayer(veg, {}, '')\n",
    "\n",
    "vis_parcels = {\n",
    "    \"color\": \"000000\",\n",
    "    \"width\": 4,\n",
    "    \"lineType\": \"solid\",\n",
    "    \"fillColor\": \"00000000\",\n",
    "}\n",
    "m.addLayer(parcels.style(**vis_parcels), {}, \"Parcels\")\n",
    "\n",
    "m.centerObject(parcels, 14)\n",
    "m"
   ]
  },
  {
   "cell_type": "markdown",
   "metadata": {},
   "source": [
    "### Calculate the mean NDVI for each parcel"
   ]
  },
  {
   "cell_type": "code",
   "execution_count": null,
   "metadata": {},
   "outputs": [],
   "source": [
    "# Calc mean within each parcel\n",
    "# NOTE: reduceRegions only works on Images, not featureCollections\n",
    "stats = img.reduceRegions(parcels, \"mean\", 250)"
   ]
  },
  {
   "cell_type": "markdown",
   "metadata": {},
   "source": [
    "`stats` is a `FeatureCollection` so let's convert it to a Pandas DataFrame"
   ]
  },
  {
   "cell_type": "code",
   "execution_count": null,
   "metadata": {},
   "outputs": [],
   "source": [
    "df = geemap.ee_to_pandas(stats)\n",
    "df = df[[\"Name\", \"mean\"]]"
   ]
  },
  {
   "cell_type": "code",
   "execution_count": null,
   "metadata": {},
   "outputs": [],
   "source": [
    "df"
   ]
  },
  {
   "cell_type": "markdown",
   "metadata": {},
   "source": [
    "## Time Series"
   ]
  },
  {
   "cell_type": "code",
   "execution_count": null,
   "metadata": {},
   "outputs": [],
   "source": [
    "# Load time series of NDVI\n",
    "ds = (\n",
    "    ee.ImageCollection(\"MODIS/061/MOD13Q1\")\n",
    "    .filterDate(\"2010-01-01\", \"2012-01-01\")\n",
    "    .scaleAndOffset()\n",
    "    .select(\"NDVI\")\n",
    ")"
   ]
  },
  {
   "cell_type": "markdown",
   "metadata": {},
   "source": [
    "#### Calc mean within each parcel"
   ]
  },
  {
   "cell_type": "code",
   "execution_count": null,
   "metadata": {},
   "outputs": [],
   "source": [
    "# NOTE: toBands() Converts the image collection to a single multi-band image, necessary to allow reduceRegions\n",
    "stats = ds.toBands().reduceRegions(parcels, \"mean\", 250)"
   ]
  },
  {
   "cell_type": "markdown",
   "metadata": {},
   "source": [
    "`stats` is a `FeatureCollection` so let's convert it to a `pd.DataFrame`"
   ]
  },
  {
   "cell_type": "code",
   "execution_count": null,
   "metadata": {},
   "outputs": [],
   "source": [
    "df = geemap.ee_to_df(stats)"
   ]
  },
  {
   "cell_type": "code",
   "execution_count": null,
   "metadata": {
    "tags": []
   },
   "outputs": [],
   "source": [
    "# Drop un-needed columns\n",
    "df = df.drop(\n",
    "    columns=[\n",
    "        \"visibility\",\n",
    "        \"descriptio\",\n",
    "        \"tessellate\",\n",
    "        \"extrude\",\n",
    "        \"icon\",\n",
    "        \"end\",\n",
    "        \"begin\",\n",
    "        \"timestamp\",\n",
    "        \"altitudeMo\",\n",
    "    ]\n",
    ")\n",
    "\n",
    "# Set Names as index and transpose dataframe to have timeseries as index\n",
    "df = df.set_index(\"Name\").T\n",
    "\n",
    "# Replace index of strings with datetimes from image collection\n",
    "dates = pd.DatetimeIndex(\n",
    "    pd.datetime.fromisoformat(x) for x in geemap.image_dates(ds).getInfo()\n",
    ")\n",
    "df.index = pd.DatetimeIndex(dates)"
   ]
  },
  {
   "cell_type": "code",
   "execution_count": null,
   "metadata": {},
   "outputs": [],
   "source": [
    "# Now we have a dataframe with NDVI for each parcel\n",
    "df"
   ]
  },
  {
   "cell_type": "code",
   "execution_count": null,
   "metadata": {},
   "outputs": [],
   "source": [
    "df.plot(figsize=(12, 6), xlabel=\"Date\", ylabel=\"NDVI\").legend(loc=\"upper left\");"
   ]
  }
 ],
 "metadata": {
  "kernelspec": {
   "display_name": "Python 3 (ipykernel)",
   "language": "python",
   "name": "python3"
  },
  "language_info": {
   "codemirror_mode": {
    "name": "ipython",
    "version": 3
   },
   "file_extension": ".py",
   "mimetype": "text/x-python",
   "name": "python",
   "nbconvert_exporter": "python",
   "pygments_lexer": "ipython3",
   "version": "3.10.6"
  },
  "vscode": {
   "interpreter": {
    "hash": "9b6078babb870517194afb6a5d443c6ad074b196361b56d51d5b01f9e698b9c2"
   }
  }
 },
 "nbformat": 4,
 "nbformat_minor": 4
}
