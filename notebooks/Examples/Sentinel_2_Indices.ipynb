{
 "cells": [
  {
   "cell_type": "code",
   "execution_count": 1,
   "id": "39ee2f7b-5a05-462a-bafd-87adddf8f625",
   "metadata": {},
   "outputs": [],
   "source": [
    "import ee\n",
    "import eemont  # noqa: F401\n",
    "import geemap\n",
    "import geemap.colormaps as cm\n",
    "from ipygee import chart\n",
    "from bisonlab.data import s2_sr_harmonized\n",
    "# import pandas as pd"
   ]
  },
  {
   "cell_type": "code",
   "execution_count": 2,
   "id": "f63a4f02-9377-4c33-a5cb-29a3c0981b56",
   "metadata": {},
   "outputs": [],
   "source": [
    "# ee.Authenticate()\n",
    "ee.Initialize()"
   ]
  },
  {
   "cell_type": "code",
   "execution_count": 3,
   "id": "a3287488-6c55-48c7-9cb8-45793a07469a",
   "metadata": {},
   "outputs": [],
   "source": [
    "buffalo_expansion = ee.FeatureCollection(\n",
    "    \"projects/colinhill/assets/bison-lab/Buffalo_Expansion_polygons\"\n",
    ")"
   ]
  },
  {
   "cell_type": "code",
   "execution_count": 45,
   "id": "9e0210f4-a901-4b09-899c-d6de064e11d7",
   "metadata": {},
   "outputs": [],
   "source": [
    "parcels = buffalo_expansion.filter(\n",
    "    ee.Filter.inList(\n",
    "        \"Name\",\n",
    "        [\n",
    "            \"Shoshone Tribe\",\n",
    "            \"Hellyer Tribal Lease\",\n",
    "        ],\n",
    "    )\n",
    ")\n",
    "\n",
    "parcel = buffalo_expansion.filter(ee.Filter.eq(\"Name\", \"Shoshone Tribe\"))"
   ]
  },
  {
   "cell_type": "code",
   "execution_count": 41,
   "id": "6357dc0e-86cb-48ce-8301-431a80246258",
   "metadata": {},
   "outputs": [
    {
     "data": {
      "text/plain": [
       "{'type': 'Point', 'coordinates': [-108.79519868020131, 43.20280898430678]}"
      ]
     },
     "execution_count": 41,
     "metadata": {},
     "output_type": "execute_result"
    }
   ],
   "source": [
    "buffalo_expansion.filter(ee.Filter.eq(\"Name\", \"Shoshone Tribe\")).geometry().centroid().getInfo()"
   ]
  },
  {
   "cell_type": "code",
   "execution_count": 53,
   "id": "4a990a44-4c0d-4f7e-846a-4a444139dbef",
   "metadata": {},
   "outputs": [],
   "source": [
    "start_date = \"2016-07-01\"\n",
    "end_date = \"2018-12-01\""
   ]
  },
  {
   "cell_type": "code",
   "execution_count": 6,
   "id": "f4ab919f-7852-463f-b3d5-22528e23daf4",
   "metadata": {},
   "outputs": [],
   "source": [
    "s2 = s2_sr_harmonized(parcels, start_date, end_date).spectralIndices([\"NDVI\", \"EVI\"])"
   ]
  },
  {
   "cell_type": "code",
   "execution_count": 54,
   "id": "31347f8c-0a65-4ef7-b0ae-d62cedd32853",
   "metadata": {},
   "outputs": [],
   "source": [
    "s2 = (\n",
    "    ee.ImageCollection(\"COPERNICUS/S2\")\n",
    "    .filterBounds(parcels)\n",
    "    .filterDate(start_date, end_date)\n",
    "    .maskClouds(method='qa')\n",
    "    .scaleAndOffset()\n",
    ").tasseledCap()"
   ]
  },
  {
   "cell_type": "code",
   "execution_count": 55,
   "id": "7f7fa721-f5a8-487f-b760-765cce8f79a9",
   "metadata": {},
   "outputs": [],
   "source": [
    "rgbUnscaled = {'min':0, 'max':3000, 'bands':['B4','B3','B2']}\n",
    "rgbScaled = {'min':0, 'max':0.3, 'bands':['B4','B3','B2']}"
   ]
  },
  {
   "cell_type": "code",
   "execution_count": 85,
   "id": "3ad92f15-1198-40a3-9d74-f49f5846ac72",
   "metadata": {},
   "outputs": [
    {
     "data": {
      "application/vnd.jupyter.widget-view+json": {
       "model_id": "ede202a764ec48b9a6ee72b18b8a6de0",
       "version_major": 2,
       "version_minor": 0
      },
      "text/plain": [
       "Map(center=[43.20224844499325, -108.80004390509521], controls=(WidgetControl(options=['position', 'transparent…"
      ]
     },
     "execution_count": 85,
     "metadata": {},
     "output_type": "execute_result"
    }
   ],
   "source": [
    "m = geemap.Map()\n",
    "# m.addLayer(s2.first(), rgbScaled, \"s2\")\n",
    "# m.addLayer(s2.select('TCW').first(), {'min':-1, 'max':0, 'bands':'TCW'}, \"\")\n",
    "# m.addLayer(s2.select('TCB').first(), {'min':0, 'max':1, 'bands':'TCB'}, \"\")\n",
    "# m.addLayer(s2.select('TCG').first(), {'min':-0.5, 'max':1, 'bands':'TCG'}, \"\")\n",
    "m.addLayer(s2.select('TCG').first(), {\"min\": -1, \"max\": 1, \"palette\": cm.palettes.ndvi}, \"\")\n",
    "m.centerObject(parcels, 12)\n",
    "m"
   ]
  },
  {
   "cell_type": "code",
   "execution_count": 18,
   "id": "a8434184-9353-4f9d-a49d-73db4e8142f8",
   "metadata": {},
   "outputs": [],
   "source": [
    "# point = buffalo_expansion.filter(ee.Filter.inList('Name', [\"Shoshone Tribe\"])).first().geometry().centroid()\n",
    "\n",
    "points = ee.FeatureCollection([\n",
    "    buffalo_expansion.filter(ee.Filter.inList('Name', [\"Shoshone Tribe\"])).first().geometry().centroid(),\n",
    "    buffalo_expansion.filter(ee.Filter.inList('Name', [\"Hellyer Tribal Lease\"])).first().geometry().centroid()\n",
    "])"
   ]
  },
  {
   "cell_type": "code",
   "execution_count": 11,
   "id": "d2b16e97-4a53-4e55-89b5-6f2135b19466",
   "metadata": {
    "tags": []
   },
   "outputs": [
    {
     "ename": "KeyError",
     "evalue": "'system:time_start'",
     "output_type": "error",
     "traceback": [
      "\u001b[0;31m---------------------------------------------------------------------------\u001b[0m",
      "\u001b[0;31mKeyError\u001b[0m                                  Traceback (most recent call last)",
      "Cell \u001b[0;32mIn [11], line 1\u001b[0m\n\u001b[0;32m----> 1\u001b[0m chart_ts \u001b[38;5;241m=\u001b[39m \u001b[43mchart\u001b[49m\u001b[38;5;241;43m.\u001b[39;49m\u001b[43mImage\u001b[49m\u001b[38;5;241;43m.\u001b[39;49m\u001b[43mseries\u001b[49m\u001b[43m(\u001b[49m\u001b[38;5;241;43m*\u001b[39;49m\u001b[38;5;241;43m*\u001b[39;49m\u001b[43m{\u001b[49m\n\u001b[1;32m      2\u001b[0m \u001b[43m    \u001b[49m\u001b[38;5;124;43m'\u001b[39;49m\u001b[38;5;124;43mimageCollection\u001b[39;49m\u001b[38;5;124;43m'\u001b[39;49m\u001b[43m:\u001b[49m\u001b[43m \u001b[49m\u001b[43ms2\u001b[49m\u001b[43m,\u001b[49m\n\u001b[1;32m      3\u001b[0m \u001b[43m    \u001b[49m\u001b[38;5;124;43m'\u001b[39;49m\u001b[38;5;124;43mreducer\u001b[39;49m\u001b[38;5;124;43m'\u001b[39;49m\u001b[43m:\u001b[49m\u001b[43m \u001b[49m\u001b[38;5;124;43m'\u001b[39;49m\u001b[38;5;124;43mmean\u001b[39;49m\u001b[38;5;124;43m'\u001b[39;49m\u001b[43m,\u001b[49m\n\u001b[1;32m      4\u001b[0m \u001b[43m    \u001b[49m\u001b[38;5;124;43m'\u001b[39;49m\u001b[38;5;124;43mregion\u001b[39;49m\u001b[38;5;124;43m'\u001b[39;49m\u001b[43m:\u001b[49m\u001b[43m \u001b[49m\u001b[43mparcels\u001b[49m\u001b[43m,\u001b[49m\n\u001b[1;32m      5\u001b[0m \u001b[43m    \u001b[49m\u001b[38;5;124;43m'\u001b[39;49m\u001b[38;5;124;43mscale\u001b[39;49m\u001b[38;5;124;43m'\u001b[39;49m\u001b[43m:\u001b[49m\u001b[43m \u001b[49m\u001b[38;5;241;43m10\u001b[39;49m\u001b[43m,\u001b[49m\n\u001b[1;32m      6\u001b[0m \u001b[43m    \u001b[49m\u001b[38;5;124;43m'\u001b[39;49m\u001b[38;5;124;43mbands\u001b[39;49m\u001b[38;5;124;43m'\u001b[39;49m\u001b[43m:\u001b[49m\u001b[43m \u001b[49m\u001b[43m[\u001b[49m\u001b[38;5;124;43m'\u001b[39;49m\u001b[38;5;124;43mNDVI\u001b[39;49m\u001b[38;5;124;43m'\u001b[39;49m\u001b[43m,\u001b[49m\u001b[43m \u001b[49m\u001b[38;5;124;43m'\u001b[39;49m\u001b[38;5;124;43mEVI\u001b[39;49m\u001b[38;5;124;43m'\u001b[39;49m\u001b[43m]\u001b[49m\u001b[43m,\u001b[49m\n\u001b[1;32m      7\u001b[0m \u001b[43m}\u001b[49m\u001b[43m)\u001b[49m\n",
      "File \u001b[0;32m~/software/miniconda3/envs/bison-lab/lib/python3.10/site-packages/ipygee/chart.py:324\u001b[0m, in \u001b[0;36mImage.series\u001b[0;34m(imageCollection, region, reducer, scale, xProperty, bands, label_bands, properties, label_properties, **kwargs)\u001b[0m\n\u001b[1;32m    321\u001b[0m                 data[iid]\u001b[38;5;241m.\u001b[39mpop(old_name)\n\u001b[1;32m    323\u001b[0m df \u001b[38;5;241m=\u001b[39m tools\u001b[38;5;241m.\u001b[39mimagecollection\u001b[38;5;241m.\u001b[39mdata2pandas(data)\n\u001b[0;32m--> 324\u001b[0m newdf \u001b[38;5;241m=\u001b[39m \u001b[43mdf\u001b[49m\u001b[38;5;241;43m.\u001b[39;49m\u001b[43msort_values\u001b[49m\u001b[43m(\u001b[49m\u001b[43mxProperty\u001b[49m\u001b[43m)\u001b[49m\n\u001b[1;32m    326\u001b[0m \u001b[38;5;28;01mif\u001b[39;00m datetime:\n\u001b[1;32m    327\u001b[0m     chart \u001b[38;5;241m=\u001b[39m DateTimeLine(\u001b[38;5;241m*\u001b[39m\u001b[38;5;241m*\u001b[39mkwargs)\n",
      "File \u001b[0;32m~/software/miniconda3/envs/bison-lab/lib/python3.10/site-packages/pandas/util/_decorators.py:331\u001b[0m, in \u001b[0;36mdeprecate_nonkeyword_arguments.<locals>.decorate.<locals>.wrapper\u001b[0;34m(*args, **kwargs)\u001b[0m\n\u001b[1;32m    325\u001b[0m \u001b[38;5;28;01mif\u001b[39;00m \u001b[38;5;28mlen\u001b[39m(args) \u001b[38;5;241m>\u001b[39m num_allow_args:\n\u001b[1;32m    326\u001b[0m     warnings\u001b[38;5;241m.\u001b[39mwarn(\n\u001b[1;32m    327\u001b[0m         msg\u001b[38;5;241m.\u001b[39mformat(arguments\u001b[38;5;241m=\u001b[39m_format_argument_list(allow_args)),\n\u001b[1;32m    328\u001b[0m         \u001b[38;5;167;01mFutureWarning\u001b[39;00m,\n\u001b[1;32m    329\u001b[0m         stacklevel\u001b[38;5;241m=\u001b[39mfind_stack_level(),\n\u001b[1;32m    330\u001b[0m     )\n\u001b[0;32m--> 331\u001b[0m \u001b[38;5;28;01mreturn\u001b[39;00m \u001b[43mfunc\u001b[49m\u001b[43m(\u001b[49m\u001b[38;5;241;43m*\u001b[39;49m\u001b[43margs\u001b[49m\u001b[43m,\u001b[49m\u001b[43m \u001b[49m\u001b[38;5;241;43m*\u001b[39;49m\u001b[38;5;241;43m*\u001b[39;49m\u001b[43mkwargs\u001b[49m\u001b[43m)\u001b[49m\n",
      "File \u001b[0;32m~/software/miniconda3/envs/bison-lab/lib/python3.10/site-packages/pandas/core/frame.py:6901\u001b[0m, in \u001b[0;36mDataFrame.sort_values\u001b[0;34m(self, by, axis, ascending, inplace, kind, na_position, ignore_index, key)\u001b[0m\n\u001b[1;32m   6897\u001b[0m \u001b[38;5;28;01melif\u001b[39;00m \u001b[38;5;28mlen\u001b[39m(by):\n\u001b[1;32m   6898\u001b[0m     \u001b[38;5;66;03m# len(by) == 1\u001b[39;00m\n\u001b[1;32m   6900\u001b[0m     by \u001b[38;5;241m=\u001b[39m by[\u001b[38;5;241m0\u001b[39m]\n\u001b[0;32m-> 6901\u001b[0m     k \u001b[38;5;241m=\u001b[39m \u001b[38;5;28;43mself\u001b[39;49m\u001b[38;5;241;43m.\u001b[39;49m\u001b[43m_get_label_or_level_values\u001b[49m\u001b[43m(\u001b[49m\u001b[43mby\u001b[49m\u001b[43m,\u001b[49m\u001b[43m \u001b[49m\u001b[43maxis\u001b[49m\u001b[38;5;241;43m=\u001b[39;49m\u001b[43maxis\u001b[49m\u001b[43m)\u001b[49m\n\u001b[1;32m   6903\u001b[0m     \u001b[38;5;66;03m# need to rewrap column in Series to apply key function\u001b[39;00m\n\u001b[1;32m   6904\u001b[0m     \u001b[38;5;28;01mif\u001b[39;00m key \u001b[38;5;129;01mis\u001b[39;00m \u001b[38;5;129;01mnot\u001b[39;00m \u001b[38;5;28;01mNone\u001b[39;00m:\n\u001b[1;32m   6905\u001b[0m         \u001b[38;5;66;03m# error: Incompatible types in assignment (expression has type\u001b[39;00m\n\u001b[1;32m   6906\u001b[0m         \u001b[38;5;66;03m# \"Series\", variable has type \"ndarray\")\u001b[39;00m\n",
      "File \u001b[0;32m~/software/miniconda3/envs/bison-lab/lib/python3.10/site-packages/pandas/core/generic.py:1850\u001b[0m, in \u001b[0;36mNDFrame._get_label_or_level_values\u001b[0;34m(self, key, axis)\u001b[0m\n\u001b[1;32m   1844\u001b[0m     values \u001b[38;5;241m=\u001b[39m (\n\u001b[1;32m   1845\u001b[0m         \u001b[38;5;28mself\u001b[39m\u001b[38;5;241m.\u001b[39maxes[axis]\n\u001b[1;32m   1846\u001b[0m         \u001b[38;5;241m.\u001b[39mget_level_values(key)  \u001b[38;5;66;03m# type: ignore[assignment]\u001b[39;00m\n\u001b[1;32m   1847\u001b[0m         \u001b[38;5;241m.\u001b[39m_values\n\u001b[1;32m   1848\u001b[0m     )\n\u001b[1;32m   1849\u001b[0m \u001b[38;5;28;01melse\u001b[39;00m:\n\u001b[0;32m-> 1850\u001b[0m     \u001b[38;5;28;01mraise\u001b[39;00m \u001b[38;5;167;01mKeyError\u001b[39;00m(key)\n\u001b[1;32m   1852\u001b[0m \u001b[38;5;66;03m# Check for duplicates\u001b[39;00m\n\u001b[1;32m   1853\u001b[0m \u001b[38;5;28;01mif\u001b[39;00m values\u001b[38;5;241m.\u001b[39mndim \u001b[38;5;241m>\u001b[39m \u001b[38;5;241m1\u001b[39m:\n",
      "\u001b[0;31mKeyError\u001b[0m: 'system:time_start'"
     ]
    }
   ],
   "source": [
    "chart_ts = chart.Image.series(**{\n",
    "    'imageCollection': s2,\n",
    "    'reducer': 'mean',\n",
    "    'region': parcels,\n",
    "    'scale': 10,\n",
    "    'bands': ['NDVI', 'EVI'],\n",
    "})"
   ]
  },
  {
   "cell_type": "code",
   "execution_count": 30,
   "id": "23bb6bf5-4345-4906-90f6-df82fe4ac0fa",
   "metadata": {},
   "outputs": [
    {
     "data": {
      "text/html": [
       "<div>\n",
       "<style scoped>\n",
       "    .dataframe tbody tr th:only-of-type {\n",
       "        vertical-align: middle;\n",
       "    }\n",
       "\n",
       "    .dataframe tbody tr th {\n",
       "        vertical-align: top;\n",
       "    }\n",
       "\n",
       "    .dataframe thead th {\n",
       "        text-align: right;\n",
       "    }\n",
       "</style>\n",
       "<table border=\"1\" class=\"dataframe\">\n",
       "  <thead>\n",
       "    <tr style=\"text-align: right;\">\n",
       "      <th></th>\n",
       "      <th>NDVI</th>\n",
       "      <th>EVI</th>\n",
       "    </tr>\n",
       "  </thead>\n",
       "  <tbody>\n",
       "    <tr>\n",
       "      <th>2020-01-03 18:22:10.654</th>\n",
       "      <td>0.014973</td>\n",
       "      <td>-0.169347</td>\n",
       "    </tr>\n",
       "    <tr>\n",
       "      <th>2020-01-10 18:12:14.002</th>\n",
       "      <td>0.079375</td>\n",
       "      <td>0.034604</td>\n",
       "    </tr>\n",
       "    <tr>\n",
       "      <th>2020-01-13 18:22:07.989</th>\n",
       "      <td>0.087330</td>\n",
       "      <td>0.046717</td>\n",
       "    </tr>\n",
       "    <tr>\n",
       "      <th>2020-01-15 18:12:13.778</th>\n",
       "      <td>0.087676</td>\n",
       "      <td>0.049477</td>\n",
       "    </tr>\n",
       "    <tr>\n",
       "      <th>2020-01-18 18:22:09.961</th>\n",
       "      <td>-0.026414</td>\n",
       "      <td>-0.031884</td>\n",
       "    </tr>\n",
       "    <tr>\n",
       "      <th>...</th>\n",
       "      <td>...</td>\n",
       "      <td>...</td>\n",
       "    </tr>\n",
       "    <tr>\n",
       "      <th>2020-11-08 18:22:20.447</th>\n",
       "      <td>0.260645</td>\n",
       "      <td>0.155258</td>\n",
       "    </tr>\n",
       "    <tr>\n",
       "      <th>2020-11-13 18:22:17.041</th>\n",
       "      <td>0.245108</td>\n",
       "      <td>0.147123</td>\n",
       "    </tr>\n",
       "    <tr>\n",
       "      <th>2020-11-15 18:12:22.968</th>\n",
       "      <td>0.219952</td>\n",
       "      <td>0.138034</td>\n",
       "    </tr>\n",
       "    <tr>\n",
       "      <th>2020-11-23 18:22:16.453</th>\n",
       "      <td>0.237796</td>\n",
       "      <td>0.106583</td>\n",
       "    </tr>\n",
       "    <tr>\n",
       "      <th>2020-11-25 18:12:20.829</th>\n",
       "      <td>0.210355</td>\n",
       "      <td>0.132050</td>\n",
       "    </tr>\n",
       "  </tbody>\n",
       "</table>\n",
       "<p>94 rows × 2 columns</p>\n",
       "</div>"
      ],
      "text/plain": [
       "                             NDVI       EVI\n",
       "2020-01-03 18:22:10.654  0.014973 -0.169347\n",
       "2020-01-10 18:12:14.002  0.079375  0.034604\n",
       "2020-01-13 18:22:07.989  0.087330  0.046717\n",
       "2020-01-15 18:12:13.778  0.087676  0.049477\n",
       "2020-01-18 18:22:09.961 -0.026414 -0.031884\n",
       "...                           ...       ...\n",
       "2020-11-08 18:22:20.447  0.260645  0.155258\n",
       "2020-11-13 18:22:17.041  0.245108  0.147123\n",
       "2020-11-15 18:12:22.968  0.219952  0.138034\n",
       "2020-11-23 18:22:16.453  0.237796  0.106583\n",
       "2020-11-25 18:12:20.829  0.210355  0.132050\n",
       "\n",
       "[94 rows x 2 columns]"
      ]
     },
     "execution_count": 30,
     "metadata": {},
     "output_type": "execute_result"
    }
   ],
   "source": [
    "chart_ts.dataframe"
   ]
  },
  {
   "cell_type": "code",
   "execution_count": 31,
   "id": "137a5b99-f189-4983-9672-87d8cc416564",
   "metadata": {},
   "outputs": [
    {
     "data": {
      "text/plain": [
       "<AxesSubplot: >"
      ]
     },
     "execution_count": 31,
     "metadata": {},
     "output_type": "execute_result"
    },
    {
     "data": {
      "image/png": "[encoded data removed]",
      "text/plain": [
       "<Figure size 640x480 with 1 Axes>"
      ]
     },
     "metadata": {},
     "output_type": "display_data"
    }
   ],
   "source": [
    "chart_ts.dataframe.plot()"
   ]
  },
  {
   "cell_type": "code",
   "execution_count": null,
   "id": "4073e24c-e4dc-48b1-9442-d9a69b471229",
   "metadata": {},
   "outputs": [],
   "source": [
    "df = geemap.ee_to_df(stats)"
   ]
  },
  {
   "cell_type": "code",
   "execution_count": null,
   "id": "12694f12-00f9-4465-87ec-f4771255cbb3",
   "metadata": {},
   "outputs": [],
   "source": []
  }
 ],
 "metadata": {
  "kernelspec": {
   "display_name": "Python 3 (ipykernel)",
   "language": "python",
   "name": "python3"
  },
  "language_info": {
   "codemirror_mode": {
    "name": "ipython",
    "version": 3
   },
   "file_extension": ".py",
   "mimetype": "text/x-python",
   "name": "python",
   "nbconvert_exporter": "python",
   "pygments_lexer": "ipython3",
   "version": "3.10.6"
  }
 },
 "nbformat": 4,
 "nbformat_minor": 5
}
