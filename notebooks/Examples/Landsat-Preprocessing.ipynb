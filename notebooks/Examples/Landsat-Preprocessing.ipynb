{
 "cells": [
  {
   "cell_type": "code",
   "execution_count": 1,
   "id": "b7be9eb6-82bb-4c8f-bb42-92fc1a592620",
   "metadata": {},
   "outputs": [],
   "source": [
    "import ee\n",
    "import bisonlab"
   ]
  },
  {
   "cell_type": "code",
   "execution_count": 2,
   "id": "5962d4bc-58da-4333-a9f5-b62c5480bcfe",
   "metadata": {},
   "outputs": [],
   "source": [
    "import eemont  # noqa: F401\n",
    "import geemap\n",
    "import geemap.colormaps as cm"
   ]
  },
  {
   "cell_type": "code",
   "execution_count": 3,
   "id": "20969dbf-d768-4134-81fd-7b226cd1c485",
   "metadata": {},
   "outputs": [],
   "source": [
    "# ee.Authenticate()\n",
    "ee.Initialize()"
   ]
  },
  {
   "cell_type": "code",
   "execution_count": 4,
   "id": "bea5cfbe-425c-4d6d-8e78-6e7e0cc2c439",
   "metadata": {},
   "outputs": [],
   "source": [
    "aoi = ee.Geometry.Point(-108.79519868020131, 43.20280898430678)\n",
    "start_date = '2021-01-01'\n",
    "end_date = '2021-12-31'"
   ]
  },
  {
   "cell_type": "code",
   "execution_count": 5,
   "id": "78e49ee0-285f-4b15-81c4-8b98fb7b3bc2",
   "metadata": {},
   "outputs": [],
   "source": [
    "col = bisonlab.data.landsat_9_sr(aoi, end_date='2022-01-10').spectralIndices([\"NDVI\"])"
   ]
  },
  {
   "cell_type": "code",
   "execution_count": 6,
   "id": "a3e7bd94-448e-4a40-9deb-8d7253f073f8",
   "metadata": {},
   "outputs": [
    {
     "data": {
      "application/vnd.jupyter.widget-view+json": {
       "model_id": "ca9d394867654bbcbc69c1b2b469e22a",
       "version_major": 2,
       "version_minor": 0
      },
      "text/plain": [
       "Map(center=[43.20280898430678, -108.79519868020132], controls=(WidgetControl(options=['position', 'transparent…"
      ]
     },
     "execution_count": 6,
     "metadata": {},
     "output_type": "execute_result"
    }
   ],
   "source": [
    "rgbScaled = {'min':0, 'max':0.3, 'bands':['SR_B4', 'SR_B3', 'SR_B2']}\n",
    "rgbUnscaled = {'min':0, 'max':3000,'bands':['SR_B4', 'SR_B3', 'SR_B2']}\n",
    "m = geemap.Map()\n",
    "\n",
    "# m.addLayer(col.first(), rgbScaled, \"\")\n",
    "# m.addLayer(col.first(), rgbUnscaled, \"\")\n",
    "m.addLayer(col.select('NDVI').first(), {\"min\": 0, \"max\": 1, \"palette\": cm.palettes.ndvi}, \"\")\n",
    "\n",
    "m.centerObject(aoi, 12)\n",
    "m"
   ]
  },
  {
   "cell_type": "code",
   "execution_count": null,
   "id": "d96dad0b-cfdf-4db9-85ef-f51d89a40fab",
   "metadata": {},
   "outputs": [],
   "source": []
  }
 ],
 "metadata": {
  "kernelspec": {
   "display_name": "Python 3 (ipykernel)",
   "language": "python",
   "name": "python3"
  },
  "language_info": {
   "codemirror_mode": {
    "name": "ipython",
    "version": 3
   },
   "file_extension": ".py",
   "mimetype": "text/x-python",
   "name": "python",
   "nbconvert_exporter": "python",
   "pygments_lexer": "ipython3",
   "version": "3.10.6"
  }
 },
 "nbformat": 4,
 "nbformat_minor": 5
}
