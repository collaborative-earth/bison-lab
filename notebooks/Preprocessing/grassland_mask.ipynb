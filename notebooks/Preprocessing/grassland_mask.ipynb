{
 "cells": [
  {
   "cell_type": "code",
   "execution_count": 1,
   "id": "97b8f256-7f4e-4e0e-83ca-ab2275beb6ee",
   "metadata": {},
   "outputs": [],
   "source": [
    "import ee\n",
    "import eemont  # noqa: F401\n",
    "import geemap\n",
    "import geemap.colormaps as cm\n",
    "# import matplotlib.dates as mdates\n",
    "# import matplotlib.pyplot as plt\n",
    "# import pandas as pd\n",
    "# import geopandas as gpd\n",
    "# import seaborn as sns\n",
    "\n",
    "from bisonlab.data import s2_sr_harmonized\n",
    "from bisonlab.io import kml_to_geodataframe\n",
    "from pathlib import Path"
   ]
  },
  {
   "cell_type": "code",
   "execution_count": 2,
   "id": "3cade2d1-dfd3-4538-b955-78fc388131fe",
   "metadata": {},
   "outputs": [
    {
     "data": {
      "text/html": [
       "<p>To authorize access needed by Earth Engine, open the following\n",
       "        URL in a web browser and follow the instructions:</p>\n",
       "        <p><a href=https://code.earthengine.google.com/client-auth?scopes=https%3A//www.googleapis.com/auth/earthengine%20https%3A//www.googleapis.com/auth/devstorage.full_control&request_id=WWLndC9v6q2clL4DTa0uLpoOHTAHsrrX7jQwYGkf9gc&tc=aBLyRmf9lFRXrEmC132yx0DEzB0N9hS1G-7OtEgmdQw&cc=1EFAv7ty6FyMWjbrtJ3IzWj64OoyBcHASL3n62C9Ifw>https://code.earthengine.google.com/client-auth?scopes=https%3A//www.googleapis.com/auth/earthengine%20https%3A//www.googleapis.com/auth/devstorage.full_control&request_id=WWLndC9v6q2clL4DTa0uLpoOHTAHsrrX7jQwYGkf9gc&tc=aBLyRmf9lFRXrEmC132yx0DEzB0N9hS1G-7OtEgmdQw&cc=1EFAv7ty6FyMWjbrtJ3IzWj64OoyBcHASL3n62C9Ifw</a></p>\n",
       "        <p>The authorization workflow will generate a code, which you should paste in the box below.</p>\n",
       "        "
      ],
      "text/plain": [
       "<IPython.core.display.HTML object>"
      ]
     },
     "metadata": {},
     "output_type": "display_data"
    },
    {
     "name": "stdin",
     "output_type": "stream",
     "text": [
      "Enter verification code:  4/1AWgavdcYJ8M-In4if7nZu4RXyl9u10qMSlx6-7Oei5N96ZWprKVy5BJB4C0\n"
     ]
    },
    {
     "name": "stdout",
     "output_type": "stream",
     "text": [
      "\n",
      "Successfully saved authorization token.\n"
     ]
    }
   ],
   "source": [
    "# ee.Authenticate()\n",
    "ee.Initialize()"
   ]
  },
  {
   "cell_type": "markdown",
   "id": "939a0ee6-ff92-43b5-83c4-5a4246c57bca",
   "metadata": {},
   "source": [
    "### Load Parcels"
   ]
  },
  {
   "cell_type": "code",
   "execution_count": 3,
   "id": "4915fb54-845a-4e54-a29d-fc03978d4515",
   "metadata": {},
   "outputs": [],
   "source": [
    "filepath = Path().cwd().parent.parent / \"data\" / \"local\" / \"WRTBI-Morton Soil Types.kml\"\n",
    "\n",
    "df = kml_to_geodataframe(filepath)\n",
    "\n",
    "df = df.rename(columns={\"Name\": \"subsection\", \"layer\": \"parcel\"})\n",
    "df = df.drop(columns='Description')"
   ]
  },
  {
   "cell_type": "code",
   "execution_count": 4,
   "id": "d8da64fa-60da-4d31-ba8b-611233fdeaaa",
   "metadata": {},
   "outputs": [],
   "source": [
    "# Union all \"mask\" polygons and create a separate mask dataframe\n",
    "idx = df[\"parcel\"] == \"mask\"\n",
    "df_mask = df[idx].dissolve(by=\"parcel\").reset_index()\n",
    "\n",
    "# Drop \"mask\" from parcel dataframe\n",
    "df = df.drop(index=idx.index[idx])"
   ]
  },
  {
   "cell_type": "code",
   "execution_count": 5,
   "id": "5fd14ee1-fa52-42a7-afad-a85280d7f2dd",
   "metadata": {},
   "outputs": [],
   "source": [
    "# Convert parcels dataframe to ee.featureCollection\n",
    "parcels = geemap.geopandas_to_ee(df)\n",
    "mask = geemap.geopandas_to_ee(df_mask)"
   ]
  },
  {
   "cell_type": "code",
   "execution_count": 32,
   "id": "64c2def9-20cb-463a-8de6-f3bafb08bd83",
   "metadata": {},
   "outputs": [],
   "source": [
    "# m = geemap.Map()\n",
    "# m.addLayer(parcels, {\"color\": \"red\"}, \"Parcels\")\n",
    "# m.addLayer(mask, {\"color\": \"blue\"}, \"mask\")\n",
    "# m.centerObject(parcels, 14)\n",
    "# m"
   ]
  },
  {
   "cell_type": "code",
   "execution_count": 10,
   "id": "96a4822e-839b-4a31-83c6-73f228a1d5f8",
   "metadata": {},
   "outputs": [],
   "source": [
    "worldcover = ee.ImageCollection('ESA/WorldCover/v200').first()"
   ]
  },
  {
   "cell_type": "code",
   "execution_count": 7,
   "id": "a53b80ec-51ca-433a-9145-9c75f97b13d9",
   "metadata": {},
   "outputs": [],
   "source": [
    "start_date = \"2017-03-28\"\n",
    "end_date = \"2022-11-01\""
   ]
  },
  {
   "cell_type": "code",
   "execution_count": 8,
   "id": "c8a45da6-d1c2-4a44-a24d-9e705dfeb756",
   "metadata": {},
   "outputs": [],
   "source": [
    "s2 = s2_sr_harmonized(parcels, start_date, end_date).spectralIndices(\"NDVI\")"
   ]
  },
  {
   "cell_type": "code",
   "execution_count": 9,
   "id": "94c195ad-96be-4a40-8a56-b3ca3b2f94da",
   "metadata": {},
   "outputs": [],
   "source": [
    "img = s2.select('NDVI').closest(\"2022-08-08\").first()"
   ]
  },
  {
   "cell_type": "code",
   "execution_count": 11,
   "id": "5cd02909-a470-4254-9434-bb316b311557",
   "metadata": {},
   "outputs": [],
   "source": [
    "rap_veg = (\n",
    "    ee.ImageCollection(\"projects/rangeland-analysis-platform/vegetation-cover-v3\")\n",
    "    .filterBounds(parcels)\n",
    ")"
   ]
  },
  {
   "cell_type": "code",
   "execution_count": null,
   "id": "ccbf5cb5-6d6f-40ca-9dbe-722bf30f7c45",
   "metadata": {},
   "outputs": [],
   "source": [
    "ImageCollection ‘projects/rangeland-analysis-platform/npp-partitioned-v3’"
   ]
  },
  {
   "cell_type": "code",
   "execution_count": 12,
   "id": "ab77fe95-7a7f-487f-b484-fdf14d2d1060",
   "metadata": {},
   "outputs": [],
   "source": [
    "rap_bands = ['AFG', 'BGR', 'LTR', 'PFG', 'SHR', 'TRE']\n",
    "rap_names = ['annual forb and grass', 'bare ground', 'litter', 'perennial forb and grass', 'shrub', 'tree']\n",
    "rap_palette = [\"006400\", \"ffbb22\", \"ffff4c\", \"f096ff\", \"fa0000\", \"b4b4b4\"]\n",
    "rap_band_names = dict(zip(rap_bands, rap_names))\n",
    "rap_legend = dict(zip(rap_names, rap_palette))\n",
    "rap_vis = {\n",
    "    'min': 1,\n",
    "    'max': 6,\n",
    "    'palette': rap_palette\n",
    "}"
   ]
  },
  {
   "cell_type": "code",
   "execution_count": 13,
   "id": "9331fd93-aadb-4de7-8ed2-67aa79b30bcb",
   "metadata": {},
   "outputs": [],
   "source": [
    "esri = ee.ImageCollection(\n",
    "    \"projects/sat-io/open-datasets/landcover/ESRI_Global-LULC_10m\"\n",
    ").mosaic()\n",
    "esri_vis = {\n",
    "    'min': 1,\n",
    "    'max': 10,\n",
    "    'palette': [\n",
    "        \"#1A5BAB\",\n",
    "        \"#358221\",\n",
    "        \"#A7D282\",\n",
    "        \"#87D19E\",\n",
    "        \"#FFDB5C\",\n",
    "        \"#EECFA8\",\n",
    "        \"#ED022A\",\n",
    "        \"#EDE9E4\",\n",
    "        \"#F2FAFF\",\n",
    "        \"#C8C8C8\",\n",
    "    ],\n",
    "}"
   ]
  },
  {
   "cell_type": "code",
   "execution_count": 14,
   "id": "f3e55b9e-b87a-4062-a504-dbd6d1fb6007",
   "metadata": {},
   "outputs": [],
   "source": [
    "rap = rap_veg.closest(\"2020\").first() #.select('TRE')"
   ]
  },
  {
   "cell_type": "code",
   "execution_count": 16,
   "id": "996d844d-8247-427c-beaa-8920c9db9978",
   "metadata": {},
   "outputs": [],
   "source": [
    "a = rap.toArray().arrayArgmax().arrayGet(0).rename('label')"
   ]
  },
  {
   "cell_type": "code",
   "execution_count": 71,
   "id": "9d7fd239-44d1-4a3e-99b5-dbcbb115ac5c",
   "metadata": {},
   "outputs": [],
   "source": [
    "def reverse_mask(img, mask):\n",
    "    \"\"\"Mask out (remove) pixels from an image\"\"\"\n",
    "    return img.mask(ee.Image(1).toByte().paint(mask, 0))"
   ]
  },
  {
   "cell_type": "code",
   "execution_count": 72,
   "id": "325eef96-128b-45ae-b519-0ca7bda9c8f6",
   "metadata": {},
   "outputs": [],
   "source": [
    "result = reverse_mask(img, mask)"
   ]
  },
  {
   "cell_type": "code",
   "execution_count": 73,
   "id": "ecfe2ba8-03d8-4159-8d2d-3c352eb17db0",
   "metadata": {},
   "outputs": [
    {
     "data": {
      "application/vnd.jupyter.widget-view+json": {
       "model_id": "ee29fbc875ee4369b12d26d243aeacbb",
       "version_major": 2,
       "version_minor": 0
      },
      "text/plain": [
       "Map(center=[43.1938352081597, -108.77802284064542], controls=(WidgetControl(options=['position', 'transparent_…"
      ]
     },
     "execution_count": 73,
     "metadata": {},
     "output_type": "execute_result"
    }
   ],
   "source": [
    "m = geemap.Map()\n",
    "m.add_basemap(basemap=\"SATELLITE\")\n",
    "m.addLayer(result, {\"min\": -1, \"max\": 1, \"palette\": cm.palettes.ndvi}, \"NDVI\")\n",
    "m.centerObject(mask, 18)\n",
    "m"
   ]
  },
  {
   "cell_type": "code",
   "execution_count": 30,
   "id": "e556e6e7-b26e-46de-9739-9483d2c7ebed",
   "metadata": {},
   "outputs": [
    {
     "ename": "EEException",
     "evalue": "Image.mask, argument 'mask': Invalid type.\nExpected type: Image<unknown bands>.\nActual type: FeatureCollection.",
     "output_type": "error",
     "traceback": [
      "\u001b[0;31m---------------------------------------------------------------------------\u001b[0m",
      "\u001b[0;31mHttpError\u001b[0m                                 Traceback (most recent call last)",
      "File \u001b[0;32m~/software/miniconda3/envs/bison-lab/lib/python3.10/site-packages/ee/data.py:328\u001b[0m, in \u001b[0;36m_execute_cloud_call\u001b[0;34m(call, num_retries)\u001b[0m\n\u001b[1;32m    327\u001b[0m \u001b[38;5;28;01mtry\u001b[39;00m:\n\u001b[0;32m--> 328\u001b[0m   \u001b[38;5;28;01mreturn\u001b[39;00m \u001b[43mcall\u001b[49m\u001b[38;5;241;43m.\u001b[39;49m\u001b[43mexecute\u001b[49m\u001b[43m(\u001b[49m\u001b[43mnum_retries\u001b[49m\u001b[38;5;241;43m=\u001b[39;49m\u001b[43mnum_retries\u001b[49m\u001b[43m)\u001b[49m\n\u001b[1;32m    329\u001b[0m \u001b[38;5;28;01mexcept\u001b[39;00m googleapiclient\u001b[38;5;241m.\u001b[39merrors\u001b[38;5;241m.\u001b[39mHttpError \u001b[38;5;28;01mas\u001b[39;00m e:\n",
      "File \u001b[0;32m~/software/miniconda3/envs/bison-lab/lib/python3.10/site-packages/googleapiclient/_helpers.py:134\u001b[0m, in \u001b[0;36mpositional.<locals>.positional_decorator.<locals>.positional_wrapper\u001b[0;34m(*args, **kwargs)\u001b[0m\n\u001b[1;32m    133\u001b[0m         logger\u001b[38;5;241m.\u001b[39mwarning(message)\n\u001b[0;32m--> 134\u001b[0m \u001b[38;5;28;01mreturn\u001b[39;00m \u001b[43mwrapped\u001b[49m\u001b[43m(\u001b[49m\u001b[38;5;241;43m*\u001b[39;49m\u001b[43margs\u001b[49m\u001b[43m,\u001b[49m\u001b[43m \u001b[49m\u001b[38;5;241;43m*\u001b[39;49m\u001b[38;5;241;43m*\u001b[39;49m\u001b[43mkwargs\u001b[49m\u001b[43m)\u001b[49m\n",
      "File \u001b[0;32m~/software/miniconda3/envs/bison-lab/lib/python3.10/site-packages/googleapiclient/http.py:915\u001b[0m, in \u001b[0;36mHttpRequest.execute\u001b[0;34m(self, http, num_retries)\u001b[0m\n\u001b[1;32m    914\u001b[0m \u001b[38;5;28;01mif\u001b[39;00m resp\u001b[38;5;241m.\u001b[39mstatus \u001b[38;5;241m>\u001b[39m\u001b[38;5;241m=\u001b[39m \u001b[38;5;241m300\u001b[39m:\n\u001b[0;32m--> 915\u001b[0m     \u001b[38;5;28;01mraise\u001b[39;00m HttpError(resp, content, uri\u001b[38;5;241m=\u001b[39m\u001b[38;5;28mself\u001b[39m\u001b[38;5;241m.\u001b[39muri)\n\u001b[1;32m    916\u001b[0m \u001b[38;5;28;01mreturn\u001b[39;00m \u001b[38;5;28mself\u001b[39m\u001b[38;5;241m.\u001b[39mpostproc(resp, content)\n",
      "\u001b[0;31mHttpError\u001b[0m: <HttpError 400 when requesting https://earthengine.googleapis.com/v1alpha/projects/earthengine-legacy/maps?fields=name&alt=json returned \"Image.mask, argument 'mask': Invalid type.\nExpected type: Image<unknown bands>.\nActual type: FeatureCollection.\". Details: \"Image.mask, argument 'mask': Invalid type.\nExpected type: Image<unknown bands>.\nActual type: FeatureCollection.\">",
      "\nDuring handling of the above exception, another exception occurred:\n",
      "\u001b[0;31mEEException\u001b[0m                               Traceback (most recent call last)",
      "Cell \u001b[0;32mIn [34], line 24\u001b[0m\n\u001b[1;32m      2\u001b[0m m\u001b[38;5;241m.\u001b[39madd_basemap(basemap\u001b[38;5;241m=\u001b[39m\u001b[38;5;124m\"\u001b[39m\u001b[38;5;124mSATELLITE\u001b[39m\u001b[38;5;124m\"\u001b[39m)\n\u001b[1;32m      4\u001b[0m \u001b[38;5;66;03m# m.addLayer(worldcover, {'bands': ['Map'],}, \"ESA\")\u001b[39;00m\n\u001b[1;32m      5\u001b[0m \u001b[38;5;66;03m# m.addLayer(esri, esri_vis, \"ESRI\")\u001b[39;00m\n\u001b[1;32m      6\u001b[0m \n\u001b[0;32m   (...)\u001b[0m\n\u001b[1;32m     22\u001b[0m \u001b[38;5;66;03m# m.addLayer(rap.gt(0).selfMask(), {}, \"\")\u001b[39;00m\n\u001b[1;32m     23\u001b[0m \u001b[38;5;66;03m# m.addLayer(a, {}, \"\")\u001b[39;00m\n\u001b[0;32m---> 24\u001b[0m \u001b[43mm\u001b[49m\u001b[38;5;241;43m.\u001b[39;49m\u001b[43maddLayer\u001b[49m\u001b[43m(\u001b[49m\u001b[43ma\u001b[49m\u001b[38;5;241;43m.\u001b[39;49m\u001b[43mmask\u001b[49m\u001b[43m(\u001b[49m\u001b[43mmask\u001b[49m\u001b[43m)\u001b[49m\u001b[43m,\u001b[49m\u001b[43m \u001b[49m\u001b[43mrap_vis\u001b[49m\u001b[43m,\u001b[49m\u001b[43m \u001b[49m\u001b[38;5;124;43m\"\u001b[39;49m\u001b[38;5;124;43mrangelands\u001b[39;49m\u001b[38;5;124;43m\"\u001b[39;49m\u001b[43m)\u001b[49m\n\u001b[1;32m     25\u001b[0m m\u001b[38;5;241m.\u001b[39madd_legend(title\u001b[38;5;241m=\u001b[39m\u001b[38;5;124m'\u001b[39m\u001b[38;5;124mrangelands\u001b[39m\u001b[38;5;124m'\u001b[39m, legend_dict\u001b[38;5;241m=\u001b[39mrap_legend, draggable\u001b[38;5;241m=\u001b[39m\u001b[38;5;28;01mFalse\u001b[39;00m)\n\u001b[1;32m     27\u001b[0m \u001b[38;5;66;03m# m.addLayer(rap, {\"min\": 0, \"max\": 255, \"palette\": cm.palettes.viridis}, \"rangelands\")\u001b[39;00m\n\u001b[1;32m     28\u001b[0m \u001b[38;5;66;03m# m.add_colorbar_branca(colors=rap_palette, vmin=1, vmax=6, categorical=True, step = 6, layer_name=\"rangeland\")\u001b[39;00m\n",
      "File \u001b[0;32m~/software/miniconda3/envs/bison-lab/lib/python3.10/site-packages/geemap/geemap.py:1489\u001b[0m, in \u001b[0;36mMap.add_ee_layer\u001b[0;34m(self, ee_object, vis_params, name, shown, opacity)\u001b[0m\n\u001b[1;32m   1484\u001b[0m     \u001b[38;5;28;01melif\u001b[39;00m \u001b[38;5;129;01mnot\u001b[39;00m \u001b[38;5;28misinstance\u001b[39m(vis_params[\u001b[38;5;124m\"\u001b[39m\u001b[38;5;124mpalette\u001b[39m\u001b[38;5;124m\"\u001b[39m], \u001b[38;5;28mlist\u001b[39m):\n\u001b[1;32m   1485\u001b[0m         \u001b[38;5;28;01mraise\u001b[39;00m \u001b[38;5;167;01mValueError\u001b[39;00m(\n\u001b[1;32m   1486\u001b[0m             \u001b[38;5;124m\"\u001b[39m\u001b[38;5;124mThe palette must be a list of colors or a string or a Box object.\u001b[39m\u001b[38;5;124m\"\u001b[39m\n\u001b[1;32m   1487\u001b[0m         )\n\u001b[0;32m-> 1489\u001b[0m map_id_dict \u001b[38;5;241m=\u001b[39m ee\u001b[38;5;241m.\u001b[39mImage(image)\u001b[38;5;241m.\u001b[39mgetMapId(vis_params)\n\u001b[1;32m   1490\u001b[0m url \u001b[38;5;241m=\u001b[39m map_id_dict[\u001b[38;5;124m\"\u001b[39m\u001b[38;5;124mtile_fetcher\u001b[39m\u001b[38;5;124m\"\u001b[39m]\u001b[38;5;241m.\u001b[39murl_format\n\u001b[1;32m   1491\u001b[0m tile_layer \u001b[38;5;241m=\u001b[39m ipyleaflet\u001b[38;5;241m.\u001b[39mTileLayer(\n\u001b[1;32m   1492\u001b[0m     url\u001b[38;5;241m=\u001b[39murl,\n\u001b[1;32m   1493\u001b[0m     attribution\u001b[38;5;241m=\u001b[39m\u001b[38;5;124m\"\u001b[39m\u001b[38;5;124mGoogle Earth Engine\u001b[39m\u001b[38;5;124m\"\u001b[39m,\n\u001b[0;32m   (...)\u001b[0m\n\u001b[1;32m   1497\u001b[0m     max_zoom\u001b[38;5;241m=\u001b[39m\u001b[38;5;241m24\u001b[39m,\n\u001b[1;32m   1498\u001b[0m )\n",
      "File \u001b[0;32m~/software/miniconda3/envs/bison-lab/lib/python3.10/site-packages/ee/image.py:132\u001b[0m, in \u001b[0;36mImage.getMapId\u001b[0;34m(self, vis_params)\u001b[0m\n\u001b[1;32m    130\u001b[0m vis_image, request \u001b[38;5;241m=\u001b[39m \u001b[38;5;28mself\u001b[39m\u001b[38;5;241m.\u001b[39m_apply_visualization(vis_params)\n\u001b[1;32m    131\u001b[0m request[\u001b[38;5;124m'\u001b[39m\u001b[38;5;124mimage\u001b[39m\u001b[38;5;124m'\u001b[39m] \u001b[38;5;241m=\u001b[39m vis_image\n\u001b[0;32m--> 132\u001b[0m response \u001b[38;5;241m=\u001b[39m \u001b[43mdata\u001b[49m\u001b[38;5;241;43m.\u001b[39;49m\u001b[43mgetMapId\u001b[49m\u001b[43m(\u001b[49m\u001b[43mrequest\u001b[49m\u001b[43m)\u001b[49m\n\u001b[1;32m    133\u001b[0m response[\u001b[38;5;124m'\u001b[39m\u001b[38;5;124mimage\u001b[39m\u001b[38;5;124m'\u001b[39m] \u001b[38;5;241m=\u001b[39m \u001b[38;5;28mself\u001b[39m\n\u001b[1;32m    134\u001b[0m \u001b[38;5;28;01mreturn\u001b[39;00m response\n",
      "File \u001b[0;32m~/software/miniconda3/envs/bison-lab/lib/python3.10/site-packages/ee/data.py:586\u001b[0m, in \u001b[0;36mgetMapId\u001b[0;34m(params)\u001b[0m\n\u001b[1;32m    583\u001b[0m   request[\u001b[38;5;124m'\u001b[39m\u001b[38;5;124mvisualizationOptions\u001b[39m\u001b[38;5;124m'\u001b[39m] \u001b[38;5;241m=\u001b[39m visualizationOptions\n\u001b[1;32m    584\u001b[0m \u001b[38;5;66;03m# Returns only the `name` field, otherwise it echoes the entire request, which\u001b[39;00m\n\u001b[1;32m    585\u001b[0m \u001b[38;5;66;03m# might be large.\u001b[39;00m\n\u001b[0;32m--> 586\u001b[0m queryParams \u001b[38;5;241m=\u001b[39m {\n\u001b[1;32m    587\u001b[0m     \u001b[38;5;124m'\u001b[39m\u001b[38;5;124mfields\u001b[39m\u001b[38;5;124m'\u001b[39m: \u001b[38;5;124m'\u001b[39m\u001b[38;5;124mname\u001b[39m\u001b[38;5;124m'\u001b[39m,\n\u001b[1;32m    588\u001b[0m     \u001b[38;5;124m'\u001b[39m\u001b[38;5;124mbody\u001b[39m\u001b[38;5;124m'\u001b[39m: request,\n\u001b[1;32m    589\u001b[0m }\n\u001b[1;32m    590\u001b[0m workload_tag \u001b[38;5;241m=\u001b[39m getWorkloadTag()\n\u001b[1;32m    591\u001b[0m \u001b[38;5;28;01mif\u001b[39;00m workload_tag:\n",
      "File \u001b[0;32m~/software/miniconda3/envs/bison-lab/lib/python3.10/site-packages/ee/data.py:330\u001b[0m, in \u001b[0;36m_execute_cloud_call\u001b[0;34m(call, num_retries)\u001b[0m\n\u001b[1;32m    328\u001b[0m   \u001b[38;5;28;01mreturn\u001b[39;00m call\u001b[38;5;241m.\u001b[39mexecute(num_retries\u001b[38;5;241m=\u001b[39mnum_retries)\n\u001b[1;32m    329\u001b[0m \u001b[38;5;28;01mexcept\u001b[39;00m googleapiclient\u001b[38;5;241m.\u001b[39merrors\u001b[38;5;241m.\u001b[39mHttpError \u001b[38;5;28;01mas\u001b[39;00m e:\n\u001b[0;32m--> 330\u001b[0m   \u001b[38;5;28;01mraise\u001b[39;00m _translate_cloud_exception(e)\n",
      "\u001b[0;31mEEException\u001b[0m: Image.mask, argument 'mask': Invalid type.\nExpected type: Image<unknown bands>.\nActual type: FeatureCollection."
     ]
    }
   ],
   "source": [
    "m = geemap.Map()\n",
    "m.add_basemap(basemap=\"SATELLITE\")\n",
    "\n",
    "# m.addLayer(worldcover, {'bands': ['Map'],}, \"ESA\")\n",
    "# m.addLayer(esri, esri_vis, \"ESRI\")\n",
    "\n",
    "# m.add_legend(\n",
    "#     title='ESA',\n",
    "#     builtin_legend='ESA_WorldCover',\n",
    "#     draggable=False,\n",
    "#     position='bottomleft',\n",
    "#     style={'bottom': '5px'},\n",
    "# )\n",
    "# m.add_legend(\n",
    "#     title='ESRI',\n",
    "#     builtin_legend='ESRI_LandCover',\n",
    "#     draggable=False,\n",
    "#     position='bottomright',\n",
    "# )\n",
    "\n",
    "\n",
    "# m.addLayer(rap.gt(0).selfMask(), {}, \"\")\n",
    "# m.addLayer(a, {}, \"\")\n",
    "m.addLayer(a, rap_vis, \"rangelands\")\n",
    "m.add_legend(title='rangelands', legend_dict=rap_legend, draggable=False)\n",
    "\n",
    "# m.addLayer(rap, {\"min\": 0, \"max\": 255, \"palette\": cm.palettes.viridis}, \"rangelands\")\n",
    "# m.add_colorbar_branca(colors=rap_palette, vmin=1, vmax=6, categorical=True, step = 6, layer_name=\"rangeland\")\n",
    "\n",
    "m.addLayer(parcels.style(**{'color': 'red', 'fillColor': '00000000'}), {}, \"Parcels\")\n",
    "m.addLayer(mask.style(**{'color': 'blue', 'fillColor': '00000000'}), {}, \"mask\")\n",
    "m.addLayer(img, {\"min\": -1, \"max\": 1, \"palette\": cm.palettes.ndvi}, \"NDVI\")\n",
    "\n",
    "m.centerObject(parcels, 13)\n",
    "m"
   ]
  },
  {
   "cell_type": "code",
   "execution_count": null,
   "id": "948f5942-8b48-41ad-bcf9-37004b844463",
   "metadata": {},
   "outputs": [],
   "source": []
  },
  {
   "cell_type": "code",
   "execution_count": null,
   "id": "70a452cd-0841-4056-bda7-e782946fb5e9",
   "metadata": {},
   "outputs": [],
   "source": []
  },
  {
   "cell_type": "code",
   "execution_count": 28,
   "id": "a65e1a2a-bfe5-48bd-8416-373bfc7d7025",
   "metadata": {},
   "outputs": [
    {
     "data": {
      "text/plain": [
       "<ee.featurecollection.FeatureCollection at 0x2842da0e0>"
      ]
     },
     "execution_count": 28,
     "metadata": {},
     "output_type": "execute_result"
    }
   ],
   "source": [
    "parcels.filter(\n",
    "    ee.Filter.inList(\"parcel\", [\"Shoshone Tribe\", \"Hellyer Tribal Lease\"])\n",
    ")"
   ]
  },
  {
   "cell_type": "code",
   "execution_count": 106,
   "id": "51fe4e10-4df3-4311-a2dd-8f420bd38be2",
   "metadata": {},
   "outputs": [
    {
     "data": {
      "text/plain": [
       "<ee.image.Image at 0x17ebaab60>"
      ]
     },
     "execution_count": 106,
     "metadata": {},
     "output_type": "execute_result"
    }
   ],
   "source": [
    "s2.first()"
   ]
  },
  {
   "cell_type": "code",
   "execution_count": null,
   "id": "2519b207-edc4-4819-8df1-6c7b03e67341",
   "metadata": {},
   "outputs": [],
   "source": [
    "ts = s2.getTimeSeriesByRegions(\n",
    "    reducer=ee.Reducer.mean(),\n",
    "    collection=parcels,\n",
    "    bands=None,\n",
    "    scale=10,\n",
    "    dateColumn=\"date\",\n",
    "    naValue=None,\n",
    ")"
   ]
  },
  {
   "cell_type": "code",
   "execution_count": null,
   "id": "0fd5ebdd-07ef-4468-b990-d4d5e3c65576",
   "metadata": {},
   "outputs": [],
   "source": [
    "df = geemap.ee_to_pandas(ts)"
   ]
  },
  {
   "cell_type": "code",
   "execution_count": null,
   "id": "577cb6b5-09d0-406f-9014-210a0d718fa8",
   "metadata": {},
   "outputs": [],
   "source": [
    "df = df.drop(\n",
    "    columns=[\n",
    "        \"visibility\",\n",
    "        \"descriptio\",\n",
    "        \"tessellate\",\n",
    "        \"extrude\",\n",
    "        \"icon\",\n",
    "        \"end\",\n",
    "        \"begin\",\n",
    "        \"timestamp\",\n",
    "        \"altitudeMo\",\n",
    "    ]\n",
    ")"
   ]
  },
  {
   "cell_type": "code",
   "execution_count": null,
   "id": "5c20ebac-f027-40fa-b377-6e17775080b5",
   "metadata": {},
   "outputs": [],
   "source": [
    "filename = \"s2_sr_indices_mean.csv\"\n",
    "# df.to_csv(filename)\n",
    "df = pd.read_csv(filename)"
   ]
  },
  {
   "cell_type": "markdown",
   "id": "ef6d997d-85a0-489e-93b8-9ef0c08cdbc3",
   "metadata": {},
   "source": [
    "### Drop bad data"
   ]
  },
  {
   "cell_type": "code",
   "execution_count": null,
   "id": "ff768666-d367-4df9-8e32-887ca2183c4c",
   "metadata": {},
   "outputs": [],
   "source": [
    "# df[df['NDVI'] > 0.8]\n",
    "# df[df['NDDI'] < -1.75e8]"
   ]
  },
  {
   "cell_type": "code",
   "execution_count": null,
   "id": "f7df4fda-7e15-40da-b396-bfc62fc3898e",
   "metadata": {},
   "outputs": [],
   "source": [
    "df = df.set_index(\"date\")\n",
    "df = df.drop(\"2021-11-08T18:22:16\").reset_index()"
   ]
  },
  {
   "cell_type": "markdown",
   "id": "7e3806e7-9a8b-442a-b9ca-8fd40731e640",
   "metadata": {},
   "source": [
    "### Plot"
   ]
  },
  {
   "cell_type": "code",
   "execution_count": null,
   "id": "94c706ad-38c4-4102-abfb-9fec40e2b8ff",
   "metadata": {},
   "outputs": [],
   "source": [
    "a = df.melt(id_vars=[\"date\", \"Name\"], value_vars=indices)"
   ]
  },
  {
   "cell_type": "code",
   "execution_count": null,
   "id": "eb879081-f39f-4941-987b-c8a13adf74b5",
   "metadata": {},
   "outputs": [],
   "source": [
    "g = sns.relplot(\n",
    "    data=a,\n",
    "    x=\"date\",\n",
    "    y=\"value\",\n",
    "    hue=\"Name\",\n",
    "    col=\"variable\",\n",
    "    col_wrap=1,\n",
    "    kind=\"line\",\n",
    "    height=4,\n",
    "    aspect=2,\n",
    "    facet_kws=dict(sharey=False),\n",
    ")\n",
    "for ax in g.axes:\n",
    "    ax.xaxis.set_major_locator(mdates.MonthLocator())\n",
    "plt.gcf().autofmt_xdate()"
   ]
  },
  {
   "cell_type": "code",
   "execution_count": null,
   "id": "ea1845f3-8c17-4beb-a0f8-2431f7e3477a",
   "metadata": {},
   "outputs": [],
   "source": [
    "fig, ax = plt.subplots(figsize=(12, 6))\n",
    "sns.lineplot(data=df, x=\"date\", y=\"NDVI\", hue=\"Name\", ax=ax)\n",
    "ax.xaxis.set_major_locator(mdates.MonthLocator())\n",
    "fig.autofmt_xdate()"
   ]
  }
 ],
 "metadata": {
  "kernelspec": {
   "display_name": "Python 3 (ipykernel)",
   "language": "python",
   "name": "python3"
  },
  "language_info": {
   "codemirror_mode": {
    "name": "ipython",
    "version": 3
   },
   "file_extension": ".py",
   "mimetype": "text/x-python",
   "name": "python",
   "nbconvert_exporter": "python",
   "pygments_lexer": "ipython3",
   "version": "3.10.6"
  }
 },
 "nbformat": 4,
 "nbformat_minor": 5
}
