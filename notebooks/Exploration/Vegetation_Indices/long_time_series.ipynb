{
 "cells": [
  {
   "cell_type": "code",
   "execution_count": null,
   "id": "97b8f256-7f4e-4e0e-83ca-ab2275beb6ee",
   "metadata": {},
   "outputs": [],
   "source": [
    "from pathlib import Path\n",
    "\n",
    "import ee\n",
    "import eemont  # noqa: F401\n",
    "import geemap\n",
    "import matplotlib.dates as mdates\n",
    "import matplotlib.pyplot as plt\n",
    "import pandas as pd\n",
    "import seaborn as sns\n",
    "\n",
    "from bisonlab.data import landsat_7_sr, landsat_8_sr, landsat_9_sr\n",
    "from bisonlab.io import kml_to_geodataframe\n",
    "from bisonlab.utils import mask_exclude"
   ]
  },
  {
   "cell_type": "code",
   "execution_count": null,
   "id": "3cade2d1-dfd3-4538-b955-78fc388131fe",
   "metadata": {},
   "outputs": [],
   "source": [
    "ee.Authenticate()\n",
    "ee.Initialize()"
   ]
  },
  {
   "cell_type": "markdown",
   "id": "7aec0914-ddc5-4427-886c-82e54d2c9379",
   "metadata": {},
   "source": [
    "## Load Parcels and Masks"
   ]
  },
  {
   "cell_type": "code",
   "execution_count": null,
   "id": "495b1588-55d9-4f0f-b789-7a0e888cc524",
   "metadata": {},
   "outputs": [],
   "source": [
    "# Set path to local data directory\n",
    "local_data = Path().cwd().parent.parent.parent / \"data\" / \"local\""
   ]
  },
  {
   "cell_type": "code",
   "execution_count": null,
   "id": "31c9e741-13fd-44fc-b85b-c7fee3aba0f7",
   "metadata": {},
   "outputs": [],
   "source": [
    "df_parcels = kml_to_geodataframe(local_data / \"WRTBI-Morton Soil Types.kml\")\n",
    "\n",
    "df_parcels = df_parcels.rename(columns={\"Name\": \"subsection\", \"layer\": \"parcel\"})\n",
    "df_parcels = df_parcels.drop(columns=\"Description\")\n",
    "\n",
    "# Union all \"mask\" polygons and create a separate mask dataframe\n",
    "idx = df_parcels[\"parcel\"] == \"mask\"\n",
    "df_mask = df_parcels[idx].dissolve(by=\"parcel\").reset_index()\n",
    "\n",
    "# Drop \"mask\" from parcel dataframe\n",
    "df_parcels = df_parcels.drop(index=idx.index[idx])\n",
    "\n",
    "# Convert parcels dataframe to ee.featureCollection\n",
    "parcels = geemap.geopandas_to_ee(df_parcels)\n",
    "mask = geemap.geopandas_to_ee(df_mask)"
   ]
  },
  {
   "cell_type": "code",
   "execution_count": null,
   "id": "3b0aa4e0-b98e-4c6b-9bef-090cb668feea",
   "metadata": {},
   "outputs": [],
   "source": [
    "df_parcels"
   ]
  },
  {
   "cell_type": "code",
   "execution_count": null,
   "id": "cae92f26-61a3-425b-a74d-2f3dcef0f2a3",
   "metadata": {},
   "outputs": [],
   "source": [
    "m = geemap.Map()\n",
    "m.add_basemap(basemap=\"SATELLITE\")\n",
    "m.addLayer(parcels, {\"color\": \"red\"}, \"Parcels\")\n",
    "m.centerObject(parcels, 15)\n",
    "m"
   ]
  },
  {
   "cell_type": "markdown",
   "id": "93be09b4-d4dc-42fd-be4f-9eb13b8757c2",
   "metadata": {},
   "source": [
    "## Retrieve Landsat Data"
   ]
  },
  {
   "cell_type": "code",
   "execution_count": null,
   "id": "630798f2-8d19-4f4f-ac68-60db6800e17d",
   "metadata": {},
   "outputs": [],
   "source": [
    "from tqdm.auto import tqdm"
   ]
  },
  {
   "cell_type": "markdown",
   "id": "88d67f2a-0f1e-44e0-a9e8-c8ff4a5b12ff",
   "metadata": {},
   "source": [
    "### Save data locally"
   ]
  },
  {
   "cell_type": "code",
   "execution_count": null,
   "id": "8e2a5173-6a15-43c8-a9e7-70eaed11cc21",
   "metadata": {},
   "outputs": [],
   "source": [
    "source_config = {\n",
    "    \"landsat7\": {\"source\": landsat_7_sr, \"years\": range(2000, 2023)},\n",
    "    \"landsat8\": {\"source\": landsat_8_sr, \"years\": range(2013, 2023)},\n",
    "    \"landsat9\": {\"source\": landsat_9_sr, \"years\": range(2021, 2023)},\n",
    "}"
   ]
  },
  {
   "cell_type": "code",
   "execution_count": null,
   "id": "2f2cf40a-f61c-47c6-a654-ef0454e7eaaf",
   "metadata": {},
   "outputs": [],
   "source": [
    "for source, config in source_config.items():\n",
    "    print(source, config[\"years\"])\n",
    "\n",
    "    for year in tqdm(config[\"years\"]):\n",
    "\n",
    "        start_date = f\"{year}-01-01\"\n",
    "        end_date = f\"{year}-12-31\"\n",
    "\n",
    "        fc = config[\"source\"](\n",
    "            parcels, start_date, end_date, cloud_prob_thresh=100\n",
    "        ).spectralIndices([\"NDVI\", \"EVI\"])\n",
    "\n",
    "        # Apply mask to each image in the collection\n",
    "        fc_masked = fc.map(lambda img: mask_exclude(img, mask))\n",
    "\n",
    "        # Aggregate data by parcel\n",
    "        ts = fc_masked.getTimeSeriesByRegions(\n",
    "            reducer=[\n",
    "                ee.Reducer.mean(),\n",
    "                ee.Reducer.stdDev(),\n",
    "                ee.Reducer.min(),\n",
    "                ee.Reducer.max(),\n",
    "                ee.Reducer.count(),\n",
    "            ],\n",
    "            collection=parcels,\n",
    "            bands=[\"NDVI\", \"EVI\"],\n",
    "            scale=30,\n",
    "            dateColumn=\"date\",\n",
    "            naValue=None,\n",
    "        )\n",
    "\n",
    "        df = geemap.ee_to_pandas(ts)\n",
    "        df[\"name\"] = df[\"parcel\"] + \" - \" + df[\"subsection\"]\n",
    "\n",
    "        filepath = local_data / f\"long_time_series_{source}_{year}.parquet\"\n",
    "        df.to_parquet(filepath, index=None)"
   ]
  },
  {
   "cell_type": "markdown",
   "id": "7712a253-d62f-4185-909f-1d5567278d4c",
   "metadata": {},
   "source": [
    "### Read local data"
   ]
  },
  {
   "cell_type": "code",
   "execution_count": null,
   "id": "c317f90c-af14-4e6e-a185-04a7453491c8",
   "metadata": {},
   "outputs": [],
   "source": [
    "df_list = []\n",
    "\n",
    "for source, config in source_config.items():\n",
    "    print(source, config[\"years\"])\n",
    "\n",
    "    for year in tqdm(config[\"years\"]):\n",
    "        filepath = local_data / f\"long_time_series_{source}_{year}.parquet\"\n",
    "        df = pd.read_parquet(filepath)\n",
    "        df[\"source\"] = source\n",
    "        df_list.append(df)\n",
    "df = pd.concat(df_list)"
   ]
  },
  {
   "cell_type": "code",
   "execution_count": null,
   "id": "1083811e-1aa5-410d-a5d2-9c30a5a174be",
   "metadata": {},
   "outputs": [],
   "source": [
    "# Drop NaN\n",
    "df = df.dropna(subset=[\"NDVI\", \"EVI\"])"
   ]
  },
  {
   "cell_type": "code",
   "execution_count": null,
   "id": "85155cf9-2c25-46de-9713-e9179f13c6da",
   "metadata": {},
   "outputs": [],
   "source": [
    "# melt to long form table\n",
    "df_long = df.melt(\n",
    "    id_vars=[\"date\", \"source\", \"subsection\", \"parcel\", \"name\", \"reducer\"],\n",
    "    value_vars=[\"NDVI\", \"EVI\"],\n",
    ")"
   ]
  },
  {
   "cell_type": "code",
   "execution_count": null,
   "id": "821184ab-c670-4940-b5d2-cb3b661e4c5b",
   "metadata": {},
   "outputs": [],
   "source": [
    "# Drop values >1 or <-1 as these are erroneous\n",
    "df_long = df_long.loc[(df_long[\"value\"] <= 1) & (df_long[\"value\"] >= -1)]"
   ]
  },
  {
   "cell_type": "markdown",
   "id": "040f18a3-c686-4ee7-ba21-ffe00b624f57",
   "metadata": {},
   "source": [
    "### Plot time series of parcel means"
   ]
  },
  {
   "cell_type": "code",
   "execution_count": null,
   "id": "3b5d6e13-388e-4cca-bcf1-c37487c4f437",
   "metadata": {
    "jupyter": {
     "outputs_hidden": true
    },
    "tags": []
   },
   "outputs": [],
   "source": [
    "df_plot = df_long.loc[\n",
    "    df_long[\"date\"].dt.year.eq(2022)\n",
    "    & (\n",
    "        df_long[[\"parcel\", \"subsection\"]]\n",
    "        .eq([\"Shoshone Tribe\", \"High Steppe Unirrigated 1\"])\n",
    "        .all(axis=1)\n",
    "        | df_long[[\"parcel\", \"subsection\"]]\n",
    "        .eq([\"Hellyer Tribal Lease\", \"River Bottom 1\"])\n",
    "        .all(axis=1)\n",
    "    )\n",
    "    & df_long[\"reducer\"].eq(\"mean\")\n",
    "]\n",
    "\n",
    "g = sns.relplot(\n",
    "    data=df_plot,\n",
    "    x=\"date\",\n",
    "    y=\"value\",\n",
    "    hue=\"parcel\",\n",
    "    style=\"source\",\n",
    "    col=\"variable\",\n",
    "    col_wrap=1,\n",
    "    kind=\"scatter\",\n",
    "    height=4,\n",
    "    aspect=3,\n",
    "    facet_kws=dict(sharey=False),\n",
    ")\n",
    "\n",
    "for ax in g.axes:\n",
    "    ax.xaxis.set_major_locator(mdates.YearLocator())\n",
    "    ax.xaxis.set_minor_locator(mdates.MonthLocator())"
   ]
  },
  {
   "cell_type": "code",
   "execution_count": null,
   "id": "ad793a5d-28c2-442d-b344-a99efc7a5b02",
   "metadata": {
    "tags": []
   },
   "outputs": [],
   "source": [
    "df_plot = df_long.loc[df_long[\"reducer\"].eq(\"mean\")]\n",
    "\n",
    "g = sns.relplot(\n",
    "    data=df_plot,\n",
    "    x=\"date\",\n",
    "    y=\"value\",\n",
    "    hue=\"variable\",\n",
    "    style=\"source\",\n",
    "    col=\"name\",\n",
    "    col_wrap=1,\n",
    "    kind=\"scatter\",\n",
    "    height=4,\n",
    "    aspect=3,\n",
    "    facet_kws=dict(sharey=True, ylim=(-0.6, 1)),\n",
    ")\n",
    "\n",
    "for ax in g.axes:\n",
    "    ax.xaxis.set_major_locator(mdates.YearLocator())\n",
    "    ax.xaxis.set_minor_locator(mdates.MonthLocator())\n",
    "\n",
    "plt.savefig(local_data / \"long_time_series.png\", dpi=240)"
   ]
  },
  {
   "cell_type": "markdown",
   "id": "c93f4ec3-b99f-4899-97d4-da9e2043debe",
   "metadata": {},
   "source": [
    "### Plot single parcel with errorbars"
   ]
  },
  {
   "cell_type": "code",
   "execution_count": null,
   "id": "b61d84c0-912f-4b63-a895-ea6b5aa3c6c5",
   "metadata": {},
   "outputs": [],
   "source": [
    "ids = pd.IndexSlice"
   ]
  },
  {
   "cell_type": "code",
   "execution_count": null,
   "id": "c46e21ad-c5a7-4e76-8523-a5709ab2c1d9",
   "metadata": {},
   "outputs": [],
   "source": [
    "ndvi = df.pivot(index=[\"date\", \"name\"], columns=\"reducer\", values=\"NDVI\")\n",
    "\n",
    "name = \"Shoshone Tribe - High Steppe Unirrigated 1\"\n",
    "a = ndvi.loc[ids[:, name], :].reset_index(level=\"name\", drop=True).sort_values(\"date\")\n",
    "\n",
    "fig, ax = plt.subplots(figsize=(15, 4))\n",
    "ax.errorbar(\n",
    "    x=a.index,\n",
    "    y=a[\"mean\"],\n",
    "    yerr=a[\"stdDev\"],\n",
    "    fmt=\".\",\n",
    "    linewidth=0,\n",
    "    elinewidth=0.5,\n",
    "    color=\"k\",\n",
    "    capthick=0.5,\n",
    "    capsize=1,\n",
    ")\n",
    "ax.xaxis.set_major_locator(mdates.YearLocator())\n",
    "ax.xaxis.set_minor_locator(mdates.MonthLocator())\n",
    "ax.set_ylabel(\"NDVI\")\n",
    "ax.set_title(name + \" : NDVI\")\n",
    "fig.tight_layout()\n",
    "fig.savefig(local_data / f\"{name}_ndvi.png\", dpi=240)"
   ]
  },
  {
   "cell_type": "markdown",
   "id": "d755b643-5357-4957-8f3b-40a85ce55dc5",
   "metadata": {},
   "source": [
    "### Plot Monthly Mean Per Year"
   ]
  },
  {
   "cell_type": "code",
   "execution_count": null,
   "id": "82d7e704-be35-4379-94a9-934d8255ef77",
   "metadata": {},
   "outputs": [],
   "source": [
    "b = a.copy()\n",
    "b[\"month\"] = b.index.month\n",
    "b[\"year\"] = b.index.year\n",
    "\n",
    "c = b.pivot_table(index=\"year\", columns=\"month\", values=\"mean\", aggfunc=\"mean\")\n",
    "\n",
    "fig, ax = plt.subplots(figsize=(12, 6))\n",
    "sns.heatmap(c, ax=ax, cmap=\"viridis\")\n",
    "ax.set_title(f\"{name} : NDVI\")\n",
    "fig.savefig(local_data / f\"{name}_ndvi_monthly.png\", dpi=240);"
   ]
  }
 ],
 "metadata": {
  "kernelspec": {
   "display_name": "Python 3 (ipykernel)",
   "language": "python",
   "name": "python3"
  },
  "language_info": {
   "codemirror_mode": {
    "name": "ipython",
    "version": 3
   },
   "file_extension": ".py",
   "mimetype": "text/x-python",
   "name": "python",
   "nbconvert_exporter": "python",
   "pygments_lexer": "ipython3",
   "version": "3.10.8"
  }
 },
 "nbformat": 4,
 "nbformat_minor": 5
}
