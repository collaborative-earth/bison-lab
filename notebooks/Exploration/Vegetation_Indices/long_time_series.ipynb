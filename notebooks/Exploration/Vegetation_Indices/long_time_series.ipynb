{
 "cells": [
  {
   "cell_type": "code",
   "execution_count": 4,
   "id": "97b8f256-7f4e-4e0e-83ca-ab2275beb6ee",
   "metadata": {},
   "outputs": [],
   "source": [
    "from pathlib import Path\n",
    "\n",
    "import ee\n",
    "import eemont  # noqa: F401\n",
    "import geemap\n",
    "import matplotlib.dates as mdates\n",
    "import matplotlib.pyplot as plt\n",
    "import pandas as pd\n",
    "import seaborn as sns\n",
    "\n",
    "from bisonlab.data import landsat_7_sr, landsat_8_sr, landsat_9_sr\n",
    "from bisonlab.io import kml_to_geodataframe\n",
    "from bisonlab.utils import mask_exclude"
   ]
  },
  {
   "cell_type": "code",
   "execution_count": 5,
   "id": "3cade2d1-dfd3-4538-b955-78fc388131fe",
   "metadata": {},
   "outputs": [],
   "source": [
    "# ee.Authenticate()\n",
    "ee.Initialize()"
   ]
  },
  {
   "cell_type": "markdown",
   "id": "7aec0914-ddc5-4427-886c-82e54d2c9379",
   "metadata": {},
   "source": [
    "## Load Parcels and Masks"
   ]
  },
  {
   "cell_type": "code",
   "execution_count": 6,
   "id": "495b1588-55d9-4f0f-b789-7a0e888cc524",
   "metadata": {},
   "outputs": [],
   "source": [
    "# Set path to local data directory\n",
    "local_data = Path().cwd().parent.parent.parent / \"data\" / \"local\""
   ]
  },
  {
   "cell_type": "code",
   "execution_count": 7,
   "id": "31c9e741-13fd-44fc-b85b-c7fee3aba0f7",
   "metadata": {},
   "outputs": [],
   "source": [
    "df_parcels = kml_to_geodataframe(local_data / \"WRTBI-Morton Soil Types.kml\")\n",
    "\n",
    "df_parcels = df_parcels.rename(columns={\"Name\": \"subsection\", \"layer\": \"parcel\"})\n",
    "df_parcels = df_parcels.drop(columns=\"Description\")\n",
    "\n",
    "# Union all \"mask\" polygons and create a separate mask dataframe\n",
    "idx = df_parcels[\"parcel\"] == \"mask\"\n",
    "df_mask = df_parcels[idx].dissolve(by=\"parcel\").reset_index()\n",
    "\n",
    "# Drop \"mask\" from parcel dataframe\n",
    "df_parcels = df_parcels.drop(index=idx.index[idx])\n",
    "\n",
    "# Convert parcels dataframe to ee.featureCollection\n",
    "parcels = geemap.geopandas_to_ee(df_parcels)\n",
    "mask = geemap.geopandas_to_ee(df_mask)"
   ]
  },
  {
   "cell_type": "code",
   "execution_count": 8,
   "id": "3b0aa4e0-b98e-4c6b-9bef-090cb668feea",
   "metadata": {},
   "outputs": [
    {
     "data": {
      "text/html": [
       "<div>\n",
       "<style scoped>\n",
       "    .dataframe tbody tr th:only-of-type {\n",
       "        vertical-align: middle;\n",
       "    }\n",
       "\n",
       "    .dataframe tbody tr th {\n",
       "        vertical-align: top;\n",
       "    }\n",
       "\n",
       "    .dataframe thead th {\n",
       "        text-align: right;\n",
       "    }\n",
       "</style>\n",
       "<table border=\"1\" class=\"dataframe\">\n",
       "  <thead>\n",
       "    <tr style=\"text-align: right;\">\n",
       "      <th></th>\n",
       "      <th>subsection</th>\n",
       "      <th>geometry</th>\n",
       "      <th>parcel</th>\n",
       "    </tr>\n",
       "  </thead>\n",
       "  <tbody>\n",
       "    <tr>\n",
       "      <th>0</th>\n",
       "      <td>High Steppe Unirrigated 1</td>\n",
       "      <td>POLYGON ((-108.79089 43.19890, -108.79081 43.1...</td>\n",
       "      <td>Shoshone Tribe</td>\n",
       "    </tr>\n",
       "    <tr>\n",
       "      <th>1</th>\n",
       "      <td>High Steppe Unirrigated 2</td>\n",
       "      <td>POLYGON ((-108.78826 43.20636, -108.79311 43.2...</td>\n",
       "      <td>Shoshone Tribe</td>\n",
       "    </tr>\n",
       "    <tr>\n",
       "      <th>2</th>\n",
       "      <td>High Steppe Unirrigated 3</td>\n",
       "      <td>POLYGON ((-108.78802 43.20623, -108.78813 43.2...</td>\n",
       "      <td>Shoshone Tribe</td>\n",
       "    </tr>\n",
       "    <tr>\n",
       "      <th>3</th>\n",
       "      <td>High Steppe Unirrigated 4</td>\n",
       "      <td>POLYGON ((-108.79089 43.20229, -108.78865 43.2...</td>\n",
       "      <td>Shoshone Tribe</td>\n",
       "    </tr>\n",
       "    <tr>\n",
       "      <th>4</th>\n",
       "      <td>River Bottom 1</td>\n",
       "      <td>POLYGON ((-108.79085 43.19374, -108.78828 43.1...</td>\n",
       "      <td>Shoshone Tribe</td>\n",
       "    </tr>\n",
       "    <tr>\n",
       "      <th>5</th>\n",
       "      <td>River Bottom 2</td>\n",
       "      <td>POLYGON ((-108.78594 43.19561, -108.78649 43.1...</td>\n",
       "      <td>Shoshone Tribe</td>\n",
       "    </tr>\n",
       "    <tr>\n",
       "      <th>6</th>\n",
       "      <td>River Bottom 3</td>\n",
       "      <td>POLYGON ((-108.79601 43.20457, -108.79447 43.2...</td>\n",
       "      <td>Shoshone Tribe</td>\n",
       "    </tr>\n",
       "    <tr>\n",
       "      <th>7</th>\n",
       "      <td>River Bottom 1</td>\n",
       "      <td>POLYGON ((-108.80041 43.19793, -108.80030 43.2...</td>\n",
       "      <td>Hellyer Tribal Lease</td>\n",
       "    </tr>\n",
       "    <tr>\n",
       "      <th>8</th>\n",
       "      <td>Irrigated High Steppe 1</td>\n",
       "      <td>POLYGON ((-108.78852 43.20122, -108.78735 43.2...</td>\n",
       "      <td>Morton</td>\n",
       "    </tr>\n",
       "    <tr>\n",
       "      <th>9</th>\n",
       "      <td>Irrigated High Steppe 2</td>\n",
       "      <td>POLYGON ((-108.77009 43.19749, -108.77011 43.1...</td>\n",
       "      <td>Morton</td>\n",
       "    </tr>\n",
       "    <tr>\n",
       "      <th>10</th>\n",
       "      <td>Untouched 1: High Steppe</td>\n",
       "      <td>POLYGON ((-108.78415 43.19394, -108.78408 43.1...</td>\n",
       "      <td>Untouched</td>\n",
       "    </tr>\n",
       "    <tr>\n",
       "      <th>11</th>\n",
       "      <td>Untouched 2: River Bottom</td>\n",
       "      <td>POLYGON ((-108.83433 43.20427, -108.83431 43.2...</td>\n",
       "      <td>Untouched</td>\n",
       "    </tr>\n",
       "  </tbody>\n",
       "</table>\n",
       "</div>"
      ],
      "text/plain": [
       "                   subsection  \\\n",
       "0   High Steppe Unirrigated 1   \n",
       "1   High Steppe Unirrigated 2   \n",
       "2   High Steppe Unirrigated 3   \n",
       "3   High Steppe Unirrigated 4   \n",
       "4              River Bottom 1   \n",
       "5              River Bottom 2   \n",
       "6              River Bottom 3   \n",
       "7              River Bottom 1   \n",
       "8     Irrigated High Steppe 1   \n",
       "9     Irrigated High Steppe 2   \n",
       "10   Untouched 1: High Steppe   \n",
       "11  Untouched 2: River Bottom   \n",
       "\n",
       "                                             geometry                parcel  \n",
       "0   POLYGON ((-108.79089 43.19890, -108.79081 43.1...        Shoshone Tribe  \n",
       "1   POLYGON ((-108.78826 43.20636, -108.79311 43.2...        Shoshone Tribe  \n",
       "2   POLYGON ((-108.78802 43.20623, -108.78813 43.2...        Shoshone Tribe  \n",
       "3   POLYGON ((-108.79089 43.20229, -108.78865 43.2...        Shoshone Tribe  \n",
       "4   POLYGON ((-108.79085 43.19374, -108.78828 43.1...        Shoshone Tribe  \n",
       "5   POLYGON ((-108.78594 43.19561, -108.78649 43.1...        Shoshone Tribe  \n",
       "6   POLYGON ((-108.79601 43.20457, -108.79447 43.2...        Shoshone Tribe  \n",
       "7   POLYGON ((-108.80041 43.19793, -108.80030 43.2...  Hellyer Tribal Lease  \n",
       "8   POLYGON ((-108.78852 43.20122, -108.78735 43.2...                Morton  \n",
       "9   POLYGON ((-108.77009 43.19749, -108.77011 43.1...                Morton  \n",
       "10  POLYGON ((-108.78415 43.19394, -108.78408 43.1...             Untouched  \n",
       "11  POLYGON ((-108.83433 43.20427, -108.83431 43.2...             Untouched  "
      ]
     },
     "execution_count": 8,
     "metadata": {},
     "output_type": "execute_result"
    }
   ],
   "source": [
    "df_parcels"
   ]
  },
  {
   "cell_type": "code",
   "execution_count": 15,
   "id": "cae92f26-61a3-425b-a74d-2f3dcef0f2a3",
   "metadata": {},
   "outputs": [
    {
     "data": {
      "application/vnd.jupyter.widget-view+json": {
       "model_id": "9aa5cc689ac64e08ae928d067eddbe62",
       "version_major": 2,
       "version_minor": 0
      },
      "text/plain": [
       "Map(center=[43.20091482973709, -108.79560886276424], controls=(WidgetControl(options=['position', 'transparent…"
      ]
     },
     "execution_count": 15,
     "metadata": {},
     "output_type": "execute_result"
    }
   ],
   "source": [
    "m = geemap.Map()\n",
    "m.add_basemap(basemap=\"SATELLITE\")\n",
    "m.addLayer(parcels, {\"color\": \"red\"}, \"Parcels\")\n",
    "m.centerObject(parcels, 15)\n",
    "m"
   ]
  },
  {
   "cell_type": "markdown",
   "id": "93be09b4-d4dc-42fd-be4f-9eb13b8757c2",
   "metadata": {},
   "source": [
    "## Retrieve Landsat Data"
   ]
  },
  {
   "cell_type": "code",
   "execution_count": 9,
   "id": "630798f2-8d19-4f4f-ac68-60db6800e17d",
   "metadata": {},
   "outputs": [],
   "source": [
    "from tqdm.auto import tqdm"
   ]
  },
  {
   "cell_type": "markdown",
   "id": "88d67f2a-0f1e-44e0-a9e8-c8ff4a5b12ff",
   "metadata": {},
   "source": [
    "### Save data locally"
   ]
  },
  {
   "cell_type": "code",
   "execution_count": 10,
   "id": "8e2a5173-6a15-43c8-a9e7-70eaed11cc21",
   "metadata": {},
   "outputs": [],
   "source": [
    "source_config = {\n",
    "    \"landsat7\": {\"source\": landsat_7_sr, \"years\": range(2000, 2023)},\n",
    "    \"landsat8\": {\"source\": landsat_8_sr, \"years\": range(2013, 2023)},\n",
    "    \"landsat9\": {\"source\": landsat_9_sr, \"years\": range(2021, 2023)},\n",
    "}"
   ]
  },
  {
   "cell_type": "code",
   "execution_count": null,
   "id": "2f2cf40a-f61c-47c6-a654-ef0454e7eaaf",
   "metadata": {},
   "outputs": [],
   "source": [
    "for source, config in source_config.items():\n",
    "    print(source, config[\"years\"])\n",
    "\n",
    "    for year in tqdm(config[\"years\"]):\n",
    "\n",
    "        start_date = f\"{year}-01-01\"\n",
    "        end_date = f\"{year}-12-31\"\n",
    "\n",
    "        fc = config[\"source\"](\n",
    "            parcels, start_date, end_date, cloud_prob_thresh=100\n",
    "        ).spectralIndices([\"NDVI\", \"EVI\"])\n",
    "\n",
    "        # Apply mask to each image in the collection\n",
    "        fc_masked = fc.map(lambda img: mask_exclude(img, mask))\n",
    "\n",
    "        # Aggregate data by parcel\n",
    "        ts = fc_masked.getTimeSeriesByRegions(\n",
    "            reducer=[\n",
    "                ee.Reducer.mean(),\n",
    "                ee.Reducer.stdDev(),\n",
    "                ee.Reducer.min(),\n",
    "                ee.Reducer.max(),\n",
    "                ee.Reducer.count(),\n",
    "            ],\n",
    "            collection=parcels,\n",
    "            bands=[\"NDVI\", \"EVI\"],\n",
    "            scale=30,\n",
    "            dateColumn=\"date\",\n",
    "            naValue=None,\n",
    "        )\n",
    "\n",
    "        df = geemap.ee_to_pandas(ts)\n",
    "        df[\"name\"] = df[\"parcel\"] + \" - \" + df[\"subsection\"]\n",
    "\n",
    "        filepath = local_data / f\"long_time_series_{source}_{year}.parquet\"\n",
    "        df.to_parquet(filepath, index=None)"
   ]
  },
  {
   "cell_type": "markdown",
   "id": "7712a253-d62f-4185-909f-1d5567278d4c",
   "metadata": {},
   "source": [
    "### Read local data"
   ]
  },
  {
   "cell_type": "code",
   "execution_count": 11,
   "id": "c317f90c-af14-4e6e-a185-04a7453491c8",
   "metadata": {},
   "outputs": [
    {
     "name": "stdout",
     "output_type": "stream",
     "text": [
      "landsat7 range(2000, 2023)\n"
     ]
    },
    {
     "data": {
      "application/vnd.jupyter.widget-view+json": {
       "model_id": "8392c8ff79b142e79bfb2f3b99925ce6",
       "version_major": 2,
       "version_minor": 0
      },
      "text/plain": [
       "  0%|          | 0/23 [00:00<?, ?it/s]"
      ]
     },
     "metadata": {},
     "output_type": "display_data"
    },
    {
     "name": "stdout",
     "output_type": "stream",
     "text": [
      "landsat8 range(2013, 2023)\n"
     ]
    },
    {
     "data": {
      "application/vnd.jupyter.widget-view+json": {
       "model_id": "1244ac6c73eb485ea783b998929fc66c",
       "version_major": 2,
       "version_minor": 0
      },
      "text/plain": [
       "  0%|          | 0/10 [00:00<?, ?it/s]"
      ]
     },
     "metadata": {},
     "output_type": "display_data"
    },
    {
     "name": "stdout",
     "output_type": "stream",
     "text": [
      "landsat9 range(2021, 2023)\n"
     ]
    },
    {
     "data": {
      "application/vnd.jupyter.widget-view+json": {
       "model_id": "2fce72790d7b4bf281ce31828d6a3b33",
       "version_major": 2,
       "version_minor": 0
      },
      "text/plain": [
       "  0%|          | 0/2 [00:00<?, ?it/s]"
      ]
     },
     "metadata": {},
     "output_type": "display_data"
    }
   ],
   "source": [
    "df_list = []\n",
    "\n",
    "for source, config in source_config.items():\n",
    "    print(source, config[\"years\"])\n",
    "\n",
    "    for year in tqdm(config[\"years\"]):\n",
    "        filepath = local_data / f\"long_time_series_{source}_{year}.parquet\"\n",
    "        df = pd.read_parquet(filepath)\n",
    "        df[\"source\"] = source\n",
    "        df_list.append(df)\n",
    "df = pd.concat(df_list)"
   ]
  },
  {
   "cell_type": "code",
   "execution_count": 12,
   "id": "1083811e-1aa5-410d-a5d2-9c30a5a174be",
   "metadata": {},
   "outputs": [],
   "source": [
    "# Drop NaN\n",
    "df = df.dropna(subset=[\"NDVI\", \"EVI\"])"
   ]
  },
  {
   "cell_type": "code",
   "execution_count": 13,
   "id": "85155cf9-2c25-46de-9713-e9179f13c6da",
   "metadata": {},
   "outputs": [],
   "source": [
    "# melt to long form table\n",
    "df_long = df.melt(\n",
    "    id_vars=[\"date\", \"source\", \"subsection\", \"parcel\", \"name\", \"reducer\"],\n",
    "    value_vars=[\"NDVI\", \"EVI\"],\n",
    ")"
   ]
  },
  {
   "cell_type": "code",
   "execution_count": 14,
   "id": "821184ab-c670-4940-b5d2-cb3b661e4c5b",
   "metadata": {},
   "outputs": [],
   "source": [
    "# Drop values >1 or <-1 as these are erroneous\n",
    "df_long = df_long.loc[(df_long[\"value\"] <= 1) & (df_long[\"value\"] >= -1)]"
   ]
  },
  {
   "cell_type": "markdown",
   "id": "040f18a3-c686-4ee7-ba21-ffe00b624f57",
   "metadata": {},
   "source": [
    "### Plot time series of parcel means"
   ]
  },
  {
   "cell_type": "code",
   "execution_count": null,
   "id": "3b5d6e13-388e-4cca-bcf1-c37487c4f437",
   "metadata": {
    "collapsed": true,
    "jupyter": {
     "outputs_hidden": true
    },
    "tags": []
   },
   "outputs": [],
   "source": [
    "df_plot = df_long.loc[\n",
    "    df_long[\"date\"].dt.year.eq(2022)\n",
    "    & (\n",
    "        df_long[[\"parcel\", \"subsection\"]]\n",
    "        .eq([\"Shoshone Tribe\", \"High Steppe Unirrigated 1\"])\n",
    "        .all(axis=1)\n",
    "        | df_long[[\"parcel\", \"subsection\"]]\n",
    "        .eq([\"Hellyer Tribal Lease\", \"River Bottom 1\"])\n",
    "        .all(axis=1)\n",
    "    )\n",
    "    & df_long[\"reducer\"].eq(\"mean\")\n",
    "]\n",
    "\n",
    "g = sns.relplot(\n",
    "    data=df_plot,\n",
    "    x=\"date\",\n",
    "    y=\"value\",\n",
    "    hue=\"parcel\",\n",
    "    style=\"source\",\n",
    "    col=\"variable\",\n",
    "    col_wrap=1,\n",
    "    kind=\"scatter\",\n",
    "    height=4,\n",
    "    aspect=3,\n",
    "    facet_kws=dict(sharey=False),\n",
    ")\n",
    "\n",
    "for ax in g.axes:\n",
    "    ax.xaxis.set_major_locator(mdates.YearLocator())\n",
    "    ax.xaxis.set_minor_locator(mdates.MonthLocator())"
   ]
  },
  {
   "cell_type": "code",
   "execution_count": null,
   "id": "ad793a5d-28c2-442d-b344-a99efc7a5b02",
   "metadata": {
    "tags": []
   },
   "outputs": [],
   "source": [
    "df_plot = df_long.loc[df_long[\"reducer\"].eq(\"mean\")]\n",
    "\n",
    "g = sns.relplot(\n",
    "    data=df_plot,\n",
    "    x=\"date\",\n",
    "    y=\"value\",\n",
    "    hue=\"variable\",\n",
    "    style=\"source\",\n",
    "    col=\"name\",\n",
    "    col_wrap=1,\n",
    "    kind=\"scatter\",\n",
    "    height=4,\n",
    "    aspect=3,\n",
    "    facet_kws=dict(sharey=True, ylim=(-0.6, 1)),\n",
    ")\n",
    "\n",
    "for ax in g.axes:\n",
    "    ax.xaxis.set_major_locator(mdates.YearLocator())\n",
    "    ax.xaxis.set_minor_locator(mdates.MonthLocator())\n",
    "\n",
    "plt.savefig(local_data / \"long_time_series.png\", dpi=240)"
   ]
  },
  {
   "cell_type": "markdown",
   "id": "c93f4ec3-b99f-4899-97d4-da9e2043debe",
   "metadata": {},
   "source": [
    "### Plot single parcel with errorbars"
   ]
  },
  {
   "cell_type": "code",
   "execution_count": null,
   "id": "b61d84c0-912f-4b63-a895-ea6b5aa3c6c5",
   "metadata": {},
   "outputs": [],
   "source": [
    "ids = pd.IndexSlice"
   ]
  },
  {
   "cell_type": "code",
   "execution_count": null,
   "id": "c46e21ad-c5a7-4e76-8523-a5709ab2c1d9",
   "metadata": {},
   "outputs": [],
   "source": [
    "ndvi = df.pivot(index=[\"date\", \"name\"], columns=\"reducer\", values=\"NDVI\")\n",
    "\n",
    "name = \"Shoshone Tribe - High Steppe Unirrigated 1\"\n",
    "a = ndvi.loc[ids[:, name], :].reset_index(level=\"name\", drop=True).sort_values(\"date\")\n",
    "\n",
    "fig, ax = plt.subplots(figsize=(15, 4))\n",
    "ax.errorbar(\n",
    "    x=a.index,\n",
    "    y=a[\"mean\"],\n",
    "    yerr=a[\"stdDev\"],\n",
    "    fmt=\".\",\n",
    "    linewidth=0,\n",
    "    elinewidth=0.5,\n",
    "    color=\"k\",\n",
    "    capthick=0.5,\n",
    "    capsize=1,\n",
    ")\n",
    "ax.xaxis.set_major_locator(mdates.YearLocator())\n",
    "ax.xaxis.set_minor_locator(mdates.MonthLocator())\n",
    "ax.set_ylabel(\"NDVI\")\n",
    "ax.set_title(name + \" : NDVI\")\n",
    "fig.tight_layout()\n",
    "fig.savefig(local_data / f\"{name}_ndvi.png\", dpi=240)"
   ]
  },
  {
   "cell_type": "markdown",
   "id": "d755b643-5357-4957-8f3b-40a85ce55dc5",
   "metadata": {},
   "source": [
    "### Plot Monthly Mean Per Year"
   ]
  },
  {
   "cell_type": "code",
   "execution_count": null,
   "id": "82d7e704-be35-4379-94a9-934d8255ef77",
   "metadata": {},
   "outputs": [],
   "source": [
    "b = a.copy()\n",
    "b[\"month\"] = b.index.month\n",
    "b[\"year\"] = b.index.year\n",
    "\n",
    "c = b.pivot_table(index=\"year\", columns=\"month\", values=\"mean\", aggfunc=\"mean\")\n",
    "\n",
    "fig, ax = plt.subplots(figsize=(12, 6))\n",
    "sns.heatmap(c, ax=ax, cmap=\"viridis\")\n",
    "ax.set_title(f\"{name} : NDVI\")\n",
    "fig.savefig(local_data / f\"{name}_ndvi_monthly.png\", dpi=240);"
   ]
  }
 ],
 "metadata": {
  "kernelspec": {
   "display_name": "Python 3 (ipykernel)",
   "language": "python",
   "name": "python3"
  },
  "language_info": {
   "codemirror_mode": {
    "name": "ipython",
    "version": 3
   },
   "file_extension": ".py",
   "mimetype": "text/x-python",
   "name": "python",
   "nbconvert_exporter": "python",
   "pygments_lexer": "ipython3",
   "version": "3.10.10"
  }
 },
 "nbformat": 4,
 "nbformat_minor": 5
}
