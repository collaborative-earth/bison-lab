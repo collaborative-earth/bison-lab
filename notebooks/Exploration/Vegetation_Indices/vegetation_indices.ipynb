{
 "cells": [
  {
   "cell_type": "code",
   "execution_count": null,
   "id": "97b8f256-7f4e-4e0e-83ca-ab2275beb6ee",
   "metadata": {},
   "outputs": [],
   "source": [
    "import ee\n",
    "import eemont  # noqa: F401\n",
    "import geemap\n",
    "import matplotlib.dates as mdates\n",
    "import matplotlib.pyplot as plt\n",
    "import pandas as pd\n",
    "import seaborn as sns\n",
    "\n",
    "from bisonlab.data import s2_sr_harmonized"
   ]
  },
  {
   "cell_type": "code",
   "execution_count": null,
   "id": "3cade2d1-dfd3-4538-b955-78fc388131fe",
   "metadata": {},
   "outputs": [],
   "source": [
    "# ee.Authenticate()\n",
    "ee.Initialize()"
   ]
  },
  {
   "cell_type": "code",
   "execution_count": null,
   "id": "fe92954c",
   "metadata": {},
   "outputs": [],
   "source": [
    "geometry = ee.Geometry.Point([-108.8028753344979, 43.2067524527917]).buffer(10000);\n",
    "dataset = ee.ImageCollection('USDA/NAIP/DOQQ').filter(ee.Filter.bounds(geometry))\n",
    "trueColor = dataset.select(['R', 'G', 'B'])\n",
    "trueColorVis = {\n",
    "  \"min\": 0.0,\n",
    "  \"max\": 255.0,\n",
    "}\n",
    "m = geemap.Map()\n",
    "m.addLayer(trueColor, trueColorVis, 'True Color')\n",
    "m.centerObject(geometry, 15)\n",
    "m"
   ]
  },
  {
   "cell_type": "code",
   "execution_count": null,
   "id": "c629ce2d-12f2-4bc8-ac5f-a9de360b44d5",
   "metadata": {},
   "outputs": [],
   "source": [
    "buffalo_expansion = ee.FeatureCollection(\n",
    "    \"projects/colinhill/assets/bison-lab/Buffalo_Expansion_polygons\"\n",
    ")"
   ]
  },
  {
   "cell_type": "code",
   "execution_count": null,
   "id": "a65e1a2a-bfe5-48bd-8416-373bfc7d7025",
   "metadata": {},
   "outputs": [],
   "source": [
    "parcels = buffalo_expansion.filter(\n",
    "    ee.Filter.inList(\"Name\", [\"Shoshone Tribe\", \"Hellyer Tribal Lease\"])\n",
    ")\n",
    "# aoi = ee.Geometry.Point(-108.79519868020131, 43.20280898430678)"
   ]
  },
  {
   "cell_type": "code",
   "execution_count": null,
   "id": "a53b80ec-51ca-433a-9145-9c75f97b13d9",
   "metadata": {},
   "outputs": [],
   "source": [
    "start_date = \"2017-03-28\"\n",
    "end_date = \"2022-11-01\"\n",
    "indices = [\"NDVI\", \"EVI\", \"SAVI\", \"GVMI\", \"MNDWI\", \"NDDI\"]"
   ]
  },
  {
   "cell_type": "code",
   "execution_count": null,
   "id": "c8a45da6-d1c2-4a44-a24d-9e705dfeb756",
   "metadata": {},
   "outputs": [],
   "source": [
    "s2 = s2_sr_harmonized(parcels, start_date, end_date).spectralIndices(indices)"
   ]
  },
  {
   "cell_type": "code",
   "execution_count": null,
   "id": "2519b207-edc4-4819-8df1-6c7b03e67341",
   "metadata": {},
   "outputs": [],
   "source": [
    "ts = s2.getTimeSeriesByRegions(\n",
    "    reducer=ee.Reducer.mean(),\n",
    "    collection=parcels,\n",
    "    bands=None,\n",
    "    scale=10,\n",
    "    dateColumn=\"date\",\n",
    "    naValue=None,\n",
    ")"
   ]
  },
  {
   "cell_type": "code",
   "execution_count": null,
   "id": "0fd5ebdd-07ef-4468-b990-d4d5e3c65576",
   "metadata": {},
   "outputs": [],
   "source": [
    "df = geemap.ee_to_pandas(ts)"
   ]
  },
  {
   "cell_type": "code",
   "execution_count": null,
   "id": "577cb6b5-09d0-406f-9014-210a0d718fa8",
   "metadata": {},
   "outputs": [],
   "source": [
    "df = df.drop(\n",
    "    columns=[\n",
    "        \"visibility\",\n",
    "        \"descriptio\",\n",
    "        \"tessellate\",\n",
    "        \"extrude\",\n",
    "        \"icon\",\n",
    "        \"end\",\n",
    "        \"begin\",\n",
    "        \"timestamp\",\n",
    "        \"altitudeMo\",\n",
    "    ]\n",
    ")"
   ]
  },
  {
   "cell_type": "code",
   "execution_count": null,
   "id": "5c20ebac-f027-40fa-b377-6e17775080b5",
   "metadata": {},
   "outputs": [],
   "source": [
    "filename = \"s2_sr_indices_mean.csv\"\n",
    "# df.to_csv(filename)\n",
    "df = pd.read_csv(filename)"
   ]
  },
  {
   "cell_type": "markdown",
   "id": "ef6d997d-85a0-489e-93b8-9ef0c08cdbc3",
   "metadata": {},
   "source": [
    "### Drop bad data"
   ]
  },
  {
   "cell_type": "code",
   "execution_count": null,
   "id": "94c195ad-96be-4a40-8a56-b3ca3b2f94da",
   "metadata": {},
   "outputs": [],
   "source": [
    "img = s2.closest(\"2021-11-08\").first()"
   ]
  },
  {
   "cell_type": "code",
   "execution_count": null,
   "id": "b821526d-1bed-40ba-9dc9-708bfa5d900b",
   "metadata": {},
   "outputs": [],
   "source": [
    "m = geemap.Map()\n",
    "m.addLayer(img, {\"min\": 0, \"max\": 0.3, \"bands\": [\"B4\", \"B3\", \"B2\"]}, \"s2\")\n",
    "# m.addLayer(img, {\"min\": -1, \"max\": 1, \"palette\": cm.palettes.ndvi}, \"\")\n",
    "m.centerObject(parcels, 12)\n",
    "m"
   ]
  },
  {
   "cell_type": "code",
   "execution_count": null,
   "id": "ff768666-d367-4df9-8e32-887ca2183c4c",
   "metadata": {},
   "outputs": [],
   "source": [
    "# df[df['NDVI'] > 0.8]\n",
    "# df[df['NDDI'] < -1.75e8]"
   ]
  },
  {
   "cell_type": "code",
   "execution_count": null,
   "id": "f7df4fda-7e15-40da-b396-bfc62fc3898e",
   "metadata": {},
   "outputs": [],
   "source": [
    "df = df.set_index(\"date\")\n",
    "df = df.drop(\"2021-11-08T18:22:16\").reset_index()"
   ]
  },
  {
   "cell_type": "markdown",
   "id": "7e3806e7-9a8b-442a-b9ca-8fd40731e640",
   "metadata": {},
   "source": [
    "### Plot"
   ]
  },
  {
   "cell_type": "code",
   "execution_count": null,
   "id": "94c706ad-38c4-4102-abfb-9fec40e2b8ff",
   "metadata": {},
   "outputs": [],
   "source": [
    "a = df.melt(id_vars=[\"date\", \"Name\"], value_vars=indices)"
   ]
  },
  {
   "cell_type": "code",
   "execution_count": null,
   "id": "eb879081-f39f-4941-987b-c8a13adf74b5",
   "metadata": {},
   "outputs": [],
   "source": [
    "g = sns.relplot(\n",
    "    data=a,\n",
    "    x=\"date\",\n",
    "    y=\"value\",\n",
    "    hue=\"Name\",\n",
    "    col=\"variable\",\n",
    "    col_wrap=1,\n",
    "    kind=\"line\",\n",
    "    height=4,\n",
    "    aspect=2,\n",
    "    facet_kws=dict(sharey=False),\n",
    ")\n",
    "for ax in g.axes:\n",
    "    ax.xaxis.set_major_locator(mdates.MonthLocator())\n",
    "plt.gcf().autofmt_xdate()"
   ]
  },
  {
   "cell_type": "code",
   "execution_count": null,
   "id": "ea1845f3-8c17-4beb-a0f8-2431f7e3477a",
   "metadata": {},
   "outputs": [],
   "source": [
    "fig, ax = plt.subplots(figsize=(12, 6))\n",
    "sns.lineplot(data=df, x=\"date\", y=\"NDVI\", hue=\"Name\", ax=ax)\n",
    "ax.xaxis.set_major_locator(mdates.MonthLocator())\n",
    "fig.autofmt_xdate()"
   ]
  }
 ],
 "metadata": {
  "kernelspec": {
   "display_name": "Python 3 (ipykernel)",
   "language": "python",
   "name": "python3"
  },
  "language_info": {
   "codemirror_mode": {
    "name": "ipython",
    "version": 3
   },
   "file_extension": ".py",
   "mimetype": "text/x-python",
   "name": "python",
   "nbconvert_exporter": "python",
   "pygments_lexer": "ipython3",
   "version": "3.10.10"
  }
 },
 "nbformat": 4,
 "nbformat_minor": 5
}
