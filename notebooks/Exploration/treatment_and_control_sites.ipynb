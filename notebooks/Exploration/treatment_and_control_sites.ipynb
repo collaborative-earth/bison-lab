{
 "cells": [
  {
   "cell_type": "markdown",
   "id": "8b2d16ed-8a68-4719-b377-47b24847fa50",
   "metadata": {
    "tags": []
   },
   "source": [
    "# Comparison of treatment and control sites"
   ]
  },
  {
   "cell_type": "code",
   "execution_count": 1,
   "id": "df993914-df4c-4d0f-ad72-d3dd7a82dc23",
   "metadata": {
    "tags": []
   },
   "outputs": [],
   "source": [
    "import ee, eemont\n",
    "import geemap\n",
    "import pandas as pd\n",
    "import geopandas as gpd\n",
    "from bisonlab.data import landsat_7_sr, landsat_8_sr, landsat_9_sr, s2_sr_harmonized, s2\n",
    "from bisonlab.io import kml_to_geodataframe, kmz_to_geodataframe\n",
    "from bisonlab.data import LOCAL_DATA_DIR, DATA_DIR\n",
    "from bisonlab.utils import mask_include, mask_exclude\n",
    "from pathlib import Path\n",
    "import datetime as dt\n",
    "import numpy as np\n",
    "import random\n",
    "random.seed(123)\n",
    "from tqdm.auto import tqdm\n",
    "import seaborn as sns\n",
    "import matplotlib.pyplot as plt\n",
    "import matplotlib.dates as mdates\n",
    "import geemap.colormaps as cm\n",
    "from math import ceil, floor"
   ]
  },
  {
   "cell_type": "code",
   "execution_count": 2,
   "id": "42fb9ff4-db42-4547-acc1-a5ad9ac7d246",
   "metadata": {
    "tags": []
   },
   "outputs": [
    {
     "name": "stderr",
     "output_type": "stream",
     "text": [
      "*** Earth Engine *** Share your feedback by taking our Annual Developer Satisfaction Survey: https://google.qualtrics.com/jfe/form/SV_doiqkQG3NJ1t8IS?source=API\n"
     ]
    }
   ],
   "source": [
    "ee.Initialize()"
   ]
  },
  {
   "cell_type": "code",
   "execution_count": 3,
   "id": "13ef731f-b09e-46f1-8546-304b8b160478",
   "metadata": {
    "tags": []
   },
   "outputs": [],
   "source": [
    "crs = \"EPSG:5070\""
   ]
  },
  {
   "cell_type": "markdown",
   "id": "d747caa3-6d0b-48c8-8df6-da2809b4ea4b",
   "metadata": {},
   "source": [
    "# Parcels"
   ]
  },
  {
   "cell_type": "code",
   "execution_count": 16,
   "id": "4679b74c-1272-4507-8d63-0e9027b33119",
   "metadata": {
    "tags": []
   },
   "outputs": [],
   "source": [
    "# filepath = DATA_DIR / \"Buffalo Expansion.kmz\"\n",
    "# df_parcels = kmz_to_geodataframe(filepath)\n",
    "\n",
    "# df_parcels.Name.unique()"
   ]
  },
  {
   "cell_type": "code",
   "execution_count": 26,
   "id": "344f0b6e-f82e-4c05-9db4-35c4f6d908a0",
   "metadata": {
    "tags": []
   },
   "outputs": [],
   "source": [
    "# Open buffalo expansion geometries\n",
    "filepath = DATA_DIR / \"Buffalo Expansion.kmz\"\n",
    "df_parcels = kmz_to_geodataframe(filepath)\n",
    "df_parcels = df_parcels.drop(columns=\"Description\")\n",
    "df_parcels = df_parcels.rename(columns={\"Name\": \"name\"})\n",
    "\n",
    "# Select subset of parcels\n",
    "parcels_of_interest = [\n",
    "    \"Shoshone Tribe\",\n",
    "    \"Hellyer Place\",\n",
    "    \"Hellyer Tribal Lease\",\n",
    "    \"Buffalo Initiative\",\n",
    "    \"Wickstram Property\",\n",
    "    \"Hoopengarner Property\",\n",
    "    \"Adels Property\",\n",
    "]\n",
    "df_parcels = df_parcels.loc[df_parcels.name.isin(parcels_of_interest)].reset_index(drop=True)\n",
    "\n",
    "df_parcels = df_parcels.to_crs(crs=crs)\n",
    "\n",
    "# Convert parcels dataframe to ee.featureCollection\n",
    "parcels = geemap.geopandas_to_ee(df_parcels)\n",
    "\n",
    "parcel_labels = df_parcels.name.to_list()\n",
    "parcel_colors = [\"006400\", \"ffbb22\", \"ffff4c\", \"f096ff\", \"fa0000\", \"b4b4b4\", \"fa0000\"]\n",
    "parcels_styled = geemap.ee_vector_style(parcels, column='name', labels=parcel_labels, fillColor='00000000', color=parcel_colors, width=5)\n",
    "\n",
    "# Get maximum bounds of all parcels\n",
    "parcel_bounds = parcels.geometry().dissolve().bounds()\n",
    "parcel_bounds_shapely = df_parcels.dissolve().geometry.item()"
   ]
  },
  {
   "cell_type": "code",
   "execution_count": 18,
   "id": "eee0b3cc-dfc4-482d-b56a-69e96b56f19f",
   "metadata": {
    "tags": []
   },
   "outputs": [],
   "source": [
    "# \"006400\", \"ffbb22\", \"ffff4c\", \"f096ff\", \"fa0000\", \"b4b4b4\", \"f0f0f0\", \"0064c8\", \"0096a0\", \"00cf75\", \"fae6a0\""
   ]
  },
  {
   "cell_type": "markdown",
   "id": "69294822-5325-43d9-94eb-6c48ab85bdf1",
   "metadata": {},
   "source": [
    "# Remote Sensing / Soil Data Layers"
   ]
  },
  {
   "cell_type": "markdown",
   "id": "22b0264f-9907-425a-94f1-5de0c75e015a",
   "metadata": {},
   "source": [
    "### Terrain\n",
    "* Elevation / DEM\n",
    "    - [USGS_3DEP_1m](https://developers.google.com/earth-engine/datasets/catalog/USGS_3DEP_1m)\n",
    "    - `1 m` resolution"
   ]
  },
  {
   "cell_type": "code",
   "execution_count": 19,
   "id": "7892de72-c449-4d1f-a133-7ee489159b44",
   "metadata": {
    "tags": []
   },
   "outputs": [],
   "source": [
    "# Compute terrain properties from DEM\n",
    "dem = ee.ImageCollection(\"USGS/3DEP/1m\").filterBounds(parcel_bounds)\n",
    "\n",
    "terrain = dem.map(ee.Terrain.products).mosaic()\n",
    "\n",
    "elevation = terrain.select('elevation')\n",
    "\n",
    "# Slope units are degrees, range is [0,90)\n",
    "slope = terrain.select('slope')\n",
    "\n",
    "# Aspect units are degrees where 0=N, 90=E, 180=S, 270=W\n",
    "aspect = terrain.select('aspect')\n",
    "\n",
    "# Hillshade is calculated based on illumination azimuth=270, elevation=45\n",
    "hillshade = terrain.select('hillshade')"
   ]
  },
  {
   "cell_type": "markdown",
   "id": "190060d1-bc79-47c1-b7ed-414799bb534e",
   "metadata": {},
   "source": [
    "### Soil taxonomy\n",
    "* sourced from SSURGO"
   ]
  },
  {
   "cell_type": "code",
   "execution_count": 20,
   "id": "e3e4e7f0-2139-4975-9505-e56db66f421e",
   "metadata": {
    "tags": []
   },
   "outputs": [],
   "source": [
    "df_soil_taxonomy = gpd.read_parquet(DATA_DIR / \"soil_taxonomy.parquet\") \n",
    "df_soil_taxonomy = df_soil_taxonomy.to_crs(crs=crs)\n",
    "\n",
    "# Only include map units that intersect parcels\n",
    "df_soil_taxonomy = df_soil_taxonomy[df_soil_taxonomy.intersects(parcel_bounds_shapely)]\n",
    "\n",
    "unique_soil = list(df_soil_taxonomy['MUSYM'].unique())\n",
    "soil_taxonomy_map = dict(zip(unique_soil, range(1, len(unique_soil) + 1))) \n",
    "df_soil_taxonomy[\"soil_id\"] = df_soil_taxonomy.MUSYM.map(soil_taxonomy_map)\n",
    "\n",
    "soil_taxonomy = geemap.geopandas_to_ee(df_soil_taxonomy)\n",
    "\n",
    "soil_taxonomy_labels = unique_soil\n",
    "# soil_taxonomy_colors = [f\"{random.randint(0, 0xFFFFFF):06x}\" for i in range(len(soil_taxonomy_labels))]\n",
    "soil_taxonomy_colors = ['2cdbad', 'c1541a', '23c6e9', '03606c', 'a183d6', 'e58a6c', '343e28', '16786a', '2f7ed6', '48cb2b', '40a3cc', '0adf71', '956702', 'dc7c87', 'f42f4d']\n",
    "soil_taxonomy_styled = geemap.ee_vector_style(\n",
    "    soil_taxonomy, column='MUSYM', labels=soil_taxonomy_labels, fillColor=soil_taxonomy_colors, color='00000000'\n",
    ")"
   ]
  },
  {
   "cell_type": "code",
   "execution_count": 21,
   "id": "02d8b4a7-e2a4-4bf8-8f90-a6806df67195",
   "metadata": {
    "tags": []
   },
   "outputs": [],
   "source": [
    "# df_soil_taxonomy.to_file('soil_type.kml', driver='KML')"
   ]
  },
  {
   "cell_type": "code",
   "execution_count": 22,
   "id": "7d9897bc-622c-448e-ac6a-472f29ec2ad4",
   "metadata": {
    "tags": []
   },
   "outputs": [],
   "source": [
    "pd.set_option('display.max_colwidth', None)"
   ]
  },
  {
   "cell_type": "code",
   "execution_count": 23,
   "id": "4c3ccc95-091b-4a35-bf03-2c86b328efcb",
   "metadata": {
    "tags": []
   },
   "outputs": [
    {
     "data": {
      "text/html": [
       "<div>\n",
       "<style scoped>\n",
       "    .dataframe tbody tr th:only-of-type {\n",
       "        vertical-align: middle;\n",
       "    }\n",
       "\n",
       "    .dataframe tbody tr th {\n",
       "        vertical-align: top;\n",
       "    }\n",
       "\n",
       "    .dataframe thead th {\n",
       "        text-align: right;\n",
       "    }\n",
       "</style>\n",
       "<table border=\"1\" class=\"dataframe\">\n",
       "  <thead>\n",
       "    <tr style=\"text-align: right;\">\n",
       "      <th></th>\n",
       "      <th>MUSYM</th>\n",
       "      <th>desc</th>\n",
       "    </tr>\n",
       "  </thead>\n",
       "  <tbody>\n",
       "    <tr>\n",
       "      <th>5</th>\n",
       "      <td>EuB</td>\n",
       "      <td>Ethete loam, saline, 0 to 6 percent slopes</td>\n",
       "    </tr>\n",
       "    <tr>\n",
       "      <th>41</th>\n",
       "      <td>CRF</td>\n",
       "      <td>Clifterson-Rock land association, steep</td>\n",
       "    </tr>\n",
       "    <tr>\n",
       "      <th>72</th>\n",
       "      <td>Cw</td>\n",
       "      <td>Crowheart loam, 0 to 3 percent slopes, occasionally flooded</td>\n",
       "    </tr>\n",
       "    <tr>\n",
       "      <th>119</th>\n",
       "      <td>EtB</td>\n",
       "      <td>Ethete loam, 3 to 6 percent slopes</td>\n",
       "    </tr>\n",
       "    <tr>\n",
       "      <th>125</th>\n",
       "      <td>ZZ900</td>\n",
       "      <td>Water</td>\n",
       "    </tr>\n",
       "    <tr>\n",
       "      <th>138</th>\n",
       "      <td>GrA</td>\n",
       "      <td>Griffy loam, 0 to 3 percent slopes</td>\n",
       "    </tr>\n",
       "    <tr>\n",
       "      <th>154</th>\n",
       "      <td>Bg</td>\n",
       "      <td>Bigwin fine sandy loam, 0 to 2 percent slopes, frequently flooded</td>\n",
       "    </tr>\n",
       "    <tr>\n",
       "      <th>190</th>\n",
       "      <td>FnA</td>\n",
       "      <td>Fivemile silty clay loam, 0 to 3 percent slopes</td>\n",
       "    </tr>\n",
       "    <tr>\n",
       "      <th>202</th>\n",
       "      <td>PaC</td>\n",
       "      <td>Pavillion sandy clay loam, 3 to 10 percent slopes</td>\n",
       "    </tr>\n",
       "    <tr>\n",
       "      <th>247</th>\n",
       "      <td>Wa</td>\n",
       "      <td>Wet alluvial land</td>\n",
       "    </tr>\n",
       "    <tr>\n",
       "      <th>259</th>\n",
       "      <td>EtA</td>\n",
       "      <td>Ethete loam, 0 to 3 percent slopes</td>\n",
       "    </tr>\n",
       "    <tr>\n",
       "      <th>276</th>\n",
       "      <td>FoB</td>\n",
       "      <td>Fivemile silty clay loam, saline, 0 to 6 percent slopes</td>\n",
       "    </tr>\n",
       "    <tr>\n",
       "      <th>311</th>\n",
       "      <td>Bn</td>\n",
       "      <td>Binton silty clay loam, saline</td>\n",
       "    </tr>\n",
       "    <tr>\n",
       "      <th>316</th>\n",
       "      <td>OcC</td>\n",
       "      <td>Oceanet sandy loam, 0 to 10 percent slopes</td>\n",
       "    </tr>\n",
       "    <tr>\n",
       "      <th>333</th>\n",
       "      <td>Eg</td>\n",
       "      <td>Effington sandy clay loam, gravel substratum</td>\n",
       "    </tr>\n",
       "  </tbody>\n",
       "</table>\n",
       "</div>"
      ],
      "text/plain": [
       "     MUSYM                                                               desc\n",
       "5      EuB                         Ethete loam, saline, 0 to 6 percent slopes\n",
       "41     CRF                            Clifterson-Rock land association, steep\n",
       "72      Cw        Crowheart loam, 0 to 3 percent slopes, occasionally flooded\n",
       "119    EtB                                 Ethete loam, 3 to 6 percent slopes\n",
       "125  ZZ900                                                              Water\n",
       "138    GrA                                 Griffy loam, 0 to 3 percent slopes\n",
       "154     Bg  Bigwin fine sandy loam, 0 to 2 percent slopes, frequently flooded\n",
       "190    FnA                    Fivemile silty clay loam, 0 to 3 percent slopes\n",
       "202    PaC                  Pavillion sandy clay loam, 3 to 10 percent slopes\n",
       "247     Wa                                                  Wet alluvial land\n",
       "259    EtA                                 Ethete loam, 0 to 3 percent slopes\n",
       "276    FoB            Fivemile silty clay loam, saline, 0 to 6 percent slopes\n",
       "311     Bn                                     Binton silty clay loam, saline\n",
       "316    OcC                         Oceanet sandy loam, 0 to 10 percent slopes\n",
       "333     Eg                       Effington sandy clay loam, gravel substratum"
      ]
     },
     "execution_count": 23,
     "metadata": {},
     "output_type": "execute_result"
    }
   ],
   "source": [
    "df_soil_taxonomy.loc[:, [\"MUSYM\", \"desc\"]].drop_duplicates()"
   ]
  },
  {
   "cell_type": "markdown",
   "id": "54989673-47da-4288-8f20-445730d60864",
   "metadata": {},
   "source": [
    "### Irrigation\n",
    "* GFSAD Landsat-Derived Global Rainfed and Irrigated-Cropland Product (LGRIP)\n",
    "    - `https://gee-community-catalog.org/projects/lgrip30/`"
   ]
  },
  {
   "cell_type": "code",
   "execution_count": 24,
   "id": "4bbc6576-0892-4124-ba87-a79cc055025b",
   "metadata": {
    "tags": []
   },
   "outputs": [],
   "source": [
    "irrigation = ee.ImageCollection(\"projects/sat-io/open-datasets/GFSAD/LGRIP30\").filterBounds(parcel_bounds)\n",
    "\n",
    "# Class Label, Name, Description\n",
    "# 0 Ocean, Ocean and Water bodies\n",
    "# 1 Non-croplands, Land with other land use\n",
    "# 2 Irrigated croplands, Agricultural croplands that are irrigated\n",
    "# 3 Rainfed croplands, Agricultural croplands that are rainfed\n",
    "\n",
    "irrigation_colors = [\"0050cb\",\"d58855\",\"c2d30c\",\"379a4b\"]\n",
    "irrigation_labels = [\"Ocean\", \"Non-croplands\", \"Irrigated croplands\", \"Rainfed croplands\"]\n",
    "irrigation_vis = {\"min\": 0, \"max\": 3, \"palette\": irrigation_colors}"
   ]
  },
  {
   "cell_type": "markdown",
   "id": "cdc64ae7-339a-4331-b113-b8ac538474a6",
   "metadata": {},
   "source": [
    "## Plot all remote sensing layers"
   ]
  },
  {
   "cell_type": "code",
   "execution_count": 27,
   "id": "51f26fc3-292f-4178-97f5-7942d53882cb",
   "metadata": {
    "tags": []
   },
   "outputs": [
    {
     "data": {
      "application/vnd.jupyter.widget-view+json": {
       "model_id": "9a369af7350f49559df510a23ca4d4f5",
       "version_major": 2,
       "version_minor": 0
      },
      "text/plain": [
       "Map(center=[-108.808, 43.205], controls=(WidgetControl(options=['position', 'transparent_bg'], widget=HBox(chi…"
      ]
     },
     "execution_count": 27,
     "metadata": {},
     "output_type": "execute_result"
    }
   ],
   "source": [
    "m = geemap.Map(center=(-108.808, 43.205), zoom=14, height=800, basemap='SATELLITE')\n",
    "\n",
    "# m.addLayer(slope, {\"min\": 0, \"max\": 60}, 'Slope')\n",
    "# m.addLayer(slope.lt(10), {}, 'Slope < 10 deg')\n",
    "# m.addLayer(aspect, {\"min\": 0, \"max\": 359.99}, 'Aspect')\n",
    "# m.addLayer(hillshade, {\"min\": 0, \"max\": 255}, 'Hillshade')\n",
    "\n",
    "# m.addLayer(soil_taxonomy, {}, 's')\n",
    "m.addLayer(soil_taxonomy_styled, {}, 'Soil Taxonomy')\n",
    "m.add_legend(title=\"Soil group\", labels=soil_taxonomy_labels, colors=soil_taxonomy_colors, position=\"bottomright\")\n",
    "\n",
    "# m.addLayer(irrigation, irrigation_vis, \"Irrigated\")\n",
    "# m.add_legend(title='Irrigation', labels=irrigation_labels, colors=irrigation_colors, position=\"topleft\")\n",
    "\n",
    "m.addLayer(parcels_styled, {}, \"Parcels\")\n",
    "m.add_legend(title='parcels', labels=parcel_labels, colors=parcel_colors, position=\"bottomleft\")\n",
    "# m.centerObject(parcels, 14)\n",
    "m"
   ]
  },
  {
   "cell_type": "code",
   "execution_count": null,
   "id": "f35b98a6-bd9a-4bbe-aae6-09c0bb494806",
   "metadata": {
    "tags": []
   },
   "outputs": [],
   "source": [
    "# fc = m.draw_features"
   ]
  },
  {
   "cell_type": "code",
   "execution_count": null,
   "id": "704e011f-0e74-4b27-8c68-2105174ba17c",
   "metadata": {
    "tags": []
   },
   "outputs": [],
   "source": [
    "# fc[0].geometry().getInfo()"
   ]
  },
  {
   "cell_type": "code",
   "execution_count": null,
   "id": "23232541-47a6-4fe8-a717-0ab9a4881779",
   "metadata": {
    "tags": []
   },
   "outputs": [],
   "source": [
    "# _a_bison_7_upper = ee.Geometry.Polygon(coords=[[[-108.79312, 43.206349],\n",
    "#    [-108.788213, 43.20641],\n",
    "#    [-108.788719, 43.205807],\n",
    "#    [-108.789421, 43.204898],\n",
    "#    [-108.789963, 43.2042],\n",
    "#    [-108.790124, 43.203932],\n",
    "#    [-108.791213, 43.204308],\n",
    "#    [-108.791572, 43.204548],\n",
    "#    [-108.792396, 43.205366],\n",
    "#    [-108.7929, 43.206058],\n",
    "#    [-108.79312, 43.206349]]])"
   ]
  },
  {
   "cell_type": "code",
   "execution_count": null,
   "id": "0569ebd4-f6da-47fe-ab3e-c37bd39e96f4",
   "metadata": {
    "tags": []
   },
   "outputs": [],
   "source": [
    "# m = geemap.Map(height=800, basemap='SATELLITE')\n",
    "# m.addLayer(geom, {}, \"\")\n",
    "# m.centerObject(geom, 14)\n",
    "# m"
   ]
  },
  {
   "cell_type": "code",
   "execution_count": null,
   "id": "38949c45-bfee-421c-984f-d499b91af6c6",
   "metadata": {
    "tags": []
   },
   "outputs": [],
   "source": [
    "df_soil_taxonomy.loc[:, [\"MUSYM\", \"desc\"]].drop_duplicates()"
   ]
  },
  {
   "cell_type": "code",
   "execution_count": null,
   "id": "ecd0ac51-29a9-400d-9154-bbae46db8a25",
   "metadata": {
    "tags": []
   },
   "outputs": [],
   "source": [
    "# Comparison a\n",
    "_comparison_a_soil_geom = soil_taxonomy.filter(ee.Filter.inList(\"MUSYM\", [\"EtA\"])).geometry().buffer(-10)\n",
    "\n",
    "_comparison_a_cattle = ee.Geometry.Polygon(coords=[[[-108.804828, 43.213152],\n",
    "   [-108.804967, 43.21291],\n",
    "   [-108.804737, 43.212812],\n",
    "   [-108.804603, 43.21264],\n",
    "   [-108.804646, 43.212448],\n",
    "   [-108.804308, 43.212362],\n",
    "   [-108.804098, 43.211979],\n",
    "   [-108.803712, 43.211753],\n",
    "   [-108.802983, 43.211174],\n",
    "   [-108.801856, 43.210259],\n",
    "   [-108.801717, 43.209845],\n",
    "   [-108.80162, 43.209516],\n",
    "   [-108.80103, 43.20929],\n",
    "   [-108.800558, 43.209344],\n",
    "   [-108.79986, 43.209055],\n",
    "   [-108.799732, 43.208789],\n",
    "   [-108.798895, 43.208586],\n",
    "   [-108.798208, 43.208148],\n",
    "   [-108.79764, 43.207968],\n",
    "   [-108.7972, 43.207616],\n",
    "   [-108.79779, 43.206998],\n",
    "   [-108.79632, 43.206646],\n",
    "   [-108.796266, 43.206318],\n",
    "   [-108.795419, 43.206326],\n",
    "   [-108.79544, 43.208641],\n",
    "   [-108.795419, 43.209555],\n",
    "   [-108.796899, 43.210259],\n",
    "   [-108.799024, 43.211221],\n",
    "   [-108.800687, 43.211847],\n",
    "   [-108.802779, 43.212511],\n",
    "   [-108.804828, 43.213152]]]\n",
    ")\n",
    "comparison_a_cattle = _comparison_a_soil_geom.intersection(_comparison_a_cattle, maxError=0.01)\n",
    "\n",
    "_comparison_a_bison_7 = ee.Geometry.Polygon(coords=[[[-108.79485, 43.206322],\n",
    "   [-108.791165, 43.20222],\n",
    "   [-108.790092, 43.201727],\n",
    "   [-108.788826, 43.201266],\n",
    "   [-108.784642, 43.205086],\n",
    "   [-108.788279, 43.206419],\n",
    "   [-108.79485, 43.206322]]])\n",
    "comparison_a_bison_7 = _comparison_a_soil_geom.intersection(_comparison_a_bison_7, maxError=0.01)\n",
    "\n",
    "_comparison_a_bison_7_1 = ee.Geometry.Polygon(coords=[[[-108.79312, 43.206349],\n",
    "   [-108.788213, 43.20641],\n",
    "   [-108.788719, 43.205807],\n",
    "   [-108.789421, 43.204898],\n",
    "   [-108.789963, 43.2042],\n",
    "   [-108.790124, 43.203932],\n",
    "   [-108.791213, 43.204308],\n",
    "   [-108.791572, 43.204548],\n",
    "   [-108.792396, 43.205366],\n",
    "   [-108.7929, 43.206058],\n",
    "   [-108.79312, 43.206349]]])\n",
    "\n",
    "comparison_a_bison_7_1 = _comparison_a_soil_geom.intersection(_comparison_a_bison_7_1, maxError=0.01)\n",
    "\n",
    "_comparison_a_bison_7_2 = ee.Geometry.Polygon(coords=[[[-108.788133, 43.206341],\n",
    "   [-108.788469, 43.205995],\n",
    "   [-108.789837, 43.204247],\n",
    "   [-108.790038, 43.203895],\n",
    "   [-108.788576, 43.203391],\n",
    "   [-108.788442, 43.203373],\n",
    "   [-108.787978, 43.203321],\n",
    "   [-108.786975, 43.202924],\n",
    "   [-108.784644, 43.205066],\n",
    "   [-108.788133, 43.206341]]]\n",
    ")\n",
    "comparison_a_bison_7_2 = _comparison_a_soil_geom.intersection(_comparison_a_bison_7_2, maxError=0.01)\n",
    "\n",
    "_comparison_a_bison_1 = ee.Geometry.Polygon(coords=[[[-108.784557, 43.204951],\n",
    "   [-108.788407, 43.20136],\n",
    "   [-108.777909, 43.199349],\n",
    "   [-108.776171, 43.200992],\n",
    "   [-108.78071, 43.203448],\n",
    "   [-108.781442, 43.203803],\n",
    "   [-108.784349, 43.204932],\n",
    "   [-108.784557, 43.204951]]])\n",
    "comparison_a_bison_1 = _comparison_a_soil_geom.intersection(_comparison_a_bison_1, maxError=0.01)"
   ]
  },
  {
   "cell_type": "code",
   "execution_count": null,
   "id": "c4e281a3-f0e0-405e-9a22-572b7e7f4c7b",
   "metadata": {
    "tags": []
   },
   "outputs": [],
   "source": [
    "# Comparison b\n",
    "_comparison_b_soil_geom = soil_taxonomy.filter(ee.Filter.inList(\"MUSYM\", [\"EtA\", \"GrA\"])).geometry()\n",
    "\n",
    "_comparison_b_cattle = ee.Geometry.BBox(-108.80535162985326, 43.20626579152538, -108.798369, 43.20653606179568)\n",
    "comparison_b_cattle = _comparison_b_soil_geom.intersection(_comparison_b_cattle, maxError=0.01)\n",
    "\n",
    "_comparison_b_bison_7 = ee.Geometry.BBox(-108.80535162985326, 43.20599552125508, -108.798369, 43.20626579152538)\n",
    "comparison_b_bison_7 = _comparison_b_soil_geom.intersection(_comparison_b_bison_7, maxError=0.01)"
   ]
  },
  {
   "cell_type": "code",
   "execution_count": null,
   "id": "306703f1-5196-4d8c-8d52-dcf7b402e048",
   "metadata": {
    "tags": []
   },
   "outputs": [],
   "source": [
    "# Comparison c\n",
    "_comparison_c_soil_geom = soil_taxonomy.filter(ee.Filter.inList(\"MUSYM\", [\"GrA\"])).geometry().buffer(-10)\n",
    "\n",
    "_comparison_c_bison_7 = ee.Geometry.Polygon(coords=[[[-108.805305, 43.206236],\n",
    "   [-108.805262, 43.204961],\n",
    "   [-108.803766, 43.2045],\n",
    "   [-108.803551, 43.204554],\n",
    "   [-108.80221, 43.204331],\n",
    "   [-108.802065, 43.204066],\n",
    "   [-108.80111, 43.203608],\n",
    "   [-108.80074, 43.203444],\n",
    "   [-108.800193, 43.203115],\n",
    "   [-108.798482, 43.201547],\n",
    "   [-108.798235, 43.201467],\n",
    "   [-108.797983, 43.201578],\n",
    "   [-108.797792, 43.201901],\n",
    "   [-108.797516, 43.202005],\n",
    "   [-108.796913, 43.201926],\n",
    "   [-108.796728, 43.201819],\n",
    "   [-108.7961, 43.200771],\n",
    "   [-108.79591, 43.200343],\n",
    "   [-108.795132, 43.199181],\n",
    "   [-108.791071, 43.199207],\n",
    "   [-108.790977, 43.199289],\n",
    "   [-108.791135, 43.199502],\n",
    "   [-108.791312, 43.199696],\n",
    "   [-108.791403, 43.199825],\n",
    "   [-108.79165, 43.200278],\n",
    "   [-108.7918, 43.200423],\n",
    "   [-108.792525, 43.200624],\n",
    "   [-108.793539, 43.200925],\n",
    "   [-108.793919, 43.20127],\n",
    "   [-108.794713, 43.201973],\n",
    "   [-108.794807, 43.202079],\n",
    "   [-108.794855, 43.202171],\n",
    "   [-108.794898, 43.202531],\n",
    "   [-108.794982, 43.202732],\n",
    "   [-108.795727, 43.203579],\n",
    "   [-108.795955, 43.203729],\n",
    "   [-108.796467, 43.203921],\n",
    "   [-108.796768, 43.204077],\n",
    "   [-108.796948, 43.204216],\n",
    "   [-108.797514, 43.204801],\n",
    "   [-108.797696, 43.205053],\n",
    "   [-108.797841, 43.205326],\n",
    "   [-108.797996, 43.205821],\n",
    "   [-108.798476, 43.206226],\n",
    "   [-108.805305, 43.206236]]])\n",
    "comparison_c_bison_7 = _comparison_c_soil_geom.intersection(_comparison_c_bison_7, maxError=0.01)\n",
    "\n",
    "_comparison_c_bison_1 = ee.Geometry.Polygon(coords=[[[-108.787407, 43.200413],\n",
    "   [-108.787235, 43.199203],\n",
    "   [-108.787155, 43.198795],\n",
    "   [-108.786436, 43.197646],\n",
    "   [-108.78587, 43.196688],\n",
    "   [-108.785252, 43.19562],\n",
    "   [-108.780431, 43.19565],\n",
    "   [-108.775656, 43.195189],\n",
    "   [-108.772271, 43.194848],\n",
    "   [-108.772287, 43.195623],\n",
    "   [-108.772931, 43.195808],\n",
    "   [-108.773859, 43.196231],\n",
    "   [-108.774189, 43.196512],\n",
    "   [-108.774763, 43.196583],\n",
    "   [-108.775482, 43.19686],\n",
    "   [-108.775923, 43.197066],\n",
    "   [-108.776611, 43.197333],\n",
    "   [-108.777947, 43.197615],\n",
    "   [-108.777555, 43.198622],\n",
    "   [-108.781863, 43.199584],\n",
    "   [-108.779283, 43.196757],\n",
    "   [-108.779433, 43.196702],\n",
    "   [-108.782276, 43.199659],\n",
    "   [-108.787056, 43.200621],\n",
    "   [-108.787436, 43.200609],\n",
    "   [-108.787407, 43.200413]]])\n",
    "comparison_c_bison_1 = _comparison_c_soil_geom.intersection(_comparison_c_bison_1, maxError=0.01)"
   ]
  },
  {
   "cell_type": "code",
   "execution_count": null,
   "id": "ff1c5cf7-0c38-4040-a5ab-394e50bcc146",
   "metadata": {
    "tags": []
   },
   "outputs": [],
   "source": [
    "_a = kml_to_geodataframe(LOCAL_DATA_DIR / \"Bison7_green_side.kml\")\n",
    "_b = kml_to_geodataframe(LOCAL_DATA_DIR / \"Bison7-reddish_side.kml\")\n",
    "bison7_green_side = geemap.geopandas_to_ee(_a).first().geometry()\n",
    "bison7_reddish_side = geemap.geopandas_to_ee(_b).first().geometry()"
   ]
  },
  {
   "cell_type": "code",
   "execution_count": null,
   "id": "c85721f6-0ee4-4098-9089-68ed5f8818c2",
   "metadata": {},
   "outputs": [],
   "source": [
    "site_names = ['a_cattle', 'a_bison_7', 'a_bison_7_1', 'a_bison_7_2', 'a_bison_1', 'b_bison_7', 'b_cattle', 'c_bison_7', 'c_bison_1', 'bison_7_green', 'bison_7_reddish']\n",
    "site_geom = [comparison_a_cattle, comparison_a_bison_7, comparison_a_bison_7_1, comparison_a_bison_7_2, comparison_a_bison_1, comparison_b_bison_7, comparison_b_cattle, comparison_c_bison_7, comparison_c_bison_1, bison7_green_side, bison7_reddish_side]"
   ]
  },
  {
   "cell_type": "code",
   "execution_count": null,
   "id": "3d98b7e8-ab83-4745-9f41-a7f217697141",
   "metadata": {},
   "outputs": [],
   "source": [
    "comparison_sites = ee.FeatureCollection([\n",
    "    ee.Feature(geom, {'name': name})\n",
    "    for name, geom in zip(site_names, site_geom)\n",
    "])"
   ]
  },
  {
   "cell_type": "code",
   "execution_count": null,
   "id": "153d1237-1047-4941-be0f-a600249183ec",
   "metadata": {
    "tags": []
   },
   "outputs": [],
   "source": [
    "sites_styled = geemap.ee_vector_style(comparison_sites, column='name', color=[\"ffff4c\", \"f096ff\", \"fa0000\", \"b4b4b4\", \"f0f0f0\", \"0064c8\", \"0096a0\", \"00cf75\", \"fae6a0\", \"0f0f0f\", \"00fa00\"])"
   ]
  },
  {
   "cell_type": "code",
   "execution_count": null,
   "id": "9269831b-5b40-440a-b6e5-7959acfc58d0",
   "metadata": {
    "tags": []
   },
   "outputs": [],
   "source": [
    "m = geemap.Map(height=800)\n",
    "\n",
    "m.addLayer(parcels_styled, {}, \"Parcels\")\n",
    "m.add_legend(title='parcels', labels=parcel_labels, colors=parcel_colors, position=\"bottomleft\")\n",
    "m.addLayer(comparison_sites, {}, \"comparison_sites\")\n",
    "m.addLayer(sites_styled, {}, \"sites\")\n",
    "m.centerObject(parcels, 14)\n",
    "m"
   ]
  },
  {
   "cell_type": "code",
   "execution_count": null,
   "id": "0de0e1d6-bd09-4b27-8787-5a069b4db113",
   "metadata": {
    "tags": []
   },
   "outputs": [],
   "source": [
    "m = geemap.Map(height=800)\n",
    "m.addLayer(soil_taxonomy_styled, {}, 'Soil Taxonomy')\n",
    "m.add_legend(title=\"Soil group\", labels=soil_taxonomy_labels, colors=soil_taxonomy_colors, position=\"bottomright\")\n",
    "\n",
    "# m.addLayer(parcels_styled, {}, \"Parcels\")\n",
    "# m.add_legend(title='parcels', labels=parcel_labels, colors=parcel_colors, position=\"bottomleft\")\n",
    "\n",
    "# m.addLayer(comparison_sites.filterMetadata(\"name\", \"equals\", \"c_bison_7\"), {}, \"comparison_sites\")\n",
    "# m.addLayer(soil_taxonomy.filter(ee.Filter.inList(\"MUSYM\", [\"Eta\", \"Cw\"])), {}, \"f\")\n",
    "m.centerObject(parcels, 14)\n",
    "m"
   ]
  },
  {
   "cell_type": "markdown",
   "id": "f5af6205-cef8-492c-82b4-ef710be29c74",
   "metadata": {},
   "source": [
    "# Intersect soil properties with parcels \n",
    "* Comparison a - define a buffer and stay within the pink - Eta\n",
    "* Comparison b - across the fence, here we’re lumping the soils Eta and Cw - stay out of CRF.\n",
    "* Comparison c - stay within GrA, give a small buffer on CRF.\n",
    "\n",
    "\n",
    "We want only regions with `slope < 10 deg`\n"
   ]
  },
  {
   "cell_type": "code",
   "execution_count": null,
   "id": "e929549c-c996-4b47-b104-0a802908034d",
   "metadata": {
    "tags": []
   },
   "outputs": [],
   "source": [
    "# imgcol = (\n",
    "#         ee.ImageCollection(\"COPERNICUS/S2\")\n",
    "#         .filterBounds(aoi)\n",
    "#         .filterDate(dt.datetime(2017, 1, 1), dt.datetime(2018, 12, 31))\n",
    "#         .filter(ee.Filter.lte(\"CLOUDY_PIXEL_PERCENTAGE\", 20))"
   ]
  },
  {
   "cell_type": "code",
   "execution_count": null,
   "id": "15e2b818-aeed-429a-af5f-49f4c5a91a30",
   "metadata": {
    "tags": []
   },
   "outputs": [],
   "source": [
    "start_date, end_date = dt.datetime(2017, 1, 1), dt.datetime(2018, 12, 31)\n",
    "aoi = bison7_green_side\n",
    "\n",
    "imgcol = s2_sr_harmonized(\n",
    "    aoi, start_date, end_date, cloud_filter=100, cloud_prob_thresh=100\n",
    ").spectralIndices('NDVI')"
   ]
  },
  {
   "cell_type": "code",
   "execution_count": null,
   "id": "a779db41-22d7-4c4f-b546-61fd6f3bf248",
   "metadata": {
    "tags": []
   },
   "outputs": [],
   "source": [
    "# aoi = bison7_green_side\n",
    "imgcol = s2(aoi, dt.datetime(2017, 1, 1), dt.datetime(2018, 12, 31), cloud_filter=100).spectralIndices('NDVI')"
   ]
  },
  {
   "cell_type": "code",
   "execution_count": null,
   "id": "fd1746bd-add2-47c6-8a3b-6b93b54086bc",
   "metadata": {
    "tags": []
   },
   "outputs": [],
   "source": [
    "def _f(img):\n",
    "    qa_band = img.select(\"QA60\")\n",
    "    # Create masks for each QA bit of interest. All bits should be set to zero,\n",
    "    # indicating clear conditions.\n",
    "    clear_bit_masks = [qa_band.bitwiseAnd(bit_mask).eq(0) for bit_mask in [1 << 10, 1 << 11]]\n",
    "    # Note that `ee.Reducer.allNonZero` is preferred over the deprecated `ee.Reducer.and`\n",
    "    clear_mask = ee.Image.cat(clear_bit_masks).reduce(ee.Reducer.allNonZero())\n",
    "\n",
    "    return img.updateMask(clear_mask)"
   ]
  },
  {
   "cell_type": "code",
   "execution_count": null,
   "id": "43db9711-a23b-4400-8e74-a31dc3f66875",
   "metadata": {
    "tags": []
   },
   "outputs": [],
   "source": [
    "imgcol = imgcol.map(_f)"
   ]
  },
  {
   "cell_type": "code",
   "execution_count": null,
   "id": "6f40af8b-417b-49ec-92d8-e1abccdc87c6",
   "metadata": {
    "tags": []
   },
   "outputs": [],
   "source": [
    "ts = imgcol.getTimeSeriesByRegion(\n",
    "    reducer=[\n",
    "        ee.Reducer.mean(),\n",
    "        ee.Reducer.count(),\n",
    "    ],\n",
    "    geometry=aoi,\n",
    "    bands=['NDVI'],\n",
    "    scale=10,\n",
    "    dateColumn=\"date\",\n",
    "    naValue=None,\n",
    "    )"
   ]
  },
  {
   "cell_type": "code",
   "execution_count": null,
   "id": "15d72d54-9486-4f43-b2ce-2ece5c1f4fa1",
   "metadata": {
    "tags": []
   },
   "outputs": [],
   "source": [
    "df = geemap.ee_to_pandas(ts)"
   ]
  },
  {
   "cell_type": "code",
   "execution_count": null,
   "id": "62e38305-45e0-4e02-9109-b25633403f67",
   "metadata": {
    "tags": []
   },
   "outputs": [],
   "source": [
    "df['date'] = pd.to_datetime(df['date'])"
   ]
  },
  {
   "cell_type": "code",
   "execution_count": null,
   "id": "161deb92-1a75-4c78-a0ba-f25059dc5d4f",
   "metadata": {
    "tags": []
   },
   "outputs": [],
   "source": [
    "ndvi = df[df['reducer'].eq('mean')].set_index('date')[['NDVI']]"
   ]
  },
  {
   "cell_type": "code",
   "execution_count": null,
   "id": "7098d471-7c45-42d9-b2d0-d00638920866",
   "metadata": {
    "tags": []
   },
   "outputs": [],
   "source": [
    "ndvi.plot(marker='.', ls='none');"
   ]
  },
  {
   "cell_type": "code",
   "execution_count": null,
   "id": "6a8cc4ad-1795-4db7-88fe-3a0d6fdddff8",
   "metadata": {
    "tags": []
   },
   "outputs": [],
   "source": [
    "ts.first().propertyNames().getInfo()"
   ]
  },
  {
   "cell_type": "code",
   "execution_count": null,
   "id": "669aea06-3da6-4da4-a558-6432e58ae3f2",
   "metadata": {
    "tags": []
   },
   "outputs": [],
   "source": [
    "size = ts.size().getInfo()\n",
    "chunk_size = 100\n",
    "n_chunks = ceil(size / chunk_size)\n",
    "\n",
    "offset = 0\n",
    "df = geemap.ee_to_pandas(ee.FeatureCollection(ts.toList(count=chunk_size, offset=offset)))"
   ]
  },
  {
   "cell_type": "code",
   "execution_count": null,
   "id": "69e4f099-7fda-425a-9786-5a63b079d0c0",
   "metadata": {
    "tags": []
   },
   "outputs": [],
   "source": [
    "df['date'] = pd.to_datetime(df['date'])"
   ]
  },
  {
   "cell_type": "code",
   "execution_count": null,
   "id": "8f9b673c-937c-47c6-8784-054cf28093f1",
   "metadata": {
    "tags": []
   },
   "outputs": [],
   "source": [
    "# df.loc[df.date.dt.year.eq(2019) & df.date.dt.month.eq(1)]"
   ]
  },
  {
   "cell_type": "code",
   "execution_count": null,
   "id": "4d4640fc-3089-409f-a0e7-55341b0c66bb",
   "metadata": {
    "tags": []
   },
   "outputs": [],
   "source": [
    "img1 = imgcol.select('NDVI').closest('2019-01-08').first()"
   ]
  },
  {
   "cell_type": "code",
   "execution_count": null,
   "id": "8e314b6e-c576-459d-97bc-3526a60e64db",
   "metadata": {
    "tags": []
   },
   "outputs": [],
   "source": [
    "img2 = imgcol.select('NDVI').closest('2019-01-25').first()"
   ]
  },
  {
   "cell_type": "code",
   "execution_count": null,
   "id": "0c25be1c-ce2f-4c4c-8568-d3d39cb73348",
   "metadata": {
    "tags": []
   },
   "outputs": [],
   "source": [
    "m = geemap.Map(height=800)\n",
    "\n",
    "vis_params = {'min': -0.1, 'max': 0.8, 'palette': cm.palettes.RdYlGn}#cm.palettes.ndvi}\n",
    "\n",
    "m.addLayer(img1, vis_params, \"img1\")\n",
    "m.addLayer(img2, vis_params, \"img2\")\n",
    "m.add_colorbar(vis_params, label=\"NDVI\", layer_name=\"ndvi\")\n",
    "m.addLayer(aoi, {}, \"aoi\")\n",
    "m.centerObject(aoi, 14)\n",
    "m"
   ]
  },
  {
   "cell_type": "code",
   "execution_count": null,
   "id": "3746b4ec-8274-42d2-9388-62ec92a45086",
   "metadata": {
    "tags": []
   },
   "outputs": [],
   "source": [
    "# df"
   ]
  },
  {
   "cell_type": "code",
   "execution_count": null,
   "id": "4831db19-9a32-47a2-b52c-e119238e751e",
   "metadata": {
    "tags": []
   },
   "outputs": [],
   "source": [
    "# df.loc[df.reducer.eq('mean')].plot.scatter(x='date', y='NDVI');"
   ]
  },
  {
   "cell_type": "markdown",
   "id": "1d87b1ed-bf49-40b8-9d54-a934bee0bae3",
   "metadata": {},
   "source": [
    "# Get Indices for each site"
   ]
  },
  {
   "cell_type": "code",
   "execution_count": null,
   "id": "46bdfd17-193c-4c6b-bc28-8abce634f04e",
   "metadata": {
    "tags": []
   },
   "outputs": [],
   "source": [
    "outdir = LOCAL_DATA_DIR / \"comparison_sites_cloud_20\"\n",
    "cloud_prob_thresh = 20\n",
    "\n",
    "# Define remote sensing data source parameters\n",
    "source_config = {\n",
    "    \"l7\": {\"source\": landsat_7_sr, \"start_date\": dt.datetime(2000, 1, 1), \"end_date\": dt.datetime(2023, 5, 31), \"scale\": 30},\n",
    "    \"l8\": {\"source\": landsat_8_sr, \"start_date\": dt.datetime(2013, 1, 1), \"end_date\": dt.datetime(2023, 5, 31), \"scale\": 30},\n",
    "    \"l9\": {\"source\": landsat_9_sr, \"start_date\": dt.datetime(2021, 10, 31), \"end_date\": dt.datetime(2023, 5, 31), \"scale\": 30},\n",
    "    \"s2\": {\"source\": s2_sr_harmonized, \"start_date\": dt.datetime(2018, 1, 1), \"end_date\": dt.datetime(2023, 5, 31), \"scale\": 10},\n",
    "    # \"s2\": {\"source\": s2, \"start_date\": dt.datetime(2015, 6, 23), \"end_date\": dt.datetime(2023, 7, 31), \"scale\": 10},\n",
    "}\n",
    "\n",
    "# Mask for slope\n",
    "mask = slope.lt(10)\n",
    "\n",
    "# Set indices to calculate\n",
    "indices = ['BI', 'EMBI', 'EVI', 'GLI', 'GNDVI', 'GVMI', 'MBI', 'MNLI', 'MSI', 'NDMI', 'NDVI', 'NGRDI', 'OSAVI', 'SAVI']\n",
    "\n",
    "overwrite = True\n",
    "\n",
    "outdir.mkdir(parents=True, exist_ok=True)"
   ]
  },
  {
   "cell_type": "code",
   "execution_count": null,
   "id": "00c3e8ee-28d2-4327-90b8-7295485b50c6",
   "metadata": {
    "tags": []
   },
   "outputs": [],
   "source": [
    "# for source, config in source_config.items():\n",
    "# # source = \"s2\"\n",
    "# # config = source_config[source]\n",
    "#     print(f\"Downloading {indices} from source {source}\")\n",
    "\n",
    "#     fc = config[\"source\"](\n",
    "#         comparison_sites,\n",
    "#         start_date,\n",
    "#         end_date,\n",
    "#         cloud_prob_thresh=cloud_prob_thresh\n",
    "#     ).spectralIndices(indices)\n",
    "\n",
    "#     # Apply mask to each image in the collection\n",
    "#     fc_masked = fc.map(lambda img: img.updateMask(mask))\n",
    "\n",
    "#     # Aggregate data by parcel\n",
    "#     ts = fc_masked.getTimeSeriesByRegions(\n",
    "#         reducer=[\n",
    "#             ee.Reducer.mean(),\n",
    "#             ee.Reducer.stdDev(),\n",
    "#             ee.Reducer.min(),\n",
    "#             ee.Reducer.max(),\n",
    "#             ee.Reducer.count(),\n",
    "#         ],\n",
    "#         collection=comparison_sites,\n",
    "#         bands=indices,\n",
    "#         scale=config['scale'],\n",
    "#         dateColumn=\"date\",\n",
    "#         naValue=None,\n",
    "#     )\n",
    "\n",
    "#     task = ee.batch.Export.table.toDrive(\n",
    "#         collection=fc,\n",
    "#         description=source,\n",
    "#         folder='data',\n",
    "#         fileNamePrefix=source,\n",
    "#         fileFormat=\"CSV\",\n",
    "#     )\n",
    "\n",
    "#     task.start()"
   ]
  },
  {
   "cell_type": "code",
   "execution_count": null,
   "id": "c1a2918f-d08a-4e0e-a363-f2b6ad45a368",
   "metadata": {
    "tags": []
   },
   "outputs": [],
   "source": [
    "# n_properties = 4\n",
    "# chunk_size = floor(4999 / n_properties)\n",
    "# chunk_size\n",
    "\n",
    "# n_chunks = ceil(4999 / chunk_size)\n",
    "# n_chunks"
   ]
  },
  {
   "cell_type": "code",
   "execution_count": null,
   "id": "ef86c151-88f9-4d62-b659-b3d4158a0d5f",
   "metadata": {
    "tags": []
   },
   "outputs": [],
   "source": [
    "for source, config in source_config.items():\n",
    "    if source != 's2': continue\n",
    "    print(f\"Downloading {indices} from source {source}\")\n",
    "    \n",
    "    # Build lists of start and end dates so we extract yearly data - this is to overcome the limitation of 5000 elements with GEE\n",
    "    start_date = config['start_date']\n",
    "    end_date = config['end_date']\n",
    "    start_dates = [start_date] + [dt.datetime(year, 1, 1) for year in range(start_date.year + 1, end_date.year + 1)]\n",
    "    end_dates = [dt.datetime(year, 12, 31) for year in range(start_date.year, end_date.year)] + [end_date]\n",
    "    \n",
    "    for i, (start_date, end_date) in enumerate(tqdm(zip(start_dates, end_dates), total=len(start_dates))):\n",
    "        \n",
    "        filepath =  outdir / f\"{source}_{start_date.year}.parquet\"\n",
    "\n",
    "        if filepath.exists():\n",
    "            if not overwrite:\n",
    "                continue\n",
    "\n",
    "        fc = config[\"source\"](\n",
    "            comparison_sites,\n",
    "            start_date,\n",
    "            end_date,\n",
    "            cloud_prob_thresh\n",
    "        ).spectralIndices(indices)\n",
    "\n",
    "        # Apply mask to each image in the collection\n",
    "        fc_masked = fc.map(lambda img: img.updateMask(mask))\n",
    "\n",
    "        # Aggregate data by parcel\n",
    "        ts = fc_masked.getTimeSeriesByRegions(\n",
    "            reducer=[\n",
    "                ee.Reducer.mean(),\n",
    "                ee.Reducer.stdDev(),\n",
    "                ee.Reducer.min(),\n",
    "                ee.Reducer.max(),\n",
    "                ee.Reducer.count(),\n",
    "            ],\n",
    "            collection=comparison_sites,\n",
    "            bands=indices,\n",
    "            scale=config['scale'],\n",
    "            dateColumn=\"date\",\n",
    "            naValue=None,\n",
    "        )\n",
    "        \n",
    "        size = ts.size().getInfo()\n",
    "        n_properties = len(ts.first().propertyNames().getInfo())\n",
    "        \n",
    "        if size * n_properties > 4999:\n",
    "            chunk_size = floor(4999 / n_properties)\n",
    "            n_chunks = ceil(4999 / chunk_size)\n",
    "\n",
    "            df_list = []\n",
    "            for j in range(n_chunks):\n",
    "                offset = chunk_size * j\n",
    "                try:\n",
    "                    df = geemap.ee_to_pandas(ee.FeatureCollection(ts.toList(count=chunk_size, offset=offset)))\n",
    "                    df_list.append(df)\n",
    "                except:\n",
    "                    pass\n",
    "                df = pd.concat(df_list)\n",
    "            df.to_parquet(filepath, index=None)\n",
    "        else:\n",
    "            df = geemap.ee_to_pandas(ts)\n",
    "            df.to_parquet(filepath, index=None)"
   ]
  },
  {
   "cell_type": "markdown",
   "id": "586a503c-99ce-480f-b386-9c8506fc405c",
   "metadata": {},
   "source": [
    "### Read local data"
   ]
  },
  {
   "cell_type": "code",
   "execution_count": null,
   "id": "677b9750-1c20-492a-b83a-4dfc2788e507",
   "metadata": {
    "tags": []
   },
   "outputs": [],
   "source": [
    "# !ls -lhtr /Users/chill/software/bison-lab/data/local/comparison_sites_cloud_20"
   ]
  },
  {
   "cell_type": "code",
   "execution_count": null,
   "id": "9ad13a0f-1e7a-4327-9c05-33d1cb75336e",
   "metadata": {
    "tags": []
   },
   "outputs": [],
   "source": [
    "df_list = []\n",
    "\n",
    "for source, config in source_config.items():\n",
    "\n",
    "    # generate dates for source\n",
    "    start_date = config['start_date']\n",
    "    end_date = config['end_date']\n",
    "    start_dates = [start_date] + [dt.datetime(year, 1, 1) for year in range(start_date.year + 1, end_date.year + 1)]    \n",
    "\n",
    "    for date in start_dates:\n",
    "        filepath = outdir / f\"{source}_{date.year}.parquet\"\n",
    "        if filepath.exists():\n",
    "            df = pd.read_parquet(filepath)\n",
    "            df[\"source\"] = source\n",
    "            df_list.append(df)\n",
    "df = pd.concat(df_list)\n",
    "df.date = pd.to_datetime(df.date)\n",
    "\n",
    "# Drop NaN\n",
    "df = df.dropna(subset=indices)\n",
    "\n",
    "# Drop erroneous values and those that are likely too high or low\n",
    "lower_limit = -0.05\n",
    "upper_limit = 0.95\n",
    "\n",
    "# for index in ['EVI', 'NDVI']:\n",
    "for index in ['GLI', 'BI', 'SAVI', 'GVMI', 'NDVI', 'EMBI', 'OSAVI', 'NGRDI', 'MBI', 'EVI', 'MNLI', 'GNDVI']:\n",
    "    include = (df[index] >= lower_limit) & (df[index] <= upper_limit)\n",
    "    df.loc[~include, index] = np.nan\n",
    "\n",
    "# melt to long form table\n",
    "df_long = df.melt(\n",
    "    id_vars=[\"date\", \"source\", \"name\", \"reducer\"],\n",
    "    value_vars=indices,\n",
    ")"
   ]
  },
  {
   "cell_type": "markdown",
   "id": "d5ad61fb-5e34-412c-919f-3a82b1f572d9",
   "metadata": {},
   "source": [
    "### Plot time series of parcel means"
   ]
  },
  {
   "cell_type": "code",
   "execution_count": null,
   "id": "a2e6f882-84fb-4cf8-8b51-a63bb7652866",
   "metadata": {
    "tags": []
   },
   "outputs": [],
   "source": [
    "# df_plot = df_long.loc[\n",
    "#     df_long[\"reducer\"].eq('mean')\n",
    "#     & df_long[\"name\"].eq('a_cattle')\n",
    "#     & df_long[\"variable\"].isin(['GLI', 'BI', 'SAVI', 'GVMI', 'NDVI', 'EMBI', 'OSAVI', 'NGRDI', 'MBI', 'EVI', 'MNLI', 'GNDVI'])\n",
    "# ]"
   ]
  },
  {
   "cell_type": "code",
   "execution_count": null,
   "id": "bac5f51b-d1f4-4206-baa5-85bd3d0996a5",
   "metadata": {
    "tags": []
   },
   "outputs": [],
   "source": [
    "# g = sns.relplot(\n",
    "#     data=df_plot,\n",
    "#     x=\"date\",\n",
    "#     y=\"value\",\n",
    "#     hue=\"name\",\n",
    "#     style=\"source\",\n",
    "#     col=\"variable\",\n",
    "#     col_wrap=1,\n",
    "#     kind=\"scatter\",\n",
    "#     # ax=ax,\n",
    "#     height=4,\n",
    "#     aspect=4,\n",
    "#     facet_kws=dict(sharey=False),\n",
    "# )\n",
    "\n",
    "# for ax in g.axes:\n",
    "#     ax.xaxis.set_major_locator(mdates.YearLocator())\n",
    "#     ax.xaxis.set_minor_locator(mdates.MonthLocator())"
   ]
  },
  {
   "cell_type": "markdown",
   "id": "bda67672-d239-4645-95d8-39a5701af584",
   "metadata": {},
   "source": [
    "### Plot single parcel with errorbars"
   ]
  },
  {
   "cell_type": "code",
   "execution_count": null,
   "id": "7ca202d4-371e-4045-b26d-f82c3d11e795",
   "metadata": {},
   "outputs": [],
   "source": [
    "ids = pd.IndexSlice"
   ]
  },
  {
   "cell_type": "code",
   "execution_count": null,
   "id": "a6f26d79-31e1-49ca-ac32-397e67caa6d0",
   "metadata": {
    "tags": []
   },
   "outputs": [],
   "source": [
    "index = \"NDVI\"\n",
    "# names = [\"a_cattle\", \"a_bison_7\", \"a_bison_7_1\", \"a_bison_7_2\"]\n",
    "names = [\"a_cattle\", \"bison_7_green\", \"bison_7_reddish\"]\n",
    "\n",
    "df_index = df.copy().pivot(index=[\"date\", \"name\"], columns=\"reducer\", values=index)\n",
    "\n",
    "n = len(names)\n",
    "fig, ax = plt.subplots(nrows=n, figsize=(15, 4*n))\n",
    "ax = ax.flatten()\n",
    "\n",
    "for i, name in enumerate(names):\n",
    "    a = df_index.loc[ids[:, name], :].reset_index(level=\"name\", drop=True).sort_values(\"date\")\n",
    "    ax[i].errorbar(\n",
    "        x=a.index,\n",
    "        y=a[\"mean\"],\n",
    "        yerr=a[\"stdDev\"],\n",
    "        fmt=\".\",\n",
    "        linewidth=0,\n",
    "        elinewidth=0.5,\n",
    "        color=\"k\",\n",
    "        capthick=0.5,\n",
    "        capsize=1,\n",
    "    )\n",
    "    ax[i].set_title(f\"{name} : {index}\")\n",
    "\n",
    "    ax[i].xaxis.set_major_locator(mdates.YearLocator())\n",
    "    ax[i].xaxis.set_minor_locator(mdates.MonthLocator())\n",
    "    ax[i].set_ylabel(f\"{index}\")\n",
    "    ax[i].set_ylim((-0.4, 0.65))\n",
    "fig.tight_layout()\n",
    "# fig.savefig(local_data / f\"{name}_ndvi.png\", dpi=240)"
   ]
  },
  {
   "cell_type": "code",
   "execution_count": null,
   "id": "46c9b283-6a38-43ef-ade6-abac017e52c5",
   "metadata": {},
   "outputs": [],
   "source": []
  },
  {
   "cell_type": "code",
   "execution_count": null,
   "id": "48dd98d2-68ef-407e-94ec-987a9f82d608",
   "metadata": {
    "tags": []
   },
   "outputs": [],
   "source": [
    "index = \"EVI\"\n",
    "name = \"c_bison_7\"\n",
    "\n",
    "df_index = df.copy().pivot(index=[\"date\", \"name\"], columns=\"reducer\", values=index)\n",
    "\n",
    "fig, ax = plt.subplots(figsize=(15, 4))\n",
    "a = df_index.loc[ids[:, name], :].reset_index(level=\"name\", drop=True).sort_values(\"date\")\n",
    "ax.errorbar(\n",
    "    x=a.index,\n",
    "    y=a[\"mean\"],\n",
    "    yerr=a[\"stdDev\"],\n",
    "    fmt=\".\",\n",
    "    linewidth=0,\n",
    "    elinewidth=0.5,\n",
    "    color=\"k\",\n",
    "    capthick=0.5,\n",
    "    capsize=1,\n",
    ")\n",
    "ax.set_title(f\"{name} : {index}\")\n",
    "ax.xaxis.set_major_locator(mdates.YearLocator())\n",
    "ax.xaxis.set_minor_locator(mdates.MonthLocator())\n",
    "ax.set_ylabel(f\"{index}\")\n",
    "ax.set_ylim((-0.4, 0.65))\n",
    "fig.tight_layout()\n",
    "# fig.savefig(local_data / f\"{name}_ndvi.png\", dpi=240)"
   ]
  },
  {
   "cell_type": "code",
   "execution_count": null,
   "id": "1c0c0e0b-4e7e-4ed9-b49e-f4152a022e9b",
   "metadata": {
    "tags": []
   },
   "outputs": [],
   "source": [
    "a = a[['mean']]\n",
    "\n",
    "a['doy'] = a.index.day_of_year\n",
    "a['year'] = a.index.year\n",
    "a['month'] = a.index.month\n",
    "\n",
    "b = a.groupby(['year', 'month']).mean()[['mean']].reset_index()"
   ]
  },
  {
   "cell_type": "code",
   "execution_count": null,
   "id": "2fc48cb0-dff1-4677-903f-32873a381529",
   "metadata": {
    "tags": []
   },
   "outputs": [],
   "source": [
    "df_plot = pd.pivot_table(b, index=b.month, columns=b.year, values='mean')\n",
    "fig, ax = plt.subplots(figsize=(12,6));\n",
    "df_plot[[2000, 2001, 2002, 2003, 2004, 2005, 2006, 2008, 2009, 2010, 2011, 2012, 2013, 2014]].plot(ax=ax, marker='.', ls='-', alpha=1, color='b', legend=False)\n",
    "df_plot[[2015, 2016, 2017, 2018, 2019, 2020, 2021, 2022, 2023]].plot(ax=ax, marker='.', ls='-', alpha=1, color='r', legend=False);\n",
    "fig.legend(loc='upper right', bbox_to_anchor=(1., 1),);"
   ]
  },
  {
   "cell_type": "code",
   "execution_count": null,
   "id": "2303b342-59bf-46c7-a474-67cb5d60708d",
   "metadata": {
    "tags": []
   },
   "outputs": [],
   "source": [
    "df_plot = pd.pivot_table(b, index=b.month, columns=b.year, values='mean')\n",
    "df_plot.plot(marker='.', ls='-', alpha=1, cmap='viridis', figsize=(12, 8)).legend(loc='upper right', bbox_to_anchor=(1.12, 1),);"
   ]
  },
  {
   "cell_type": "code",
   "execution_count": null,
   "id": "1dbacee1-ea98-4796-ae9b-60fe7e467cac",
   "metadata": {
    "tags": []
   },
   "outputs": [],
   "source": [
    "df_plot = pd.pivot_table(evi, index=evi.doy, columns=evi.year, values='mean')\n",
    "df_plot.plot(marker='.', ls='none', alpha=1, cmap='viridis', figsize=(12, 8)).legend(loc='upper right', bbox_to_anchor=(1.12, 1),);"
   ]
  },
  {
   "cell_type": "code",
   "execution_count": null,
   "id": "efbc22bc-8178-419d-981e-f54c381c770d",
   "metadata": {},
   "outputs": [],
   "source": []
  },
  {
   "cell_type": "code",
   "execution_count": null,
   "id": "de482244-50d7-4484-89f4-559e7fe490b1",
   "metadata": {
    "tags": []
   },
   "outputs": [],
   "source": [
    "# plot_names = ['a_cattle', 'a_bison_7', 'a_bison_7_1', 'a_bison_7_2']\n",
    "plot_names = ['a_cattle', \"bison_7_green\", \"bison_7_reddish\"] #'a_bison_7_1', 'a_bison_7_2']\n",
    "# plot_names = ['b_bison_7', 'b_cattle']\n",
    "# plot_names = ['c_bison_7', 'c_bison_1']\n",
    "# plot_names = [\"bison_7_green\", \"bison_7_reddish\"]"
   ]
  },
  {
   "cell_type": "code",
   "execution_count": null,
   "id": "a3eb9f87-c01e-4225-8f85-22706a8736fa",
   "metadata": {
    "tags": []
   },
   "outputs": [],
   "source": [
    "df_plot = df_long.loc[\n",
    "    df_long[\"reducer\"].eq('mean')\n",
    "    & (df_long[\"date\"].dt.year >= 2010)\n",
    "    & df_long[\"name\"].isin(plot_names)\n",
    "    # & df_long[\"name\"].eq('a_bison_7')\n",
    "    # & df_long[\"variable\"].eq('NDVI')\n",
    "    & df_long[\"variable\"].isin([\"NDVI\", \"EVI\", \"BI\", \"MBI\", \"SAVI\"])\n",
    "]\n",
    "\n",
    "g = sns.relplot(\n",
    "    data=df_plot,\n",
    "    x=\"date\",\n",
    "    y=\"value\",\n",
    "    hue=\"name\",\n",
    "    style=\"source\",\n",
    "    col=\"variable\",\n",
    "    col_wrap=1,\n",
    "    kind=\"scatter\",\n",
    "    # ax=ax,\n",
    "    height=4,\n",
    "    aspect=4,\n",
    "    facet_kws=dict(sharey=False),\n",
    ")\n",
    "\n",
    "for ax in g.axes:\n",
    "    ax.xaxis.set_major_locator(mdates.YearLocator())\n",
    "    ax.xaxis.set_minor_locator(mdates.MonthLocator())\n",
    "    ax.grid()\n",
    "# g.savefig(LOCAL_DATA_DIR / f\"a_indices_grid.png\", dpi=240)"
   ]
  },
  {
   "cell_type": "code",
   "execution_count": null,
   "id": "e4733de8-a70e-4396-8ce3-57c9263b7093",
   "metadata": {
    "tags": []
   },
   "outputs": [],
   "source": [
    "from bokeh.plotting import figure, show, output_notebook\n",
    "from bokeh.transform import factor_cmap, factor_mark\n",
    "output_notebook()"
   ]
  },
  {
   "cell_type": "code",
   "execution_count": null,
   "id": "c0799567-a4fb-40e7-b715-970693f33fd3",
   "metadata": {
    "tags": []
   },
   "outputs": [],
   "source": [
    "markers = ['hex', 'circle_x', 'triangle']\n",
    "source_names = ['l7', 'l8', 'l9', 's2']\n",
    "\n",
    "p = figure(title=\"NDVI\", background_fill_color=\"#fafafa\", x_axis_type='datetime' )\n",
    "p.xaxis.axis_label = 'date'\n",
    "p.yaxis.axis_label = 'NDVI'\n",
    "p.height = 600\n",
    "p.width = 1500\n",
    "\n",
    "p.scatter(\"date\", \"value\", source=df_plot,\n",
    "          legend_group=\"name\", fill_alpha=0.5, size=8,\n",
    "          marker=factor_mark('source', markers, source_names),\n",
    "          color=factor_cmap('name', 'Category10_3', plot_names))\n",
    "\n",
    "p.legend.location = \"top_left\"\n",
    "show(p)"
   ]
  },
  {
   "cell_type": "code",
   "execution_count": null,
   "id": "8d7dbbe7-e0c1-49ba-9b14-54e2013dde43",
   "metadata": {
    "tags": []
   },
   "outputs": [],
   "source": [
    "ndvi = df_plot.pivot(columns=\"name\", index=\"date\", values=\"value\")\n",
    "# ndvi_monthly = ndvi.resample('1M').mean()"
   ]
  },
  {
   "cell_type": "code",
   "execution_count": null,
   "id": "d1539902-332a-4df4-b85f-759ef4fa45c1",
   "metadata": {
    "tags": []
   },
   "outputs": [],
   "source": [
    "ndvi_mean_monthly = ndvi.groupby(ndvi.index.month).mean()\n",
    "# ndvi_mean_monthly = ndvi.groupby(ndvi.index.month).agg(['mean', 'std'])\n",
    "ndvi_std_monthly = ndvi.groupby(ndvi.index.month).std()"
   ]
  },
  {
   "cell_type": "code",
   "execution_count": null,
   "id": "86672ce7-cd62-4a90-9b9e-f9138477aa28",
   "metadata": {
    "tags": []
   },
   "outputs": [],
   "source": [
    "fig, ax = plt.subplots(figsize=(15,6));\n",
    "ndvi_mean_monthly.plot(ax=ax, yerr=ndvi_std_monthly);"
   ]
  },
  {
   "cell_type": "code",
   "execution_count": null,
   "id": "9ff58d24-f08b-4be3-bafd-f29a0e0add15",
   "metadata": {
    "tags": []
   },
   "outputs": [],
   "source": [
    "ndvi_mean"
   ]
  },
  {
   "cell_type": "code",
   "execution_count": null,
   "id": "96f872fa-e49f-45a1-9e56-a75603c20fd0",
   "metadata": {
    "tags": []
   },
   "outputs": [],
   "source": [
    "ndvi.plot(figsize=(15,6));"
   ]
  },
  {
   "cell_type": "code",
   "execution_count": null,
   "id": "a7db60cd-9931-4e2b-b833-9f479c78f23b",
   "metadata": {
    "tags": []
   },
   "outputs": [],
   "source": [
    "ndvi_monthly.plot(figsize=(15,6));"
   ]
  },
  {
   "cell_type": "code",
   "execution_count": null,
   "id": "d9b6b6cc-2aa8-44df-9b08-90d1dfe3c807",
   "metadata": {
    "tags": []
   },
   "outputs": [],
   "source": [
    "(ndvi_monthly.a_bison_7 - ndvi_monthly.a_cattle).mean()\n",
    "# (ndvi_monthly.a_bison_7 - ndvi_monthly.b_cattle).mean()"
   ]
  },
  {
   "cell_type": "code",
   "execution_count": null,
   "id": "64bd66de-c144-44a0-b8db-0db824875980",
   "metadata": {
    "tags": []
   },
   "outputs": [],
   "source": [
    "(ndvi_monthly.b_bison_7 - ndvi_monthly.b_cattle).describe()"
   ]
  },
  {
   "cell_type": "code",
   "execution_count": null,
   "id": "eb9e5de5-da12-49d8-9c14-a80368e2ee9a",
   "metadata": {
    "tags": []
   },
   "outputs": [],
   "source": [
    "(ndvi_monthly.a_bison_7 - ndvi_monthly.a_cattle)"
   ]
  },
  {
   "cell_type": "code",
   "execution_count": null,
   "id": "64f3a428-983f-430c-8620-b8bddc7bd866",
   "metadata": {
    "tags": []
   },
   "outputs": [],
   "source": [
    "fig, ax = plt.subplots(figsize=(15, 4));\n",
    "((ndvi_monthly.a_bison_7 - ndvi_monthly.a_cattle) - (0.04818762778675109)).plot(ax=ax)\n",
    "ax.axhline(y=0, color='k');"
   ]
  },
  {
   "cell_type": "code",
   "execution_count": null,
   "id": "a4174251-455c-462f-a515-d4cc0319f4bb",
   "metadata": {
    "tags": []
   },
   "outputs": [],
   "source": [
    "(ndvi_monthly.a_bison_7 - ndvi_monthly.a_cattle).plot(figsize=(15, 4));"
   ]
  },
  {
   "cell_type": "markdown",
   "id": "70286f36-db99-4b17-b8a7-1bbb21e8fef0",
   "metadata": {
    "tags": []
   },
   "source": [
    "# Bison 7 year"
   ]
  },
  {
   "cell_type": "code",
   "execution_count": null,
   "id": "74a08467-0810-4658-b315-5babe584cbb1",
   "metadata": {
    "tags": []
   },
   "outputs": [],
   "source": [
    "_a = kml_to_geodataframe(LOCAL_DATA_DIR / \"Bison7_green_side.kml\")\n",
    "\n",
    "_b = kml_to_geodataframe(LOCAL_DATA_DIR / \"Bison7-reddish_side.kml\")\n",
    "\n",
    "_b.loc[0, 'Name'] = \"Bison7_reddish_side\"\n",
    "\n",
    "gdf = gpd.GeoDataFrame(pd.concat([_a, _b], ignore_index=True), crs=_a.crs)\n",
    "\n",
    "bison_7_sites = geemap.geopandas_to_ee(gdf)"
   ]
  },
  {
   "cell_type": "code",
   "execution_count": null,
   "id": "a23384a3-c5b7-4dc4-ad8b-472f10c8e8e6",
   "metadata": {
    "tags": []
   },
   "outputs": [],
   "source": [
    "bison_7_sites"
   ]
  },
  {
   "cell_type": "code",
   "execution_count": null,
   "id": "7e164141-3e17-476a-a1dd-afc615a39641",
   "metadata": {
    "tags": []
   },
   "outputs": [],
   "source": [
    "# m = geemap.Map(height=800)\n",
    "# m.addLayer(bison_7_sites, {}, \"\")\n",
    "# m.centerObject(bison_7_sites, 14)\n",
    "# m"
   ]
  },
  {
   "cell_type": "code",
   "execution_count": null,
   "id": "ad4817d6-bb24-41cc-948e-fb9a674c056e",
   "metadata": {
    "tags": []
   },
   "outputs": [],
   "source": [
    "outdir = LOCAL_DATA_DIR / \"bison_7_cloud_20\"\n",
    "cloud_prob_thresh = 20\n",
    "\n",
    "# Define remote sensing data source parameters\n",
    "source_config = {\n",
    "    \"l7\": {\"source\": landsat_7_sr, \"start_date\": dt.datetime(2000, 1, 1), \"end_date\": dt.datetime(2023, 5, 31), \"scale\": 30},\n",
    "    \"l8\": {\"source\": landsat_8_sr, \"start_date\": dt.datetime(2013, 1, 1), \"end_date\": dt.datetime(2023, 5, 31), \"scale\": 30},\n",
    "    \"l9\": {\"source\": landsat_9_sr, \"start_date\": dt.datetime(2021, 10, 31), \"end_date\": dt.datetime(2023, 5, 31), \"scale\": 30},\n",
    "    \"s2\": {\"source\": s2_sr_harmonized, \"start_date\": dt.datetime(2018, 1, 1), \"end_date\": dt.datetime(2023, 5, 31), \"scale\": 10},\n",
    "}\n",
    "\n",
    "# Mask for slope\n",
    "mask = slope.lt(10)\n",
    "\n",
    "# Set indices to calculate\n",
    "indices = ['BI', 'EMBI', 'EVI', 'GLI', 'GNDVI', 'GVMI', 'MBI', 'MNLI', 'MSI', 'NDMI', 'NDVI', 'NGRDI', 'OSAVI', 'SAVI']\n",
    "\n",
    "overwrite = True\n",
    "\n",
    "outdir.mkdir(parents=True, exist_ok=True)"
   ]
  },
  {
   "cell_type": "code",
   "execution_count": null,
   "id": "0864916c-6614-40f4-90c6-d2e22705ac6a",
   "metadata": {
    "tags": []
   },
   "outputs": [],
   "source": [
    "for source, config in source_config.items():\n",
    "    print(f\"Downloading {indices} from source {source}\")\n",
    "    \n",
    "    # Build lists of start and end dates so we extract yearly data - this is to overcome the limitation of 5000 elements with GEE\n",
    "    start_date = config['start_date']\n",
    "    end_date = config['end_date']\n",
    "    start_dates = [start_date] + [dt.datetime(year, 1, 1) for year in range(start_date.year + 1, end_date.year + 1)]\n",
    "    end_dates = [dt.datetime(year, 12, 31) for year in range(start_date.year, end_date.year)] + [end_date]\n",
    "    \n",
    "    for i, (start_date, end_date) in enumerate(tqdm(zip(start_dates, end_dates), total=len(start_dates))):\n",
    "        \n",
    "        filepath =  outdir / f\"{source}_{start_date.year}.parquet\"\n",
    "\n",
    "        if filepath.exists():\n",
    "            if not overwrite:\n",
    "                continue\n",
    "\n",
    "        fc = config[\"source\"](\n",
    "            bison_7_sites,\n",
    "            start_date,\n",
    "            end_date,\n",
    "            cloud_prob_thresh=cloud_prob_thresh\n",
    "        ).spectralIndices(indices)\n",
    "\n",
    "        # Apply mask to each image in the collection\n",
    "        fc_masked = fc.map(lambda img: img.updateMask(mask))\n",
    "\n",
    "        # Aggregate data by parcel\n",
    "        ts = fc_masked.getTimeSeriesByRegions(\n",
    "            reducer=[\n",
    "                ee.Reducer.mean(),\n",
    "                ee.Reducer.stdDev(),\n",
    "                ee.Reducer.min(),\n",
    "                ee.Reducer.max(),\n",
    "                ee.Reducer.count(),\n",
    "            ],\n",
    "            collection=bison_7_sites,\n",
    "            bands=indices,\n",
    "            scale=config['scale'],\n",
    "            dateColumn=\"date\",\n",
    "            naValue=None,\n",
    "        )\n",
    "        \n",
    "#         size = ts.size().getInfo()\n",
    "#         n_properties = len(ts.first().propertyNames().getInfo())\n",
    "        \n",
    "#         if size * n_properties > 4999:\n",
    "#             chunk_size = floor(4999 / n_properties)\n",
    "#             n_chunks = ceil(4999 / chunk_size)\n",
    "            \n",
    "#             df_list = []\n",
    "#             for j in range(n_chunks):\n",
    "#                 offset = chunk_size * j\n",
    "#                 df = geemap.ee_to_pandas(ee.FeatureCollection(ts.toList(count=chunk_size, offset=offset)))\n",
    "#                 df_list.append(df)\n",
    "#             df = pd.concat(df_list)\n",
    "#             df.to_parquet(filepath, index=None)\n",
    "#         else:\n",
    "        df = geemap.ee_to_pandas(ts)\n",
    "        df.to_parquet(filepath, index=None)"
   ]
  },
  {
   "cell_type": "code",
   "execution_count": null,
   "id": "9593a428-1c69-4927-a153-b61ea55b9ad9",
   "metadata": {
    "tags": []
   },
   "outputs": [],
   "source": [
    "df_list = []\n",
    "\n",
    "for source, config in source_config.items():\n",
    "\n",
    "    # generate dates for source\n",
    "    start_date = config['start_date']\n",
    "    end_date = config['end_date']\n",
    "    start_dates = [start_date] + [dt.datetime(year, 1, 1) for year in range(start_date.year + 1, end_date.year + 1)]    \n",
    "\n",
    "    for date in start_dates:\n",
    "        filepath = outdir / f\"{source}_{date.year}.parquet\"\n",
    "        if filepath.exists():\n",
    "            df = pd.read_parquet(filepath)\n",
    "            df[\"source\"] = source\n",
    "            df_list.append(df)\n",
    "df = pd.concat(df_list)\n",
    "df.date = pd.to_datetime(df.date)"
   ]
  },
  {
   "cell_type": "code",
   "execution_count": null,
   "id": "f243218c-4ec9-4d63-8525-5bdced1fb241",
   "metadata": {
    "tags": []
   },
   "outputs": [],
   "source": [
    "# Drop NaN\n",
    "df = df.dropna(subset=indices)"
   ]
  },
  {
   "cell_type": "code",
   "execution_count": null,
   "id": "e939933f-c78a-4459-80e5-b4950dd7f6c0",
   "metadata": {
    "tags": []
   },
   "outputs": [],
   "source": [
    "# Drop erroneous values and those that are likely too high or low\n",
    "lower_limit = -0.2\n",
    "upper_limit = 0.95\n",
    "\n",
    "# for index in ['EVI', 'NDVI']:\n",
    "for index in indices:\n",
    "# ['GLI', 'BI', 'SAVI', 'GVMI', 'NDVI', 'EMBI', 'OSAVI', 'NGRDI', 'MBI', 'EVI', 'MNLI', 'GNDVI']:\n",
    "    include = (df[index] >= lower_limit) & (df[index] <= upper_limit)\n",
    "    df.loc[~include, index] = np.nan\n",
    "\n",
    "# melt to long form table\n",
    "df_long = df.melt(\n",
    "    id_vars=[\"date\", \"source\", \"Name\", \"reducer\"],\n",
    "    value_vars=indices,\n",
    ")"
   ]
  },
  {
   "cell_type": "code",
   "execution_count": null,
   "id": "e815325b-a24a-4d4d-a188-2a65d243820e",
   "metadata": {
    "tags": []
   },
   "outputs": [],
   "source": [
    "df_long"
   ]
  },
  {
   "cell_type": "code",
   "execution_count": null,
   "id": "d90ebfe8-97c0-4ae9-92ba-80c4e3af6c9a",
   "metadata": {},
   "outputs": [],
   "source": []
  },
  {
   "cell_type": "code",
   "execution_count": null,
   "id": "ac5bbb48-bd9e-43e5-ba56-9ba6955c5e04",
   "metadata": {},
   "outputs": [],
   "source": []
  },
  {
   "cell_type": "code",
   "execution_count": null,
   "id": "b1e1857a-5528-49b5-8788-bca583ce8686",
   "metadata": {},
   "outputs": [],
   "source": []
  },
  {
   "cell_type": "code",
   "execution_count": null,
   "id": "1e727636-2e9e-4846-855f-731728fa1bbd",
   "metadata": {
    "tags": []
   },
   "outputs": [],
   "source": [
    "# df_plot = df.loc[\n",
    "#     (df[\"reducer\"] == \"mean\")\n",
    "#     # & (df[\"variable\"] == \"NDVI\")\n",
    "#     & df[\"name\"].eq(\"a_bison_7\")\n",
    "# ][[\"date\", \"name\", \"NDVI\", \"source\"]]"
   ]
  },
  {
   "cell_type": "code",
   "execution_count": null,
   "id": "7bd879aa-7ef7-4a49-9af0-2992aea5420b",
   "metadata": {
    "tags": []
   },
   "outputs": [],
   "source": [
    "# ndvi = df_plot.groupby('date')['NDVI'].mean()"
   ]
  },
  {
   "cell_type": "code",
   "execution_count": null,
   "id": "49d60f91-63ab-4bc5-aa0c-a85548e2af75",
   "metadata": {
    "tags": []
   },
   "outputs": [],
   "source": [
    "# fig, ax = plt.subplots(figsize=(12,6))\n",
    "# sns.scatterplot(x=\"date\", y=\"NDVI\", data=df_plot, hue=\"source\", ax=ax);"
   ]
  },
  {
   "cell_type": "code",
   "execution_count": null,
   "id": "5f3bf501-5ee8-43ae-a424-1e62f1c89f67",
   "metadata": {
    "tags": []
   },
   "outputs": [],
   "source": [
    "# ndvi = ndvi.pivot(columns=\"name\", index=\"date\", values=\"value\")\n",
    "# ndvi_monthly = ndvi.resample('1M', label='right', closed='right').mean()"
   ]
  },
  {
   "cell_type": "code",
   "execution_count": null,
   "id": "f9076d70-8f92-4856-8327-17634db3703b",
   "metadata": {
    "tags": []
   },
   "outputs": [],
   "source": [
    "# ndvi[['a_bison_1', 'a_bison_7', 'a_cattle']].plot(figsize=(15,6));"
   ]
  },
  {
   "cell_type": "code",
   "execution_count": null,
   "id": "aabfbe66-e88e-46b4-a4ad-6ce4325f8124",
   "metadata": {
    "tags": []
   },
   "outputs": [],
   "source": [
    "# ndvi.iloc[(ndvi.index.year == 2023) & (ndvi.index.month ==5)].mean()"
   ]
  },
  {
   "cell_type": "code",
   "execution_count": null,
   "id": "e5179ea5-4a9e-47f2-bfa5-09b12b11db25",
   "metadata": {
    "tags": []
   },
   "outputs": [],
   "source": [
    "# ndvi_monthly_plot = ndvi_monthly.melt(ignore_index=False).reset_index()\n",
    "# ndvi_monthly_plot['doy'] = ndvi_monthly_plot.date.dt.day_of_year\n",
    "# ndvi_monthly_plot['year'] = ndvi_monthly_plot.date.dt.year"
   ]
  },
  {
   "cell_type": "code",
   "execution_count": null,
   "id": "fc0354e6-b86a-4e15-9e2f-8cbaba619b2a",
   "metadata": {
    "tags": []
   },
   "outputs": [],
   "source": [
    "# ndvi_plot = ndvi.melt(ignore_index=False).reset_index()\n",
    "# ndvi_plot['doy'] = ndvi_plot.date.dt.day_of_year\n",
    "# ndvi_plot['year'] = ndvi_plot.date.dt.year"
   ]
  },
  {
   "cell_type": "code",
   "execution_count": null,
   "id": "e9690975-5a7a-42fd-a7b4-0861f4d2d12c",
   "metadata": {
    "tags": []
   },
   "outputs": [],
   "source": [
    "# fig, ax = plt.subplots(figsize=(12, 8));\n",
    "# # g = sns.lineplot(data=ndvi_monthly_plot, x=\"doy\", y=\"value\", hue=\"year\", style=\"name\", estimator=None, lw=1, palette='viridis', ax=ax)\n",
    "# g = sns.lineplot(data=ndvi_plot, x=\"doy\", y=\"value\", hue=\"year\", style=\"name\", estimator=None, lw=1, palette='viridis', ax=ax)"
   ]
  },
  {
   "cell_type": "code",
   "execution_count": null,
   "id": "08d162ed-b048-46ae-b61e-a13f9bc5c3b2",
   "metadata": {},
   "outputs": [],
   "source": []
  },
  {
   "cell_type": "code",
   "execution_count": null,
   "id": "803df38e-5d10-4287-b32b-4d5d3b7faa73",
   "metadata": {
    "tags": []
   },
   "outputs": [],
   "source": [
    "# from scipy.signal import savgol_filter\n",
    "\n",
    "# idx = (df_long.reducer == \"mean\") & (df_long.variable == \"NDVI\")\n",
    "# df_long.loc[idx, 'value_smoothed'] = savgol_filter(df_long.loc[idx, 'value'], window_length=16, polyorder=3, deriv=0, delta=1.0, axis=-1, mode='interp', cval=None)\n",
    "\n",
    "# idx = (df_long.reducer == \"mean\") & (df_long.variable == \"EVI\")\n",
    "# df_long.loc[idx, 'value_smoothed'] = savgol_filter(df_long.loc[idx, 'value'], window_length=16, polyorder=3, deriv=0, delta=1.0, axis=-1, mode='interp', cval=None)"
   ]
  },
  {
   "cell_type": "code",
   "execution_count": null,
   "id": "a7274363-b2ef-4508-914e-add6ad4bebd1",
   "metadata": {
    "tags": []
   },
   "outputs": [],
   "source": [
    "# fig, ax = plt.subplots(figsize=(12, 8));\n",
    "# g = sns.lineplot(data=df_plot, x=\"doy\", y=\"value\", hue=\"year\", style=\"source\", estimator=None, lw=1, palette='viridis', ax=ax)\n",
    "# # g = sns.lineplot(data=df_plot, x=\"doy\", y=\"value_smoothed\", hue=\"year\", style=\"source\", estimator=None, lw=1, palette='viridis', ax=ax)"
   ]
  },
  {
   "cell_type": "code",
   "execution_count": null,
   "id": "7e2b8de7-0835-4d9d-be14-1ab017867d12",
   "metadata": {
    "tags": []
   },
   "outputs": [],
   "source": [
    "# fig, ax = plt.subplots(figsize=(12, 8));\n",
    "# g = sns.scatterplot(data=df_plot, x=\"doy\", y=\"value\", hue=\"year\", style=\"source\", palette='viridis', ax=ax)"
   ]
  },
  {
   "cell_type": "code",
   "execution_count": null,
   "id": "6ea64aa7-c368-444e-a2e7-68488c5bc3ee",
   "metadata": {
    "tags": []
   },
   "outputs": [],
   "source": [
    "# df_plot = df_long.query(\"reducer =='mean' and date.dt.year >= 2015 and variable == 'NDVI'\")"
   ]
  },
  {
   "cell_type": "code",
   "execution_count": null,
   "id": "5f9f6ae6-fb66-4e64-9046-5cfb395d26e2",
   "metadata": {},
   "outputs": [],
   "source": []
  }
 ],
 "metadata": {
  "kernelspec": {
   "display_name": "Bison-lab",
   "language": "python",
   "name": "bison-lab"
  },
  "language_info": {
   "codemirror_mode": {
    "name": "ipython",
    "version": 3
   },
   "file_extension": ".py",
   "mimetype": "text/x-python",
   "name": "python",
   "nbconvert_exporter": "python",
   "pygments_lexer": "ipython3",
   "version": "3.10.10"
  }
 },
 "nbformat": 4,
 "nbformat_minor": 5
}
